{
 "cells": [
  {
   "cell_type": "markdown",
   "metadata": {},
   "source": [
    "Привет! Меня зовут Анастасия. "
   ]
  },
  {
   "cell_type": "markdown",
   "metadata": {},
   "source": [
    "**Цель проекта:** провести приоритизацию гипотез для увеличения выручки интернет-магазина, запустить A/B тест и проанализировать полученные результаты.\n",
    "\n",
    "**Задачи**:\n",
    "\n",
    "1. Приоритизировать гипотезы с помощью техник ICE и RICE.\n",
    "2. Анализ A/B теста: \n",
    "   \n",
    "   - построение графиков кумулятивной выручки, среднего чека, среднего количества заказов по группам A и B\n",
    "   - поиск аномалий в значениях \n",
    "   - расчет статистической значимости между группами по сырым и \"очищенным\" данным\n",
    "\n",
    "3. Выводы"
   ]
  },
  {
   "cell_type": "markdown",
   "metadata": {},
   "source": [
    "**Данные:**\n",
    "\n",
    "Таблица **hypothesis**:\n",
    "    \n",
    "    Hypothesis — краткое описание гипотезы;\n",
    "    Reach — охват пользователей по 10-балльной шкале;\n",
    "    Impact — влияние на пользователей по 10-балльной шкале;\n",
    "    Confidence — уверенность в гипотезе по 10-балльной шкале;\n",
    "    Efforts — затраты ресурсов на проверку гипотезы по 10-балльной шкале. \n",
    "    \n",
    "Таблица **orders**: \n",
    "\n",
    "    transactionId — идентификатор заказа;\n",
    "    visitorId — идентификатор пользователя, совершившего заказ;\n",
    "    date — дата, когда был совершён заказ;\n",
    "    revenue — выручка заказа;\n",
    "    group — группа A/B-теста, в которую попал заказ.\n",
    "\n",
    "\n",
    "Таблица **visitors**:\n",
    "    \n",
    "    date — дата;\n",
    "    group — группа A/B-теста;\n",
    "    visitors — количество пользователей в указанную дату в указанной группе A/B-теста"
   ]
  },
  {
   "cell_type": "markdown",
   "metadata": {},
   "source": [
    "### Часть 1. Приоритизация гипотез."
   ]
  },
  {
   "cell_type": "code",
   "execution_count": 1,
   "metadata": {},
   "outputs": [],
   "source": [
    "import pandas as pd\n",
    "import seaborn as sns\n",
    "import matplotlib.pyplot as plt\n",
    "import numpy as np\n",
    "import scipy.stats as stats"
   ]
  },
  {
   "cell_type": "code",
   "execution_count": 2,
   "metadata": {},
   "outputs": [],
   "source": [
    "# для начала загрузим таблицу с гипотезами \n",
    "hypothesis = pd.read_csv('/datasets/hypothesis.csv')"
   ]
  },
  {
   "cell_type": "code",
   "execution_count": 3,
   "metadata": {},
   "outputs": [
    {
     "data": {
      "text/html": [
       "<div>\n",
       "<style scoped>\n",
       "    .dataframe tbody tr th:only-of-type {\n",
       "        vertical-align: middle;\n",
       "    }\n",
       "\n",
       "    .dataframe tbody tr th {\n",
       "        vertical-align: top;\n",
       "    }\n",
       "\n",
       "    .dataframe thead th {\n",
       "        text-align: right;\n",
       "    }\n",
       "</style>\n",
       "<table border=\"1\" class=\"dataframe\">\n",
       "  <thead>\n",
       "    <tr style=\"text-align: right;\">\n",
       "      <th></th>\n",
       "      <th>Hypothesis</th>\n",
       "      <th>Reach</th>\n",
       "      <th>Impact</th>\n",
       "      <th>Confidence</th>\n",
       "      <th>Efforts</th>\n",
       "    </tr>\n",
       "  </thead>\n",
       "  <tbody>\n",
       "    <tr>\n",
       "      <th>0</th>\n",
       "      <td>Добавить два новых канала привлечения трафика,...</td>\n",
       "      <td>3</td>\n",
       "      <td>10</td>\n",
       "      <td>8</td>\n",
       "      <td>6</td>\n",
       "    </tr>\n",
       "    <tr>\n",
       "      <th>1</th>\n",
       "      <td>Запустить собственную службу доставки, что сок...</td>\n",
       "      <td>2</td>\n",
       "      <td>5</td>\n",
       "      <td>4</td>\n",
       "      <td>10</td>\n",
       "    </tr>\n",
       "    <tr>\n",
       "      <th>2</th>\n",
       "      <td>Добавить блоки рекомендаций товаров на сайт ин...</td>\n",
       "      <td>8</td>\n",
       "      <td>3</td>\n",
       "      <td>7</td>\n",
       "      <td>3</td>\n",
       "    </tr>\n",
       "    <tr>\n",
       "      <th>3</th>\n",
       "      <td>Изменить структура категорий, что увеличит кон...</td>\n",
       "      <td>8</td>\n",
       "      <td>3</td>\n",
       "      <td>3</td>\n",
       "      <td>8</td>\n",
       "    </tr>\n",
       "    <tr>\n",
       "      <th>4</th>\n",
       "      <td>Изменить цвет фона главной страницы, чтобы уве...</td>\n",
       "      <td>3</td>\n",
       "      <td>1</td>\n",
       "      <td>1</td>\n",
       "      <td>1</td>\n",
       "    </tr>\n",
       "    <tr>\n",
       "      <th>5</th>\n",
       "      <td>Добавить страницу отзывов клиентов о магазине,...</td>\n",
       "      <td>3</td>\n",
       "      <td>2</td>\n",
       "      <td>2</td>\n",
       "      <td>3</td>\n",
       "    </tr>\n",
       "    <tr>\n",
       "      <th>6</th>\n",
       "      <td>Показать на главной странице баннеры с актуаль...</td>\n",
       "      <td>5</td>\n",
       "      <td>3</td>\n",
       "      <td>8</td>\n",
       "      <td>3</td>\n",
       "    </tr>\n",
       "    <tr>\n",
       "      <th>7</th>\n",
       "      <td>Добавить форму подписки на все основные страни...</td>\n",
       "      <td>10</td>\n",
       "      <td>7</td>\n",
       "      <td>8</td>\n",
       "      <td>5</td>\n",
       "    </tr>\n",
       "    <tr>\n",
       "      <th>8</th>\n",
       "      <td>Запустить акцию, дающую скидку на товар в день...</td>\n",
       "      <td>1</td>\n",
       "      <td>9</td>\n",
       "      <td>9</td>\n",
       "      <td>5</td>\n",
       "    </tr>\n",
       "  </tbody>\n",
       "</table>\n",
       "</div>"
      ],
      "text/plain": [
       "                                          Hypothesis  Reach  Impact  \\\n",
       "0  Добавить два новых канала привлечения трафика,...      3      10   \n",
       "1  Запустить собственную службу доставки, что сок...      2       5   \n",
       "2  Добавить блоки рекомендаций товаров на сайт ин...      8       3   \n",
       "3  Изменить структура категорий, что увеличит кон...      8       3   \n",
       "4  Изменить цвет фона главной страницы, чтобы уве...      3       1   \n",
       "5  Добавить страницу отзывов клиентов о магазине,...      3       2   \n",
       "6  Показать на главной странице баннеры с актуаль...      5       3   \n",
       "7  Добавить форму подписки на все основные страни...     10       7   \n",
       "8  Запустить акцию, дающую скидку на товар в день...      1       9   \n",
       "\n",
       "   Confidence  Efforts  \n",
       "0           8        6  \n",
       "1           4       10  \n",
       "2           7        3  \n",
       "3           3        8  \n",
       "4           1        1  \n",
       "5           2        3  \n",
       "6           8        3  \n",
       "7           8        5  \n",
       "8           9        5  "
      ]
     },
     "execution_count": 3,
     "metadata": {},
     "output_type": "execute_result"
    }
   ],
   "source": [
    "hypothesis"
   ]
  },
  {
   "cell_type": "code",
   "execution_count": 4,
   "metadata": {},
   "outputs": [],
   "source": [
    "#применим фреймворк ICE\n",
    "#формула ICE = Impact * Confidence / Efforts\n",
    "hypothesis['ICE'] = hypothesis['Impact'] * hypothesis['Confidence']/hypothesis['Efforts']"
   ]
  },
  {
   "cell_type": "code",
   "execution_count": 5,
   "metadata": {},
   "outputs": [
    {
     "data": {
      "text/html": [
       "<div>\n",
       "<style scoped>\n",
       "    .dataframe tbody tr th:only-of-type {\n",
       "        vertical-align: middle;\n",
       "    }\n",
       "\n",
       "    .dataframe tbody tr th {\n",
       "        vertical-align: top;\n",
       "    }\n",
       "\n",
       "    .dataframe thead th {\n",
       "        text-align: right;\n",
       "    }\n",
       "</style>\n",
       "<table border=\"1\" class=\"dataframe\">\n",
       "  <thead>\n",
       "    <tr style=\"text-align: right;\">\n",
       "      <th></th>\n",
       "      <th>Hypothesis</th>\n",
       "      <th>Reach</th>\n",
       "      <th>Impact</th>\n",
       "      <th>Confidence</th>\n",
       "      <th>Efforts</th>\n",
       "      <th>ICE</th>\n",
       "    </tr>\n",
       "  </thead>\n",
       "  <tbody>\n",
       "    <tr>\n",
       "      <th>8</th>\n",
       "      <td>Запустить акцию, дающую скидку на товар в день...</td>\n",
       "      <td>1</td>\n",
       "      <td>9</td>\n",
       "      <td>9</td>\n",
       "      <td>5</td>\n",
       "      <td>16.200000</td>\n",
       "    </tr>\n",
       "    <tr>\n",
       "      <th>0</th>\n",
       "      <td>Добавить два новых канала привлечения трафика,...</td>\n",
       "      <td>3</td>\n",
       "      <td>10</td>\n",
       "      <td>8</td>\n",
       "      <td>6</td>\n",
       "      <td>13.333333</td>\n",
       "    </tr>\n",
       "    <tr>\n",
       "      <th>7</th>\n",
       "      <td>Добавить форму подписки на все основные страни...</td>\n",
       "      <td>10</td>\n",
       "      <td>7</td>\n",
       "      <td>8</td>\n",
       "      <td>5</td>\n",
       "      <td>11.200000</td>\n",
       "    </tr>\n",
       "    <tr>\n",
       "      <th>6</th>\n",
       "      <td>Показать на главной странице баннеры с актуаль...</td>\n",
       "      <td>5</td>\n",
       "      <td>3</td>\n",
       "      <td>8</td>\n",
       "      <td>3</td>\n",
       "      <td>8.000000</td>\n",
       "    </tr>\n",
       "    <tr>\n",
       "      <th>2</th>\n",
       "      <td>Добавить блоки рекомендаций товаров на сайт ин...</td>\n",
       "      <td>8</td>\n",
       "      <td>3</td>\n",
       "      <td>7</td>\n",
       "      <td>3</td>\n",
       "      <td>7.000000</td>\n",
       "    </tr>\n",
       "    <tr>\n",
       "      <th>1</th>\n",
       "      <td>Запустить собственную службу доставки, что сок...</td>\n",
       "      <td>2</td>\n",
       "      <td>5</td>\n",
       "      <td>4</td>\n",
       "      <td>10</td>\n",
       "      <td>2.000000</td>\n",
       "    </tr>\n",
       "    <tr>\n",
       "      <th>5</th>\n",
       "      <td>Добавить страницу отзывов клиентов о магазине,...</td>\n",
       "      <td>3</td>\n",
       "      <td>2</td>\n",
       "      <td>2</td>\n",
       "      <td>3</td>\n",
       "      <td>1.333333</td>\n",
       "    </tr>\n",
       "    <tr>\n",
       "      <th>3</th>\n",
       "      <td>Изменить структура категорий, что увеличит кон...</td>\n",
       "      <td>8</td>\n",
       "      <td>3</td>\n",
       "      <td>3</td>\n",
       "      <td>8</td>\n",
       "      <td>1.125000</td>\n",
       "    </tr>\n",
       "    <tr>\n",
       "      <th>4</th>\n",
       "      <td>Изменить цвет фона главной страницы, чтобы уве...</td>\n",
       "      <td>3</td>\n",
       "      <td>1</td>\n",
       "      <td>1</td>\n",
       "      <td>1</td>\n",
       "      <td>1.000000</td>\n",
       "    </tr>\n",
       "  </tbody>\n",
       "</table>\n",
       "</div>"
      ],
      "text/plain": [
       "                                          Hypothesis  Reach  Impact  \\\n",
       "8  Запустить акцию, дающую скидку на товар в день...      1       9   \n",
       "0  Добавить два новых канала привлечения трафика,...      3      10   \n",
       "7  Добавить форму подписки на все основные страни...     10       7   \n",
       "6  Показать на главной странице баннеры с актуаль...      5       3   \n",
       "2  Добавить блоки рекомендаций товаров на сайт ин...      8       3   \n",
       "1  Запустить собственную службу доставки, что сок...      2       5   \n",
       "5  Добавить страницу отзывов клиентов о магазине,...      3       2   \n",
       "3  Изменить структура категорий, что увеличит кон...      8       3   \n",
       "4  Изменить цвет фона главной страницы, чтобы уве...      3       1   \n",
       "\n",
       "   Confidence  Efforts        ICE  \n",
       "8           9        5  16.200000  \n",
       "0           8        6  13.333333  \n",
       "7           8        5  11.200000  \n",
       "6           8        3   8.000000  \n",
       "2           7        3   7.000000  \n",
       "1           4       10   2.000000  \n",
       "5           2        3   1.333333  \n",
       "3           3        8   1.125000  \n",
       "4           1        1   1.000000  "
      ]
     },
     "execution_count": 5,
     "metadata": {},
     "output_type": "execute_result"
    }
   ],
   "source": [
    "hypothesis.sort_values(by = 'ICE', ascending = False)"
   ]
  },
  {
   "cell_type": "markdown",
   "metadata": {},
   "source": [
    "В начале списка оказывается гипотеза **\"Запустить акцию, дающую скидку на товар в день рождения\t\"**, так как оценено, что она имеет большое влияние на пользователей и средние усилия для реализации. "
   ]
  },
  {
   "cell_type": "code",
   "execution_count": 6,
   "metadata": {},
   "outputs": [],
   "source": [
    "#формула RICE = Reach * Impact * Confidence / Efforts\n",
    "hypothesis['RICE'] = hypothesis['Reach'] * hypothesis['Impact'] * hypothesis['Confidence']/hypothesis['Efforts']"
   ]
  },
  {
   "cell_type": "code",
   "execution_count": 7,
   "metadata": {},
   "outputs": [
    {
     "data": {
      "text/html": [
       "<div>\n",
       "<style scoped>\n",
       "    .dataframe tbody tr th:only-of-type {\n",
       "        vertical-align: middle;\n",
       "    }\n",
       "\n",
       "    .dataframe tbody tr th {\n",
       "        vertical-align: top;\n",
       "    }\n",
       "\n",
       "    .dataframe thead th {\n",
       "        text-align: right;\n",
       "    }\n",
       "</style>\n",
       "<table border=\"1\" class=\"dataframe\">\n",
       "  <thead>\n",
       "    <tr style=\"text-align: right;\">\n",
       "      <th></th>\n",
       "      <th>Hypothesis</th>\n",
       "      <th>Reach</th>\n",
       "      <th>Impact</th>\n",
       "      <th>Confidence</th>\n",
       "      <th>Efforts</th>\n",
       "      <th>ICE</th>\n",
       "      <th>RICE</th>\n",
       "    </tr>\n",
       "  </thead>\n",
       "  <tbody>\n",
       "    <tr>\n",
       "      <th>7</th>\n",
       "      <td>Добавить форму подписки на все основные страни...</td>\n",
       "      <td>10</td>\n",
       "      <td>7</td>\n",
       "      <td>8</td>\n",
       "      <td>5</td>\n",
       "      <td>11.200000</td>\n",
       "      <td>112.0</td>\n",
       "    </tr>\n",
       "    <tr>\n",
       "      <th>2</th>\n",
       "      <td>Добавить блоки рекомендаций товаров на сайт ин...</td>\n",
       "      <td>8</td>\n",
       "      <td>3</td>\n",
       "      <td>7</td>\n",
       "      <td>3</td>\n",
       "      <td>7.000000</td>\n",
       "      <td>56.0</td>\n",
       "    </tr>\n",
       "    <tr>\n",
       "      <th>0</th>\n",
       "      <td>Добавить два новых канала привлечения трафика,...</td>\n",
       "      <td>3</td>\n",
       "      <td>10</td>\n",
       "      <td>8</td>\n",
       "      <td>6</td>\n",
       "      <td>13.333333</td>\n",
       "      <td>40.0</td>\n",
       "    </tr>\n",
       "    <tr>\n",
       "      <th>6</th>\n",
       "      <td>Показать на главной странице баннеры с актуаль...</td>\n",
       "      <td>5</td>\n",
       "      <td>3</td>\n",
       "      <td>8</td>\n",
       "      <td>3</td>\n",
       "      <td>8.000000</td>\n",
       "      <td>40.0</td>\n",
       "    </tr>\n",
       "    <tr>\n",
       "      <th>8</th>\n",
       "      <td>Запустить акцию, дающую скидку на товар в день...</td>\n",
       "      <td>1</td>\n",
       "      <td>9</td>\n",
       "      <td>9</td>\n",
       "      <td>5</td>\n",
       "      <td>16.200000</td>\n",
       "      <td>16.2</td>\n",
       "    </tr>\n",
       "    <tr>\n",
       "      <th>3</th>\n",
       "      <td>Изменить структура категорий, что увеличит кон...</td>\n",
       "      <td>8</td>\n",
       "      <td>3</td>\n",
       "      <td>3</td>\n",
       "      <td>8</td>\n",
       "      <td>1.125000</td>\n",
       "      <td>9.0</td>\n",
       "    </tr>\n",
       "    <tr>\n",
       "      <th>1</th>\n",
       "      <td>Запустить собственную службу доставки, что сок...</td>\n",
       "      <td>2</td>\n",
       "      <td>5</td>\n",
       "      <td>4</td>\n",
       "      <td>10</td>\n",
       "      <td>2.000000</td>\n",
       "      <td>4.0</td>\n",
       "    </tr>\n",
       "    <tr>\n",
       "      <th>5</th>\n",
       "      <td>Добавить страницу отзывов клиентов о магазине,...</td>\n",
       "      <td>3</td>\n",
       "      <td>2</td>\n",
       "      <td>2</td>\n",
       "      <td>3</td>\n",
       "      <td>1.333333</td>\n",
       "      <td>4.0</td>\n",
       "    </tr>\n",
       "    <tr>\n",
       "      <th>4</th>\n",
       "      <td>Изменить цвет фона главной страницы, чтобы уве...</td>\n",
       "      <td>3</td>\n",
       "      <td>1</td>\n",
       "      <td>1</td>\n",
       "      <td>1</td>\n",
       "      <td>1.000000</td>\n",
       "      <td>3.0</td>\n",
       "    </tr>\n",
       "  </tbody>\n",
       "</table>\n",
       "</div>"
      ],
      "text/plain": [
       "                                          Hypothesis  Reach  Impact  \\\n",
       "7  Добавить форму подписки на все основные страни...     10       7   \n",
       "2  Добавить блоки рекомендаций товаров на сайт ин...      8       3   \n",
       "0  Добавить два новых канала привлечения трафика,...      3      10   \n",
       "6  Показать на главной странице баннеры с актуаль...      5       3   \n",
       "8  Запустить акцию, дающую скидку на товар в день...      1       9   \n",
       "3  Изменить структура категорий, что увеличит кон...      8       3   \n",
       "1  Запустить собственную службу доставки, что сок...      2       5   \n",
       "5  Добавить страницу отзывов клиентов о магазине,...      3       2   \n",
       "4  Изменить цвет фона главной страницы, чтобы уве...      3       1   \n",
       "\n",
       "   Confidence  Efforts        ICE   RICE  \n",
       "7           8        5  11.200000  112.0  \n",
       "2           7        3   7.000000   56.0  \n",
       "0           8        6  13.333333   40.0  \n",
       "6           8        3   8.000000   40.0  \n",
       "8           9        5  16.200000   16.2  \n",
       "3           3        8   1.125000    9.0  \n",
       "1           4       10   2.000000    4.0  \n",
       "5           2        3   1.333333    4.0  \n",
       "4           1        1   1.000000    3.0  "
      ]
     },
     "execution_count": 7,
     "metadata": {},
     "output_type": "execute_result"
    }
   ],
   "source": [
    "hypothesis.sort_values(by = 'RICE', ascending = False)"
   ]
  },
  {
   "cell_type": "markdown",
   "metadata": {},
   "source": [
    "С помощью техники RICE на первом месте гипотеза **\"Добавить два новых канала привлечения трафика, что позволит привлекать на 30% больше пользователей\"**, так как она имеет максимальный балл в столбце Reach, то есть охватыет всех пользователей, также имеет достаточно высокий увроень влияние и уверенности в ней. "
   ]
  },
  {
   "cell_type": "code",
   "execution_count": 8,
   "metadata": {},
   "outputs": [
    {
     "data": {
      "text/html": [
       "<style  type=\"text/css\" >\n",
       "#T_ca895_row0_col1{\n",
       "            background-color:  #05659f;\n",
       "            color:  #f1f1f1;\n",
       "        }#T_ca895_row0_col2,#T_ca895_row6_col2{\n",
       "            background-color:  #b3c3de;\n",
       "            color:  #000000;\n",
       "        }#T_ca895_row1_col1{\n",
       "            background-color:  #f5eff6;\n",
       "            color:  #000000;\n",
       "        }#T_ca895_row1_col2,#T_ca895_row3_col1,#T_ca895_row5_col2{\n",
       "            background-color:  #fef6fa;\n",
       "            color:  #000000;\n",
       "        }#T_ca895_row2_col1{\n",
       "            background-color:  #9ebad9;\n",
       "            color:  #000000;\n",
       "        }#T_ca895_row2_col2{\n",
       "            background-color:  #79abd0;\n",
       "            color:  #000000;\n",
       "        }#T_ca895_row3_col2{\n",
       "            background-color:  #f7f0f7;\n",
       "            color:  #000000;\n",
       "        }#T_ca895_row4_col1,#T_ca895_row4_col2{\n",
       "            background-color:  #fff7fb;\n",
       "            color:  #000000;\n",
       "        }#T_ca895_row5_col1{\n",
       "            background-color:  #fcf4fa;\n",
       "            color:  #000000;\n",
       "        }#T_ca895_row6_col1{\n",
       "            background-color:  #84b0d3;\n",
       "            color:  #000000;\n",
       "        }#T_ca895_row7_col1{\n",
       "            background-color:  #2484ba;\n",
       "            color:  #000000;\n",
       "        }#T_ca895_row7_col2,#T_ca895_row8_col1{\n",
       "            background-color:  #023858;\n",
       "            color:  #f1f1f1;\n",
       "        }#T_ca895_row8_col2{\n",
       "            background-color:  #ede7f2;\n",
       "            color:  #000000;\n",
       "        }</style><table id=\"T_ca895_\" ><thead>    <tr>        <th class=\"blank level0\" ></th>        <th class=\"col_heading level0 col0\" >Hypothesis</th>        <th class=\"col_heading level0 col1\" >ICE</th>        <th class=\"col_heading level0 col2\" >RICE</th>    </tr></thead><tbody>\n",
       "                <tr>\n",
       "                        <th id=\"T_ca895_level0_row0\" class=\"row_heading level0 row0\" >0</th>\n",
       "                        <td id=\"T_ca895_row0_col0\" class=\"data row0 col0\" >Добавить два новых канала привлечения трафика, что позволит привлекать на 30% больше пользователей</td>\n",
       "                        <td id=\"T_ca895_row0_col1\" class=\"data row0 col1\" >13.333333</td>\n",
       "                        <td id=\"T_ca895_row0_col2\" class=\"data row0 col2\" >40.000000</td>\n",
       "            </tr>\n",
       "            <tr>\n",
       "                        <th id=\"T_ca895_level0_row1\" class=\"row_heading level0 row1\" >1</th>\n",
       "                        <td id=\"T_ca895_row1_col0\" class=\"data row1 col0\" >Запустить собственную службу доставки, что сократит срок доставки заказов</td>\n",
       "                        <td id=\"T_ca895_row1_col1\" class=\"data row1 col1\" >2.000000</td>\n",
       "                        <td id=\"T_ca895_row1_col2\" class=\"data row1 col2\" >4.000000</td>\n",
       "            </tr>\n",
       "            <tr>\n",
       "                        <th id=\"T_ca895_level0_row2\" class=\"row_heading level0 row2\" >2</th>\n",
       "                        <td id=\"T_ca895_row2_col0\" class=\"data row2 col0\" >Добавить блоки рекомендаций товаров на сайт интернет магазина, чтобы повысить конверсию и средний чек заказа</td>\n",
       "                        <td id=\"T_ca895_row2_col1\" class=\"data row2 col1\" >7.000000</td>\n",
       "                        <td id=\"T_ca895_row2_col2\" class=\"data row2 col2\" >56.000000</td>\n",
       "            </tr>\n",
       "            <tr>\n",
       "                        <th id=\"T_ca895_level0_row3\" class=\"row_heading level0 row3\" >3</th>\n",
       "                        <td id=\"T_ca895_row3_col0\" class=\"data row3 col0\" >Изменить структура категорий, что увеличит конверсию, т.к. пользователи быстрее найдут нужный товар</td>\n",
       "                        <td id=\"T_ca895_row3_col1\" class=\"data row3 col1\" >1.125000</td>\n",
       "                        <td id=\"T_ca895_row3_col2\" class=\"data row3 col2\" >9.000000</td>\n",
       "            </tr>\n",
       "            <tr>\n",
       "                        <th id=\"T_ca895_level0_row4\" class=\"row_heading level0 row4\" >4</th>\n",
       "                        <td id=\"T_ca895_row4_col0\" class=\"data row4 col0\" >Изменить цвет фона главной страницы, чтобы увеличить вовлеченность пользователей</td>\n",
       "                        <td id=\"T_ca895_row4_col1\" class=\"data row4 col1\" >1.000000</td>\n",
       "                        <td id=\"T_ca895_row4_col2\" class=\"data row4 col2\" >3.000000</td>\n",
       "            </tr>\n",
       "            <tr>\n",
       "                        <th id=\"T_ca895_level0_row5\" class=\"row_heading level0 row5\" >5</th>\n",
       "                        <td id=\"T_ca895_row5_col0\" class=\"data row5 col0\" >Добавить страницу отзывов клиентов о магазине, что позволит увеличить количество заказов</td>\n",
       "                        <td id=\"T_ca895_row5_col1\" class=\"data row5 col1\" >1.333333</td>\n",
       "                        <td id=\"T_ca895_row5_col2\" class=\"data row5 col2\" >4.000000</td>\n",
       "            </tr>\n",
       "            <tr>\n",
       "                        <th id=\"T_ca895_level0_row6\" class=\"row_heading level0 row6\" >6</th>\n",
       "                        <td id=\"T_ca895_row6_col0\" class=\"data row6 col0\" >Показать на главной странице баннеры с актуальными акциями и распродажами, чтобы увеличить конверсию</td>\n",
       "                        <td id=\"T_ca895_row6_col1\" class=\"data row6 col1\" >8.000000</td>\n",
       "                        <td id=\"T_ca895_row6_col2\" class=\"data row6 col2\" >40.000000</td>\n",
       "            </tr>\n",
       "            <tr>\n",
       "                        <th id=\"T_ca895_level0_row7\" class=\"row_heading level0 row7\" >7</th>\n",
       "                        <td id=\"T_ca895_row7_col0\" class=\"data row7 col0\" >Добавить форму подписки на все основные страницы, чтобы собрать базу клиентов для email-рассылок</td>\n",
       "                        <td id=\"T_ca895_row7_col1\" class=\"data row7 col1\" >11.200000</td>\n",
       "                        <td id=\"T_ca895_row7_col2\" class=\"data row7 col2\" >112.000000</td>\n",
       "            </tr>\n",
       "            <tr>\n",
       "                        <th id=\"T_ca895_level0_row8\" class=\"row_heading level0 row8\" >8</th>\n",
       "                        <td id=\"T_ca895_row8_col0\" class=\"data row8 col0\" >Запустить акцию, дающую скидку на товар в день рождения</td>\n",
       "                        <td id=\"T_ca895_row8_col1\" class=\"data row8 col1\" >16.200000</td>\n",
       "                        <td id=\"T_ca895_row8_col2\" class=\"data row8 col2\" >16.200000</td>\n",
       "            </tr>\n",
       "    </tbody></table>"
      ],
      "text/plain": [
       "<pandas.io.formats.style.Styler at 0x7f57df9fa9a0>"
      ]
     },
     "execution_count": 8,
     "metadata": {},
     "output_type": "execute_result"
    }
   ],
   "source": [
    "hypothesis[['Hypothesis', 'ICE', 'RICE']].style.background_gradient()"
   ]
  },
  {
   "cell_type": "markdown",
   "metadata": {},
   "source": [
    "**Таким образом,** будем проверять гипотезу: **\"Добавить форму подписки на все основные страницы, чтобы собрать базу клиентов для email-рассылок\"**."
   ]
  },
  {
   "cell_type": "markdown",
   "metadata": {},
   "source": [
    "### Часть 2. Анализ A/B-теста"
   ]
  },
  {
   "cell_type": "code",
   "execution_count": 9,
   "metadata": {},
   "outputs": [],
   "source": [
    "# загрузим данные о заказах и посетителях \n",
    "orders = pd.read_csv('/datasets/orders.csv')\n",
    "visitors = pd.read_csv('/datasets/visitors.csv')"
   ]
  },
  {
   "cell_type": "code",
   "execution_count": 10,
   "metadata": {},
   "outputs": [
    {
     "data": {
      "text/html": [
       "<div>\n",
       "<style scoped>\n",
       "    .dataframe tbody tr th:only-of-type {\n",
       "        vertical-align: middle;\n",
       "    }\n",
       "\n",
       "    .dataframe tbody tr th {\n",
       "        vertical-align: top;\n",
       "    }\n",
       "\n",
       "    .dataframe thead th {\n",
       "        text-align: right;\n",
       "    }\n",
       "</style>\n",
       "<table border=\"1\" class=\"dataframe\">\n",
       "  <thead>\n",
       "    <tr style=\"text-align: right;\">\n",
       "      <th></th>\n",
       "      <th>transactionId</th>\n",
       "      <th>visitorId</th>\n",
       "      <th>date</th>\n",
       "      <th>revenue</th>\n",
       "      <th>group</th>\n",
       "    </tr>\n",
       "  </thead>\n",
       "  <tbody>\n",
       "    <tr>\n",
       "      <th>0</th>\n",
       "      <td>3667963787</td>\n",
       "      <td>3312258926</td>\n",
       "      <td>2019-08-15</td>\n",
       "      <td>1650</td>\n",
       "      <td>B</td>\n",
       "    </tr>\n",
       "    <tr>\n",
       "      <th>1</th>\n",
       "      <td>2804400009</td>\n",
       "      <td>3642806036</td>\n",
       "      <td>2019-08-15</td>\n",
       "      <td>730</td>\n",
       "      <td>B</td>\n",
       "    </tr>\n",
       "    <tr>\n",
       "      <th>2</th>\n",
       "      <td>2961555356</td>\n",
       "      <td>4069496402</td>\n",
       "      <td>2019-08-15</td>\n",
       "      <td>400</td>\n",
       "      <td>A</td>\n",
       "    </tr>\n",
       "    <tr>\n",
       "      <th>3</th>\n",
       "      <td>3797467345</td>\n",
       "      <td>1196621759</td>\n",
       "      <td>2019-08-15</td>\n",
       "      <td>9759</td>\n",
       "      <td>B</td>\n",
       "    </tr>\n",
       "    <tr>\n",
       "      <th>4</th>\n",
       "      <td>2282983706</td>\n",
       "      <td>2322279887</td>\n",
       "      <td>2019-08-15</td>\n",
       "      <td>2308</td>\n",
       "      <td>B</td>\n",
       "    </tr>\n",
       "  </tbody>\n",
       "</table>\n",
       "</div>"
      ],
      "text/plain": [
       "   transactionId   visitorId        date  revenue group\n",
       "0     3667963787  3312258926  2019-08-15     1650     B\n",
       "1     2804400009  3642806036  2019-08-15      730     B\n",
       "2     2961555356  4069496402  2019-08-15      400     A\n",
       "3     3797467345  1196621759  2019-08-15     9759     B\n",
       "4     2282983706  2322279887  2019-08-15     2308     B"
      ]
     },
     "execution_count": 10,
     "metadata": {},
     "output_type": "execute_result"
    }
   ],
   "source": [
    "orders.head()"
   ]
  },
  {
   "cell_type": "code",
   "execution_count": 11,
   "metadata": {},
   "outputs": [],
   "source": [
    "# приведем названия к нижнему регистру и удалим дубликаты\n",
    "orders = orders.rename({'transactionId': 'transaction_id', 'visitorId': 'visitor_id'}, axis = 'columns')\n",
    "orders = orders.drop_duplicates()"
   ]
  },
  {
   "cell_type": "code",
   "execution_count": 12,
   "metadata": {},
   "outputs": [
    {
     "name": "stdout",
     "output_type": "stream",
     "text": [
      "<class 'pandas.core.frame.DataFrame'>\n",
      "Int64Index: 1197 entries, 0 to 1196\n",
      "Data columns (total 5 columns):\n",
      " #   Column          Non-Null Count  Dtype \n",
      "---  ------          --------------  ----- \n",
      " 0   transaction_id  1197 non-null   int64 \n",
      " 1   visitor_id      1197 non-null   int64 \n",
      " 2   date            1197 non-null   object\n",
      " 3   revenue         1197 non-null   int64 \n",
      " 4   group           1197 non-null   object\n",
      "dtypes: int64(3), object(2)\n",
      "memory usage: 56.1+ KB\n"
     ]
    }
   ],
   "source": [
    "orders.info()"
   ]
  },
  {
   "cell_type": "code",
   "execution_count": 13,
   "metadata": {},
   "outputs": [],
   "source": [
    "#пропусков нет\n",
    "#необходимо перевести дату в формат datetime\n",
    "orders['date'] = pd.to_datetime(orders['date'], format = '%Y-%m-%d')"
   ]
  },
  {
   "cell_type": "code",
   "execution_count": 14,
   "metadata": {},
   "outputs": [
    {
     "data": {
      "text/html": [
       "<div>\n",
       "<style scoped>\n",
       "    .dataframe tbody tr th:only-of-type {\n",
       "        vertical-align: middle;\n",
       "    }\n",
       "\n",
       "    .dataframe tbody tr th {\n",
       "        vertical-align: top;\n",
       "    }\n",
       "\n",
       "    .dataframe thead th {\n",
       "        text-align: right;\n",
       "    }\n",
       "</style>\n",
       "<table border=\"1\" class=\"dataframe\">\n",
       "  <thead>\n",
       "    <tr style=\"text-align: right;\">\n",
       "      <th></th>\n",
       "      <th>date</th>\n",
       "      <th>group</th>\n",
       "      <th>visitors</th>\n",
       "    </tr>\n",
       "  </thead>\n",
       "  <tbody>\n",
       "    <tr>\n",
       "      <th>0</th>\n",
       "      <td>2019-08-01</td>\n",
       "      <td>A</td>\n",
       "      <td>719</td>\n",
       "    </tr>\n",
       "    <tr>\n",
       "      <th>1</th>\n",
       "      <td>2019-08-02</td>\n",
       "      <td>A</td>\n",
       "      <td>619</td>\n",
       "    </tr>\n",
       "    <tr>\n",
       "      <th>2</th>\n",
       "      <td>2019-08-03</td>\n",
       "      <td>A</td>\n",
       "      <td>507</td>\n",
       "    </tr>\n",
       "    <tr>\n",
       "      <th>3</th>\n",
       "      <td>2019-08-04</td>\n",
       "      <td>A</td>\n",
       "      <td>717</td>\n",
       "    </tr>\n",
       "    <tr>\n",
       "      <th>4</th>\n",
       "      <td>2019-08-05</td>\n",
       "      <td>A</td>\n",
       "      <td>756</td>\n",
       "    </tr>\n",
       "  </tbody>\n",
       "</table>\n",
       "</div>"
      ],
      "text/plain": [
       "         date group  visitors\n",
       "0  2019-08-01     A       719\n",
       "1  2019-08-02     A       619\n",
       "2  2019-08-03     A       507\n",
       "3  2019-08-04     A       717\n",
       "4  2019-08-05     A       756"
      ]
     },
     "execution_count": 14,
     "metadata": {},
     "output_type": "execute_result"
    }
   ],
   "source": [
    "visitors.head()"
   ]
  },
  {
   "cell_type": "code",
   "execution_count": 15,
   "metadata": {},
   "outputs": [
    {
     "name": "stdout",
     "output_type": "stream",
     "text": [
      "<class 'pandas.core.frame.DataFrame'>\n",
      "RangeIndex: 62 entries, 0 to 61\n",
      "Data columns (total 3 columns):\n",
      " #   Column    Non-Null Count  Dtype \n",
      "---  ------    --------------  ----- \n",
      " 0   date      62 non-null     object\n",
      " 1   group     62 non-null     object\n",
      " 2   visitors  62 non-null     int64 \n",
      "dtypes: int64(1), object(2)\n",
      "memory usage: 1.6+ KB\n"
     ]
    }
   ],
   "source": [
    "visitors.info()"
   ]
  },
  {
   "cell_type": "code",
   "execution_count": 16,
   "metadata": {},
   "outputs": [],
   "source": [
    "visitors = visitors.drop_duplicates()\n",
    "visitors['date'] = pd.to_datetime(visitors['date'], format = '%Y-%m-%d')"
   ]
  },
  {
   "cell_type": "code",
   "execution_count": 17,
   "metadata": {},
   "outputs": [
    {
     "data": {
      "text/plain": [
       "group\n",
       "A    557\n",
       "B    640\n",
       "Name: transaction_id, dtype: int64"
      ]
     },
     "execution_count": 17,
     "metadata": {},
     "output_type": "execute_result"
    }
   ],
   "source": [
    "#проверим, равное ли распределение пользователей по группам в тесте\n",
    "orders.groupby('group')['transaction_id'].count()"
   ]
  },
  {
   "cell_type": "code",
   "execution_count": 18,
   "metadata": {},
   "outputs": [
    {
     "data": {
      "text/plain": [
       "group\n",
       "1        973\n",
       "2         58\n",
       "dtype: int64"
      ]
     },
     "execution_count": 18,
     "metadata": {},
     "output_type": "execute_result"
    }
   ],
   "source": [
    "#проверим, не попали ли пользователи в 2 группы сразу\n",
    "orders.groupby('visitor_id').agg({'group': 'nunique'}).value_counts()"
   ]
  },
  {
   "cell_type": "markdown",
   "metadata": {},
   "source": [
    "**Выборки различаются по размеру**, в группе A на более чем 10% меньше людей. **Также 58 пользователей попали в 2 группы сразу, это менее 5% данных**, поэтому пока не будем их трогать."
   ]
  },
  {
   "cell_type": "markdown",
   "metadata": {},
   "source": [
    "#### 1. Постройте график кумулятивной выручки по группам."
   ]
  },
  {
   "cell_type": "code",
   "execution_count": 19,
   "metadata": {},
   "outputs": [],
   "source": [
    "#для начала рассчитаем кумулятивные величины для группы A\n",
    "def cum_columns(group, users_list = None):\n",
    "    \n",
    "    if users_list == None:\n",
    "        users_list = []\n",
    "    \n",
    "    table_cum = (\n",
    "    orders.loc[(orders['group'] == group) & (~orders['visitor_id'].isin(users_list))]\n",
    "    .groupby('date', as_index = False)\n",
    "    .agg({'revenue': 'sum', 'transaction_id':'nunique', 'visitor_id': 'nunique'})\n",
    "    .rename({'transaction_id': 'orders', 'visitor_id': 'buyers'}, axis = 'columns'))\n",
    "\n",
    "#посчитаем куммулятивную revenue и количество заказов \n",
    "    table_cum[['cum_revenue', 'cum_orders', 'cum_buyers']] = table_cum[['revenue', 'orders', 'buyers']].cumsum()\n",
    "\n",
    "    table_cum = table_cum.merge(visitors.query('group == @group'), left_on = 'date', right_on = 'date', how = 'left')\n",
    "    table_cum['cum_visitors'] = table_cum['visitors'].cumsum()\n",
    "    \n",
    "    return table_cum"
   ]
  },
  {
   "cell_type": "code",
   "execution_count": 20,
   "metadata": {},
   "outputs": [],
   "source": [
    "group_A = cum_columns(\"A\")"
   ]
  },
  {
   "cell_type": "code",
   "execution_count": 21,
   "metadata": {},
   "outputs": [
    {
     "data": {
      "text/html": [
       "<div>\n",
       "<style scoped>\n",
       "    .dataframe tbody tr th:only-of-type {\n",
       "        vertical-align: middle;\n",
       "    }\n",
       "\n",
       "    .dataframe tbody tr th {\n",
       "        vertical-align: top;\n",
       "    }\n",
       "\n",
       "    .dataframe thead th {\n",
       "        text-align: right;\n",
       "    }\n",
       "</style>\n",
       "<table border=\"1\" class=\"dataframe\">\n",
       "  <thead>\n",
       "    <tr style=\"text-align: right;\">\n",
       "      <th></th>\n",
       "      <th>date</th>\n",
       "      <th>revenue</th>\n",
       "      <th>orders</th>\n",
       "      <th>buyers</th>\n",
       "      <th>cum_revenue</th>\n",
       "      <th>cum_orders</th>\n",
       "      <th>cum_buyers</th>\n",
       "      <th>group</th>\n",
       "      <th>visitors</th>\n",
       "      <th>cum_visitors</th>\n",
       "    </tr>\n",
       "  </thead>\n",
       "  <tbody>\n",
       "    <tr>\n",
       "      <th>0</th>\n",
       "      <td>2019-08-01</td>\n",
       "      <td>148579</td>\n",
       "      <td>24</td>\n",
       "      <td>20</td>\n",
       "      <td>148579</td>\n",
       "      <td>24</td>\n",
       "      <td>20</td>\n",
       "      <td>A</td>\n",
       "      <td>719</td>\n",
       "      <td>719</td>\n",
       "    </tr>\n",
       "    <tr>\n",
       "      <th>1</th>\n",
       "      <td>2019-08-02</td>\n",
       "      <td>93822</td>\n",
       "      <td>20</td>\n",
       "      <td>19</td>\n",
       "      <td>242401</td>\n",
       "      <td>44</td>\n",
       "      <td>39</td>\n",
       "      <td>A</td>\n",
       "      <td>619</td>\n",
       "      <td>1338</td>\n",
       "    </tr>\n",
       "    <tr>\n",
       "      <th>2</th>\n",
       "      <td>2019-08-03</td>\n",
       "      <td>112473</td>\n",
       "      <td>24</td>\n",
       "      <td>24</td>\n",
       "      <td>354874</td>\n",
       "      <td>68</td>\n",
       "      <td>63</td>\n",
       "      <td>A</td>\n",
       "      <td>507</td>\n",
       "      <td>1845</td>\n",
       "    </tr>\n",
       "    <tr>\n",
       "      <th>3</th>\n",
       "      <td>2019-08-04</td>\n",
       "      <td>70825</td>\n",
       "      <td>16</td>\n",
       "      <td>15</td>\n",
       "      <td>425699</td>\n",
       "      <td>84</td>\n",
       "      <td>78</td>\n",
       "      <td>A</td>\n",
       "      <td>717</td>\n",
       "      <td>2562</td>\n",
       "    </tr>\n",
       "    <tr>\n",
       "      <th>4</th>\n",
       "      <td>2019-08-05</td>\n",
       "      <td>124218</td>\n",
       "      <td>25</td>\n",
       "      <td>25</td>\n",
       "      <td>549917</td>\n",
       "      <td>109</td>\n",
       "      <td>103</td>\n",
       "      <td>A</td>\n",
       "      <td>756</td>\n",
       "      <td>3318</td>\n",
       "    </tr>\n",
       "    <tr>\n",
       "      <th>5</th>\n",
       "      <td>2019-08-06</td>\n",
       "      <td>48484</td>\n",
       "      <td>18</td>\n",
       "      <td>15</td>\n",
       "      <td>598401</td>\n",
       "      <td>127</td>\n",
       "      <td>118</td>\n",
       "      <td>A</td>\n",
       "      <td>667</td>\n",
       "      <td>3985</td>\n",
       "    </tr>\n",
       "    <tr>\n",
       "      <th>6</th>\n",
       "      <td>2019-08-07</td>\n",
       "      <td>142417</td>\n",
       "      <td>18</td>\n",
       "      <td>18</td>\n",
       "      <td>740818</td>\n",
       "      <td>145</td>\n",
       "      <td>136</td>\n",
       "      <td>A</td>\n",
       "      <td>644</td>\n",
       "      <td>4629</td>\n",
       "    </tr>\n",
       "    <tr>\n",
       "      <th>7</th>\n",
       "      <td>2019-08-08</td>\n",
       "      <td>96279</td>\n",
       "      <td>16</td>\n",
       "      <td>16</td>\n",
       "      <td>837097</td>\n",
       "      <td>161</td>\n",
       "      <td>152</td>\n",
       "      <td>A</td>\n",
       "      <td>610</td>\n",
       "      <td>5239</td>\n",
       "    </tr>\n",
       "    <tr>\n",
       "      <th>8</th>\n",
       "      <td>2019-08-09</td>\n",
       "      <td>188506</td>\n",
       "      <td>16</td>\n",
       "      <td>14</td>\n",
       "      <td>1025603</td>\n",
       "      <td>177</td>\n",
       "      <td>166</td>\n",
       "      <td>A</td>\n",
       "      <td>617</td>\n",
       "      <td>5856</td>\n",
       "    </tr>\n",
       "    <tr>\n",
       "      <th>9</th>\n",
       "      <td>2019-08-10</td>\n",
       "      <td>210495</td>\n",
       "      <td>16</td>\n",
       "      <td>16</td>\n",
       "      <td>1236098</td>\n",
       "      <td>193</td>\n",
       "      <td>182</td>\n",
       "      <td>A</td>\n",
       "      <td>406</td>\n",
       "      <td>6262</td>\n",
       "    </tr>\n",
       "    <tr>\n",
       "      <th>10</th>\n",
       "      <td>2019-08-11</td>\n",
       "      <td>77585</td>\n",
       "      <td>13</td>\n",
       "      <td>13</td>\n",
       "      <td>1313683</td>\n",
       "      <td>206</td>\n",
       "      <td>195</td>\n",
       "      <td>A</td>\n",
       "      <td>718</td>\n",
       "      <td>6980</td>\n",
       "    </tr>\n",
       "    <tr>\n",
       "      <th>11</th>\n",
       "      <td>2019-08-12</td>\n",
       "      <td>249190</td>\n",
       "      <td>24</td>\n",
       "      <td>24</td>\n",
       "      <td>1562873</td>\n",
       "      <td>230</td>\n",
       "      <td>219</td>\n",
       "      <td>A</td>\n",
       "      <td>595</td>\n",
       "      <td>7575</td>\n",
       "    </tr>\n",
       "    <tr>\n",
       "      <th>12</th>\n",
       "      <td>2019-08-13</td>\n",
       "      <td>263638</td>\n",
       "      <td>14</td>\n",
       "      <td>14</td>\n",
       "      <td>1826511</td>\n",
       "      <td>244</td>\n",
       "      <td>233</td>\n",
       "      <td>A</td>\n",
       "      <td>748</td>\n",
       "      <td>8323</td>\n",
       "    </tr>\n",
       "    <tr>\n",
       "      <th>13</th>\n",
       "      <td>2019-08-14</td>\n",
       "      <td>64341</td>\n",
       "      <td>24</td>\n",
       "      <td>24</td>\n",
       "      <td>1890852</td>\n",
       "      <td>268</td>\n",
       "      <td>257</td>\n",
       "      <td>A</td>\n",
       "      <td>735</td>\n",
       "      <td>9058</td>\n",
       "    </tr>\n",
       "    <tr>\n",
       "      <th>14</th>\n",
       "      <td>2019-08-15</td>\n",
       "      <td>88205</td>\n",
       "      <td>15</td>\n",
       "      <td>15</td>\n",
       "      <td>1979057</td>\n",
       "      <td>283</td>\n",
       "      <td>272</td>\n",
       "      <td>A</td>\n",
       "      <td>628</td>\n",
       "      <td>9686</td>\n",
       "    </tr>\n",
       "    <tr>\n",
       "      <th>15</th>\n",
       "      <td>2019-08-16</td>\n",
       "      <td>99851</td>\n",
       "      <td>18</td>\n",
       "      <td>18</td>\n",
       "      <td>2078908</td>\n",
       "      <td>301</td>\n",
       "      <td>290</td>\n",
       "      <td>A</td>\n",
       "      <td>361</td>\n",
       "      <td>10047</td>\n",
       "    </tr>\n",
       "    <tr>\n",
       "      <th>16</th>\n",
       "      <td>2019-08-17</td>\n",
       "      <td>50861</td>\n",
       "      <td>10</td>\n",
       "      <td>9</td>\n",
       "      <td>2129769</td>\n",
       "      <td>311</td>\n",
       "      <td>299</td>\n",
       "      <td>A</td>\n",
       "      <td>412</td>\n",
       "      <td>10459</td>\n",
       "    </tr>\n",
       "    <tr>\n",
       "      <th>17</th>\n",
       "      <td>2019-08-18</td>\n",
       "      <td>72398</td>\n",
       "      <td>17</td>\n",
       "      <td>17</td>\n",
       "      <td>2202167</td>\n",
       "      <td>328</td>\n",
       "      <td>316</td>\n",
       "      <td>A</td>\n",
       "      <td>668</td>\n",
       "      <td>11127</td>\n",
       "    </tr>\n",
       "    <tr>\n",
       "      <th>18</th>\n",
       "      <td>2019-08-19</td>\n",
       "      <td>189743</td>\n",
       "      <td>22</td>\n",
       "      <td>22</td>\n",
       "      <td>2391910</td>\n",
       "      <td>350</td>\n",
       "      <td>338</td>\n",
       "      <td>A</td>\n",
       "      <td>502</td>\n",
       "      <td>11629</td>\n",
       "    </tr>\n",
       "    <tr>\n",
       "      <th>19</th>\n",
       "      <td>2019-08-20</td>\n",
       "      <td>77619</td>\n",
       "      <td>12</td>\n",
       "      <td>12</td>\n",
       "      <td>2469529</td>\n",
       "      <td>362</td>\n",
       "      <td>350</td>\n",
       "      <td>A</td>\n",
       "      <td>575</td>\n",
       "      <td>12204</td>\n",
       "    </tr>\n",
       "    <tr>\n",
       "      <th>20</th>\n",
       "      <td>2019-08-21</td>\n",
       "      <td>174309</td>\n",
       "      <td>23</td>\n",
       "      <td>22</td>\n",
       "      <td>2643838</td>\n",
       "      <td>385</td>\n",
       "      <td>372</td>\n",
       "      <td>A</td>\n",
       "      <td>646</td>\n",
       "      <td>12850</td>\n",
       "    </tr>\n",
       "    <tr>\n",
       "      <th>21</th>\n",
       "      <td>2019-08-22</td>\n",
       "      <td>112741</td>\n",
       "      <td>16</td>\n",
       "      <td>16</td>\n",
       "      <td>2756579</td>\n",
       "      <td>401</td>\n",
       "      <td>388</td>\n",
       "      <td>A</td>\n",
       "      <td>609</td>\n",
       "      <td>13459</td>\n",
       "    </tr>\n",
       "    <tr>\n",
       "      <th>22</th>\n",
       "      <td>2019-08-23</td>\n",
       "      <td>117788</td>\n",
       "      <td>25</td>\n",
       "      <td>25</td>\n",
       "      <td>2874367</td>\n",
       "      <td>426</td>\n",
       "      <td>413</td>\n",
       "      <td>A</td>\n",
       "      <td>468</td>\n",
       "      <td>13927</td>\n",
       "    </tr>\n",
       "    <tr>\n",
       "      <th>23</th>\n",
       "      <td>2019-08-24</td>\n",
       "      <td>127703</td>\n",
       "      <td>15</td>\n",
       "      <td>15</td>\n",
       "      <td>3002070</td>\n",
       "      <td>441</td>\n",
       "      <td>428</td>\n",
       "      <td>A</td>\n",
       "      <td>395</td>\n",
       "      <td>14322</td>\n",
       "    </tr>\n",
       "    <tr>\n",
       "      <th>24</th>\n",
       "      <td>2019-08-25</td>\n",
       "      <td>68634</td>\n",
       "      <td>10</td>\n",
       "      <td>10</td>\n",
       "      <td>3070704</td>\n",
       "      <td>451</td>\n",
       "      <td>438</td>\n",
       "      <td>A</td>\n",
       "      <td>621</td>\n",
       "      <td>14943</td>\n",
       "    </tr>\n",
       "    <tr>\n",
       "      <th>25</th>\n",
       "      <td>2019-08-26</td>\n",
       "      <td>157214</td>\n",
       "      <td>16</td>\n",
       "      <td>16</td>\n",
       "      <td>3227918</td>\n",
       "      <td>467</td>\n",
       "      <td>454</td>\n",
       "      <td>A</td>\n",
       "      <td>722</td>\n",
       "      <td>15665</td>\n",
       "    </tr>\n",
       "    <tr>\n",
       "      <th>26</th>\n",
       "      <td>2019-08-27</td>\n",
       "      <td>286780</td>\n",
       "      <td>28</td>\n",
       "      <td>28</td>\n",
       "      <td>3514698</td>\n",
       "      <td>495</td>\n",
       "      <td>482</td>\n",
       "      <td>A</td>\n",
       "      <td>711</td>\n",
       "      <td>16376</td>\n",
       "    </tr>\n",
       "    <tr>\n",
       "      <th>27</th>\n",
       "      <td>2019-08-28</td>\n",
       "      <td>101122</td>\n",
       "      <td>17</td>\n",
       "      <td>17</td>\n",
       "      <td>3615820</td>\n",
       "      <td>512</td>\n",
       "      <td>499</td>\n",
       "      <td>A</td>\n",
       "      <td>594</td>\n",
       "      <td>16970</td>\n",
       "    </tr>\n",
       "    <tr>\n",
       "      <th>28</th>\n",
       "      <td>2019-08-29</td>\n",
       "      <td>320690</td>\n",
       "      <td>22</td>\n",
       "      <td>22</td>\n",
       "      <td>3936510</td>\n",
       "      <td>534</td>\n",
       "      <td>521</td>\n",
       "      <td>A</td>\n",
       "      <td>577</td>\n",
       "      <td>17547</td>\n",
       "    </tr>\n",
       "    <tr>\n",
       "      <th>29</th>\n",
       "      <td>2019-08-30</td>\n",
       "      <td>86460</td>\n",
       "      <td>11</td>\n",
       "      <td>10</td>\n",
       "      <td>4022970</td>\n",
       "      <td>545</td>\n",
       "      <td>531</td>\n",
       "      <td>A</td>\n",
       "      <td>490</td>\n",
       "      <td>18037</td>\n",
       "    </tr>\n",
       "    <tr>\n",
       "      <th>30</th>\n",
       "      <td>2019-08-31</td>\n",
       "      <td>61833</td>\n",
       "      <td>12</td>\n",
       "      <td>12</td>\n",
       "      <td>4084803</td>\n",
       "      <td>557</td>\n",
       "      <td>543</td>\n",
       "      <td>A</td>\n",
       "      <td>699</td>\n",
       "      <td>18736</td>\n",
       "    </tr>\n",
       "  </tbody>\n",
       "</table>\n",
       "</div>"
      ],
      "text/plain": [
       "         date  revenue  orders  buyers  cum_revenue  cum_orders  cum_buyers  \\\n",
       "0  2019-08-01   148579      24      20       148579          24          20   \n",
       "1  2019-08-02    93822      20      19       242401          44          39   \n",
       "2  2019-08-03   112473      24      24       354874          68          63   \n",
       "3  2019-08-04    70825      16      15       425699          84          78   \n",
       "4  2019-08-05   124218      25      25       549917         109         103   \n",
       "5  2019-08-06    48484      18      15       598401         127         118   \n",
       "6  2019-08-07   142417      18      18       740818         145         136   \n",
       "7  2019-08-08    96279      16      16       837097         161         152   \n",
       "8  2019-08-09   188506      16      14      1025603         177         166   \n",
       "9  2019-08-10   210495      16      16      1236098         193         182   \n",
       "10 2019-08-11    77585      13      13      1313683         206         195   \n",
       "11 2019-08-12   249190      24      24      1562873         230         219   \n",
       "12 2019-08-13   263638      14      14      1826511         244         233   \n",
       "13 2019-08-14    64341      24      24      1890852         268         257   \n",
       "14 2019-08-15    88205      15      15      1979057         283         272   \n",
       "15 2019-08-16    99851      18      18      2078908         301         290   \n",
       "16 2019-08-17    50861      10       9      2129769         311         299   \n",
       "17 2019-08-18    72398      17      17      2202167         328         316   \n",
       "18 2019-08-19   189743      22      22      2391910         350         338   \n",
       "19 2019-08-20    77619      12      12      2469529         362         350   \n",
       "20 2019-08-21   174309      23      22      2643838         385         372   \n",
       "21 2019-08-22   112741      16      16      2756579         401         388   \n",
       "22 2019-08-23   117788      25      25      2874367         426         413   \n",
       "23 2019-08-24   127703      15      15      3002070         441         428   \n",
       "24 2019-08-25    68634      10      10      3070704         451         438   \n",
       "25 2019-08-26   157214      16      16      3227918         467         454   \n",
       "26 2019-08-27   286780      28      28      3514698         495         482   \n",
       "27 2019-08-28   101122      17      17      3615820         512         499   \n",
       "28 2019-08-29   320690      22      22      3936510         534         521   \n",
       "29 2019-08-30    86460      11      10      4022970         545         531   \n",
       "30 2019-08-31    61833      12      12      4084803         557         543   \n",
       "\n",
       "   group  visitors  cum_visitors  \n",
       "0      A       719           719  \n",
       "1      A       619          1338  \n",
       "2      A       507          1845  \n",
       "3      A       717          2562  \n",
       "4      A       756          3318  \n",
       "5      A       667          3985  \n",
       "6      A       644          4629  \n",
       "7      A       610          5239  \n",
       "8      A       617          5856  \n",
       "9      A       406          6262  \n",
       "10     A       718          6980  \n",
       "11     A       595          7575  \n",
       "12     A       748          8323  \n",
       "13     A       735          9058  \n",
       "14     A       628          9686  \n",
       "15     A       361         10047  \n",
       "16     A       412         10459  \n",
       "17     A       668         11127  \n",
       "18     A       502         11629  \n",
       "19     A       575         12204  \n",
       "20     A       646         12850  \n",
       "21     A       609         13459  \n",
       "22     A       468         13927  \n",
       "23     A       395         14322  \n",
       "24     A       621         14943  \n",
       "25     A       722         15665  \n",
       "26     A       711         16376  \n",
       "27     A       594         16970  \n",
       "28     A       577         17547  \n",
       "29     A       490         18037  \n",
       "30     A       699         18736  "
      ]
     },
     "execution_count": 21,
     "metadata": {},
     "output_type": "execute_result"
    }
   ],
   "source": [
    "group_A"
   ]
  },
  {
   "cell_type": "code",
   "execution_count": 22,
   "metadata": {},
   "outputs": [],
   "source": [
    "group_B = cum_columns(\"B\")"
   ]
  },
  {
   "cell_type": "code",
   "execution_count": 23,
   "metadata": {},
   "outputs": [
    {
     "data": {
      "image/png": "[encoded data removed]",
      "text/plain": [
       "<Figure size 576x432 with 1 Axes>"
      ]
     },
     "metadata": {
      "needs_background": "light"
     },
     "output_type": "display_data"
    }
   ],
   "source": [
    "plt.figure(figsize = (8, 6))\n",
    "plt.plot(group_A['date'], group_A['cum_revenue'], label = 'A')\n",
    "plt.plot(group_B['date'], group_B['cum_revenue'], label = 'B')\n",
    "plt.legend()\n",
    "plt.title('График кумулятивной выручки по группам')\n",
    "plt.xticks(rotation = 45)\n",
    "plt.xlabel('Дата')\n",
    "plt.ylabel('revenue')\n",
    "plt.grid();"
   ]
  },
  {
   "cell_type": "markdown",
   "metadata": {},
   "source": [
    "Из графика видно, что выручка кумулятивная выручка для двух групп увеличивается во время всего теста, при этом **кумулятивная выручка группы B всегда находилась выше**, кроме первых дней эксперимента. \n",
    "\n",
    "**Виден резкий скачек** в кумулятивной выручке **для группы B** после 17 числа, что может быть вызвано резким увеличением количества заказов или появлении очень дорогих заказах. Также стоит проверить не увеличилось ли число посетителей в эти даты для группы B.  \n",
    "\n",
    "К концу месяца ***кумулятивная выручка группы A составляет 4 млн., группы B - 5,9 млн.***."
   ]
  },
  {
   "cell_type": "code",
   "execution_count": 24,
   "metadata": {},
   "outputs": [
    {
     "data": {
      "image/png": "[encoded data removed]",
      "text/plain": [
       "<Figure size 1080x432 with 2 Axes>"
      ]
     },
     "metadata": {
      "needs_background": "light"
     },
     "output_type": "display_data"
    }
   ],
   "source": [
    "# проверим что не было всплесков посетителей\n",
    "fig, axs = plt.subplots(2, 1, figsize=(15, 6))\n",
    "\n",
    "plt.subplot(1, 2, 1)\n",
    "plt.plot(visitors['date'].unique(), visitors.query('group == \"A\"')['visitors'])\n",
    "plt.xticks(rotation = 45)\n",
    "plt.title('Количество посетителей группы A по дням')\n",
    "plt.grid()\n",
    "\n",
    "plt.subplot(1, 2, 2)\n",
    "plt.plot(visitors['date'].unique(), visitors.query('group == \"B\"')['visitors'])\n",
    "plt.xticks(rotation = 45)\n",
    "plt.title('Количество посетителей группы B по дням')\n",
    "plt.grid();"
   ]
  },
  {
   "cell_type": "markdown",
   "metadata": {},
   "source": [
    "Из двух графиков видно, что количество посетителей распределяется почти одинаково для двух групп и **резкого всплеска после 17 числа не обнаружено.**"
   ]
  },
  {
   "cell_type": "markdown",
   "metadata": {},
   "source": [
    "#### 2.Постройте график кумулятивного среднего чека по группам. "
   ]
  },
  {
   "cell_type": "code",
   "execution_count": 25,
   "metadata": {},
   "outputs": [
    {
     "data": {
      "image/png": "[encoded data removed]",
      "text/plain": [
       "<Figure size 576x432 with 1 Axes>"
      ]
     },
     "metadata": {
      "needs_background": "light"
     },
     "output_type": "display_data"
    }
   ],
   "source": [
    "#разделим кумулятивную выручку на кумулятивное кол-во заказов \n",
    "plt.figure(figsize = (8, 6))\n",
    "plt.plot(group_A['date'], group_A['cum_revenue']/group_A['cum_orders'], label = 'A')\n",
    "plt.plot(group_B['date'], group_B['cum_revenue']/group_B['cum_orders'], label = 'B')\n",
    "plt.legend()\n",
    "plt.title('График кумулятивного среднего чека по группам')\n",
    "plt.xticks(rotation = 45)\n",
    "plt.xlabel('Дата')\n",
    "plt.ylabel('Средний чек')\n",
    "plt.grid();"
   ]
  },
  {
   "cell_type": "markdown",
   "metadata": {},
   "source": [
    "На графике так же виден **всплеск после 17 числа для группы B**, что может указывать на то, что в выборку попали очень дорогие заказы. \n",
    "\n",
    "**Предположение:** группа B будет постепенно снижаться и подходить к реальному среднему чеку, таким образом, есть вероятность, что линии сойдутся. "
   ]
  },
  {
   "cell_type": "markdown",
   "metadata": {},
   "source": [
    "#### 3.Постройте график относительного изменения кумулятивного среднего чека группы B к группе A."
   ]
  },
  {
   "cell_type": "code",
   "execution_count": 26,
   "metadata": {},
   "outputs": [
    {
     "data": {
      "image/png": "[encoded data removed]",
      "text/plain": [
       "<Figure size 576x432 with 1 Axes>"
      ]
     },
     "metadata": {
      "needs_background": "light"
     },
     "output_type": "display_data"
    }
   ],
   "source": [
    "plt.figure(figsize = (8, 6))\n",
    "plt.plot(group_A['date'], (group_B['cum_revenue']/group_B['cum_orders'])/(group_A['cum_revenue']/group_A['cum_orders'])-1)\n",
    "\n",
    "#добавим ось y=0\n",
    "plt.axhline(y=0, color='black', linestyle='--') \n",
    "\n",
    "plt.xticks(rotation = 45)\n",
    "plt.xlabel('Дата')\n",
    "plt.grid();"
   ]
  },
  {
   "cell_type": "markdown",
   "metadata": {},
   "source": [
    "На графике видны достаточно резкие колебания, что скорее всего связано с выбросами слишком дорогих заказов. "
   ]
  },
  {
   "cell_type": "markdown",
   "metadata": {},
   "source": [
    "#### 4.Постройте график кумулятивного среднего количества заказов на посетителя по группам."
   ]
  },
  {
   "cell_type": "code",
   "execution_count": 27,
   "metadata": {},
   "outputs": [
    {
     "data": {
      "image/png": "[encoded data removed]",
      "text/plain": [
       "<Figure size 576x432 with 1 Axes>"
      ]
     },
     "metadata": {
      "needs_background": "light"
     },
     "output_type": "display_data"
    }
   ],
   "source": [
    "# разделим кумулятивное количество заказов на кумулятивное количество посетителей\n",
    "\n",
    "plt.figure(figsize = (8, 6))\n",
    "plt.plot(group_A['date'], group_A['cum_orders']/group_A['cum_visitors'], label = 'A')\n",
    "plt.plot(group_B['date'], group_B['cum_orders']/group_B['cum_visitors'], label = 'B')\n",
    "plt.legend()\n",
    "plt.title('График кумулятивного среднего кол-ва заказов по группам')\n",
    "plt.xticks(rotation = 45)\n",
    "plt.xlabel('Дата')\n",
    "plt.ylabel('Среднее кол-во заказов')\n",
    "plt.grid();"
   ]
  },
  {
   "cell_type": "markdown",
   "metadata": {},
   "source": [
    "Исходя из графика можно сказать, что **для группы B среднее количество заказов на пользователей стабильно выше**, чем для группы A, хотя значения колебаний небольшие. \n",
    "\n",
    "Стоит заметить, что на данном графике нет резких всплесков после 17 числа. "
   ]
  },
  {
   "cell_type": "markdown",
   "metadata": {},
   "source": [
    "#### 5.Постройте график относительного изменения кумулятивного среднего количества заказов на посетителя группы B к группе A. "
   ]
  },
  {
   "cell_type": "code",
   "execution_count": 28,
   "metadata": {},
   "outputs": [
    {
     "data": {
      "image/png": "[encoded data removed]",
      "text/plain": [
       "<Figure size 576x432 with 1 Axes>"
      ]
     },
     "metadata": {
      "needs_background": "light"
     },
     "output_type": "display_data"
    }
   ],
   "source": [
    "plt.figure(figsize = (8, 6))\n",
    "plt.plot(group_A['date'], (group_B['cum_orders']/group_B['cum_visitors'])/(group_A['cum_orders']/group_A['cum_visitors'])-1)\n",
    "\n",
    "#добавим ось y=0\n",
    "plt.axhline(y=0, color='black', linestyle='--') \n",
    "\n",
    "plt.xticks(rotation = 45)\n",
    "plt.xlabel('Дата')\n",
    "plt.grid();"
   ]
  },
  {
   "cell_type": "markdown",
   "metadata": {},
   "source": [
    "Видно, что с определенной даты в начале эксперимента группа B стабильно была выше. К концу месяца график имеет тенденцию к повышению, возможно, еще не установился."
   ]
  },
  {
   "cell_type": "markdown",
   "metadata": {},
   "source": [
    "#### 6. Постройте точечный график количества заказов по пользователям. "
   ]
  },
  {
   "cell_type": "code",
   "execution_count": 29,
   "metadata": {},
   "outputs": [],
   "source": [
    "# найдем сколько заказов сделал каждый уникальный пользователь\n",
    "orders_per_user = (\n",
    "    orders.groupby('visitor_id', as_index = False)\n",
    "    .agg({'transaction_id': 'nunique'})\n",
    "    .rename({'transaction_id': 'orders'}, axis = 'columns'))"
   ]
  },
  {
   "cell_type": "code",
   "execution_count": 30,
   "metadata": {},
   "outputs": [
    {
     "data": {
      "image/png": "[encoded data removed]",
      "text/plain": [
       "<Figure size 576x432 with 1 Axes>"
      ]
     },
     "metadata": {
      "needs_background": "light"
     },
     "output_type": "display_data"
    }
   ],
   "source": [
    "x_values = pd.Series(range(0, len(orders_per_user)))\n",
    "plt.figure(figsize = (8,6))\n",
    "plt.ylabel('Количество заказов')\n",
    "plt.scatter(x_values, orders_per_user['orders']);"
   ]
  },
  {
   "cell_type": "markdown",
   "metadata": {},
   "source": [
    "На графике видны аномальные значения - **более 4 заказов**. Большинство пользователей совершают по одному заказу, реже по 2."
   ]
  },
  {
   "cell_type": "markdown",
   "metadata": {},
   "source": [
    "#### 7. Посчитайте 95-й и 99-й перцентили количества заказов на пользователя. "
   ]
  },
  {
   "cell_type": "code",
   "execution_count": 31,
   "metadata": {},
   "outputs": [
    {
     "data": {
      "text/plain": [
       "array([2., 4.])"
      ]
     },
     "execution_count": 31,
     "metadata": {},
     "output_type": "execute_result"
    }
   ],
   "source": [
    "np.percentile(orders_per_user['orders'], [95, 99])"
   ]
  },
  {
   "cell_type": "markdown",
   "metadata": {},
   "source": [
    "99% выборки заказывают менее 4 заказов. Думаю, **оптимальной верхней границей количества заказов на пользователя** исходя из перцентилей и точечного графика **будет значения 3-х и менее заказов.**"
   ]
  },
  {
   "cell_type": "markdown",
   "metadata": {},
   "source": [
    "#### 8. Постройте точечный график стоимостей заказов. "
   ]
  },
  {
   "cell_type": "code",
   "execution_count": 32,
   "metadata": {},
   "outputs": [
    {
     "data": {
      "image/png": "[encoded data removed]",
      "text/plain": [
       "<Figure size 576x432 with 1 Axes>"
      ]
     },
     "metadata": {
      "needs_background": "light"
     },
     "output_type": "display_data"
    }
   ],
   "source": [
    "x_values = pd.Series(range(0, len(orders['revenue'])))\n",
    "\n",
    "plt.figure(figsize = (8,6))\n",
    "plt.ylabel('Стоимость заказа')\n",
    "plt.scatter(x_values, orders['revenue'])\n",
    "plt.grid();"
   ]
  },
  {
   "cell_type": "markdown",
   "metadata": {},
   "source": [
    "Сразу же заметен **сильный выброс в верху графика.** В целом **большая часть значений находится в диапазоне до 100 000**, но точную границу по графику определить сложно. "
   ]
  },
  {
   "cell_type": "markdown",
   "metadata": {},
   "source": [
    "#### 9. Посчитайте 95-й и 99-й перцентили стоимости заказов. "
   ]
  },
  {
   "cell_type": "code",
   "execution_count": 33,
   "metadata": {},
   "outputs": [
    {
     "data": {
      "text/plain": [
       "array([28000. , 58233.2])"
      ]
     },
     "execution_count": 33,
     "metadata": {},
     "output_type": "execute_result"
    }
   ],
   "source": [
    "np.percentile(orders['revenue'], [95, 99])"
   ]
  },
  {
   "cell_type": "markdown",
   "metadata": {},
   "source": [
    "Значения 95 и 99 перцентилей отличаются почти в 2 раза, считаю, что в данном случае оптимально взять **значения 28 000 для нижнего предела аномальных значений.** Таким образом, не будем учитывать 60 заказов. "
   ]
  },
  {
   "cell_type": "code",
   "execution_count": 34,
   "metadata": {},
   "outputs": [
    {
     "data": {
      "text/plain": [
       "60"
      ]
     },
     "execution_count": 34,
     "metadata": {},
     "output_type": "execute_result"
    }
   ],
   "source": [
    "orders[orders['revenue'] > 28000]['revenue'].count()"
   ]
  },
  {
   "cell_type": "markdown",
   "metadata": {},
   "source": [
    "#### 10. Посчитайте статистическую значимость различий в среднем количестве заказов на посетителя между группами по «сырым» данным. "
   ]
  },
  {
   "cell_type": "markdown",
   "metadata": {},
   "source": [
    "**α**= 0.05\n",
    "\n",
    "**H0:** Между выборками нет статистически значимых различий. \n",
    "\n",
    "**H1:** Между выборками есть статистически значимые различия. "
   ]
  },
  {
   "cell_type": "code",
   "execution_count": 35,
   "metadata": {},
   "outputs": [],
   "source": [
    "# создадим функцию avg_amount\n",
    "#найдем сколько заказов из группы A на одного пользователя из тех, кто заказывал\n",
    "\n",
    "def avg_amount(group, user_list=None):\n",
    "    \n",
    "    if user_list == None:\n",
    "        user_list = []\n",
    "    \n",
    "    orders_per_user = (\n",
    "    orders.loc[(orders['group'] == group) & (~orders['visitor_id'].isin(user_list))]\n",
    "    .groupby('visitor_id', as_index = False)\n",
    "    .agg({'transaction_id': pd.Series.nunique})\n",
    "     )\n",
    "\n",
    "#затем создадим массив из 0, для тех посетителей, который не совершили ни одного заказа\n",
    "    massive = pd.Series(\n",
    "        0, index = np.arange(\n",
    "            visitors.loc[visitors['group'] == group]['visitors'].sum()-\\\n",
    "            orders.loc[(orders['group'] == group) & (~orders['visitor_id'].isin(user_list))]['transaction_id'].count()), \\\n",
    "        name = 'orders')\n",
    "\n",
    "#соединим тех, кто заказывал и тех, кто нет с помощью метода pd.concat\n",
    "    sample = pd.concat([orders_per_user['transaction_id'], massive], axis = 0)\n",
    "    \n",
    "    return sample"
   ]
  },
  {
   "cell_type": "code",
   "execution_count": 36,
   "metadata": {},
   "outputs": [
    {
     "data": {
      "text/plain": [
       "8837     0\n",
       "11954    0\n",
       "11953    0\n",
       "11952    0\n",
       "11951    0\n",
       "        ..\n",
       "18       4\n",
       "23       4\n",
       "227      5\n",
       "278      5\n",
       "499      7\n",
       "Length: 18682, dtype: int64"
      ]
     },
     "execution_count": 36,
     "metadata": {},
     "output_type": "execute_result"
    }
   ],
   "source": [
    "sample_A = avg_amount('A')\n",
    "sample_A.sort_values()"
   ]
  },
  {
   "cell_type": "code",
   "execution_count": 37,
   "metadata": {},
   "outputs": [
    {
     "data": {
      "text/plain": [
       "8844     0\n",
       "11991    0\n",
       "11990    0\n",
       "11989    0\n",
       "11988    0\n",
       "        ..\n",
       "424      4\n",
       "580      4\n",
       "501      4\n",
       "326      5\n",
       "340      6\n",
       "Length: 18862, dtype: int64"
      ]
     },
     "execution_count": 37,
     "metadata": {},
     "output_type": "execute_result"
    }
   ],
   "source": [
    "sample_B = avg_amount('B')\n",
    "sample_B.sort_values()"
   ]
  },
  {
   "cell_type": "markdown",
   "metadata": {},
   "source": [
    "При сортировке **нет аномальных значений более 10**, которые были ранее замечены на точечном графике. Скорее всего, это именно те пользователи, которые оказались в двух группах сразу. "
   ]
  },
  {
   "cell_type": "code",
   "execution_count": 38,
   "metadata": {},
   "outputs": [
    {
     "data": {
      "text/plain": [
       "0.016808879485290057"
      ]
     },
     "execution_count": 38,
     "metadata": {},
     "output_type": "execute_result"
    }
   ],
   "source": [
    "stats.mannwhitneyu(sample_A, sample_B)[1]"
   ]
  },
  {
   "cell_type": "markdown",
   "metadata": {},
   "source": [
    "Полученное значение менее 0.05, соответственно нулевую гипотезу можно отвергнуть. \n",
    "\n",
    "**Вывод: По «сырым» данным различия в среднем количестве заказов на посететиля между группами A и B есть**"
   ]
  },
  {
   "cell_type": "markdown",
   "metadata": {},
   "source": [
    "#### 11. Посчитайте статистическую значимость различий в среднем чеке заказа между группами по «сырым» данным."
   ]
  },
  {
   "cell_type": "code",
   "execution_count": 39,
   "metadata": {},
   "outputs": [
    {
     "data": {
      "text/plain": [
       "0.7292909855432458"
      ]
     },
     "execution_count": 39,
     "metadata": {},
     "output_type": "execute_result"
    }
   ],
   "source": [
    "stats.mannwhitneyu(orders[orders['group']=='A']['revenue'], orders[orders['group']=='B']['revenue'])[1]"
   ]
  },
  {
   "cell_type": "markdown",
   "metadata": {},
   "source": [
    "Полученное значение больше 0.05, соответственно нулевую гипотезу нельзя отвергнуть.\n",
    "\n",
    "**Вывод: По «сырым» данным различий в среднем чеке заказа между группами A и B нет.**"
   ]
  },
  {
   "cell_type": "markdown",
   "metadata": {},
   "source": [
    "#### 12. Посчитайте статистическую значимость различий в среднем количестве заказов на посетителя между группами по «очищенным» данным."
   ]
  },
  {
   "cell_type": "code",
   "execution_count": 40,
   "metadata": {},
   "outputs": [],
   "source": [
    "# рассчитаем количество заказов на каждого пользователя\n",
    "orders_per_user = (orders\n",
    "    .groupby('visitor_id', as_index = False)\n",
    "    .agg({'transaction_id': pd.Series.nunique})\n",
    ")\n",
    "\n",
    "# запишем в список пользователей, которые сделали заказ более 3 раз\n",
    "abnormal_users = orders_per_user.query('transaction_id > 3')['visitor_id'].to_list()"
   ]
  },
  {
   "cell_type": "code",
   "execution_count": 41,
   "metadata": {},
   "outputs": [],
   "source": [
    "#найдем тех пользователей, заказ которых превышал 28 000 и объединим этот список с предыдущим\n",
    "abnormal_users = list(set(abnormal_users + orders.query('revenue > 28000')['visitor_id'].to_list()))"
   ]
  },
  {
   "cell_type": "code",
   "execution_count": 42,
   "metadata": {},
   "outputs": [],
   "source": [
    "# вызовем функцию и добавим условия, чтобы в данных не было пользователей с более чем 3 заказами и чеком более 28 000.\n",
    "sample_A = avg_amount('A', abnormal_users)\n",
    "\n",
    "sample_B = avg_amount('B', abnormal_users)"
   ]
  },
  {
   "cell_type": "code",
   "execution_count": 43,
   "metadata": {},
   "outputs": [
    {
     "data": {
      "text/plain": [
       "0.017669716616139294"
      ]
     },
     "execution_count": 43,
     "metadata": {},
     "output_type": "execute_result"
    }
   ],
   "source": [
    "stats.mannwhitneyu(sample_A, sample_B)[1]"
   ]
  },
  {
   "cell_type": "markdown",
   "metadata": {},
   "source": [
    "Полученное значение менее 0.05, соответственно нулевую гипотезу можно отвергнуть. \n",
    "\n",
    "**Вывод: По \"очищенным\" данным различия в среднем количестве заказов на посететиля между группами A и B есть**"
   ]
  },
  {
   "cell_type": "markdown",
   "metadata": {},
   "source": [
    "#### 13. Посчитайте статистическую значимость различий в среднем чеке заказа между группами по «очищенным» данным. "
   ]
  },
  {
   "cell_type": "code",
   "execution_count": 44,
   "metadata": {},
   "outputs": [
    {
     "data": {
      "text/plain": [
       "0.8322155840113843"
      ]
     },
     "execution_count": 44,
     "metadata": {},
     "output_type": "execute_result"
    }
   ],
   "source": [
    "stats.mannwhitneyu(orders.loc[(orders['group'] == 'A') & (~orders['visitor_id'].isin(abnormal_users))]['revenue'], \\\n",
    "                   orders.loc[(orders['group'] == 'B') & (~orders['visitor_id'].isin(abnormal_users))]['revenue'])[1]"
   ]
  },
  {
   "cell_type": "markdown",
   "metadata": {},
   "source": [
    "Полученное значение больше 0.05, соответственно нулевую гипотезу нельзя отвергнуть.\n",
    "\n",
    "**Вывод: По «очищенным» данным различий в среднем чеке заказа между группами A и B нет.** При этом после фильтрации данных для двух выборок стало еще меньше отличий."
   ]
  },
  {
   "cell_type": "markdown",
   "metadata": {},
   "source": [
    "**Выводы:**\n",
    "Примите решение по результатам теста и объясните его. Варианты решений:\n",
    "1. Остановить тест, зафиксировать победу одной из групп.\n",
    "2. Остановить тест, зафиксировать отсутствие различий между группами.\n",
    "3. Продолжить тест."
   ]
  },
  {
   "cell_type": "code",
   "execution_count": 45,
   "metadata": {},
   "outputs": [],
   "source": [
    "# составим кумулятивную таблицу для \"очищенных\" данных\n",
    "group_A = cum_columns(\"A\", abnormal_users)\n",
    "\n",
    "group_B = cum_columns(\"B\", abnormal_users)"
   ]
  },
  {
   "cell_type": "code",
   "execution_count": 46,
   "metadata": {},
   "outputs": [
    {
     "data": {
      "image/png": "[encoded data removed]",
      "text/plain": [
       "<Figure size 1080x432 with 2 Axes>"
      ]
     },
     "metadata": {
      "needs_background": "light"
     },
     "output_type": "display_data"
    }
   ],
   "source": [
    "fig, axs = plt.subplots(2, 1, figsize=(15, 6))\n",
    "\n",
    "plt.subplot(1, 2, 1)\n",
    "#разделим кумулятивную выручку на кумулятивное кол-во заказов \n",
    "plt.plot(group_A['date'], group_A['cum_revenue']/group_A['cum_orders'], label = 'A')\n",
    "plt.plot(group_B['date'], group_B['cum_revenue']/group_B['cum_orders'], label = 'B')\n",
    "plt.legend()\n",
    "plt.title('График кумулятивного среднего чека по группам')\n",
    "plt.xticks(rotation = 45)\n",
    "plt.xlabel('Дата')\n",
    "plt.ylabel('Средний чек')\n",
    "plt.grid();\n",
    "\n",
    "# разделим кумулятивное количество заказов на кумулятивное количество посетителей\n",
    "plt.subplot(1, 2, 2)\n",
    "plt.plot(group_A['date'], group_A['cum_orders']/group_A['cum_visitors'], label = 'A')\n",
    "plt.plot(group_B['date'], group_B['cum_orders']/group_B['cum_visitors'], label = 'B')\n",
    "plt.legend()\n",
    "plt.title('График кумулятивного среднего кол-ва заказов по группам')\n",
    "plt.xticks(rotation = 45)\n",
    "plt.xlabel('Дата')\n",
    "plt.ylabel('Среднее кол-во заказов')\n",
    "plt.grid();"
   ]
  },
  {
   "cell_type": "markdown",
   "metadata": {},
   "source": [
    "По \"очищенным\" данным стало очевиднее, что **средний чек для двух групп стремится к одинаковому значению** и размерность графика уменьшилась почти в 2 раза (изначально средний чек для группы B выбивался до 10 000).\n",
    "\n",
    "Для группы А количество заказов постепенно снижается и **видна разница для двух групп на последнюю дату теста.**"
   ]
  },
  {
   "cell_type": "markdown",
   "metadata": {},
   "source": [
    "#### Выводы:\n",
    "\n",
    "1. Определена гипотеза для проверки: добавить форму подписки на все основные страницы, чтобы собрать базу клиентов для email-рассылок. \n",
    "\n",
    "\n",
    "2. Тест проходил на протяжении месяца, не было замечено перекосов по посетителям для двух групп, то есть, для группы А и B было примерно одинаковое распределение посетителей по дням. \n",
    "   Было обнаружено, что 58 пользователей (около 5% от всех пользователей) видели 2 версии сайта. \n",
    "   \n",
    "   \n",
    "3. **По кумулятивной выручке группа B опережает группу А в большей степени за счет выбросов сверх дорогих заказов.**\n",
    "\n",
    "\n",
    "4. По кумулятивному среднему чеку группа B также находится выше, чем группа A, но это связано с выбросами. **По \"сырым\" и \"очищенным\" от выбросов данных не было выявлено статистически значимых различий.** То есть, нововведение не повлияло на средний чек. \n",
    "\n",
    "\n",
    "5. По конверсии в покупку группа B находится выше и это не связано с выбросами. **По \"сырым\" и \"очищенным\" от выбросов данных были выявлены статистически значимые различия между группами.** \n",
    "\n",
    "Таким образом, A/B тест можно остановить и признать победу группы B. "
   ]
  }
 ],
 "metadata": {
  "ExecuteTimeLog": [
   {
    "duration": 371,
    "start_time": "2023-04-11T14:35:38.508Z"
   },
   {
    "duration": 57,
    "start_time": "2023-04-11T14:35:46.768Z"
   },
   {
    "duration": 5,
    "start_time": "2023-04-11T14:35:58.056Z"
   },
   {
    "duration": 438,
    "start_time": "2023-04-11T14:36:07.676Z"
   },
   {
    "duration": 1547,
    "start_time": "2023-04-11T17:06:00.209Z"
   },
   {
    "duration": 84,
    "start_time": "2023-04-11T17:06:15.679Z"
   },
   {
    "duration": 13,
    "start_time": "2023-04-11T17:06:42.022Z"
   },
   {
    "duration": 7,
    "start_time": "2023-04-11T17:06:52.799Z"
   },
   {
    "duration": 13,
    "start_time": "2023-04-11T17:07:02.430Z"
   },
   {
    "duration": 5,
    "start_time": "2023-04-11T17:07:12.337Z"
   },
   {
    "duration": 14,
    "start_time": "2023-04-11T17:07:18.619Z"
   },
   {
    "duration": 6,
    "start_time": "2023-04-11T17:07:29.519Z"
   },
   {
    "duration": 61,
    "start_time": "2023-04-11T17:07:36.209Z"
   },
   {
    "duration": 161,
    "start_time": "2023-04-11T17:07:47.010Z"
   },
   {
    "duration": 14,
    "start_time": "2023-04-11T17:07:59.489Z"
   },
   {
    "duration": 26,
    "start_time": "2023-04-11T17:09:39.861Z"
   },
   {
    "duration": 15,
    "start_time": "2023-04-11T17:10:12.758Z"
   },
   {
    "duration": 181,
    "start_time": "2023-04-11T17:12:56.408Z"
   },
   {
    "duration": 9,
    "start_time": "2023-04-11T17:13:12.269Z"
   },
   {
    "duration": 4,
    "start_time": "2023-04-11T17:15:10.041Z"
   },
   {
    "duration": 3,
    "start_time": "2023-04-11T17:15:12.770Z"
   },
   {
    "duration": 3,
    "start_time": "2023-04-11T17:15:15.120Z"
   },
   {
    "duration": 10,
    "start_time": "2023-04-11T17:15:20.865Z"
   },
   {
    "duration": 4,
    "start_time": "2023-04-11T17:15:33.049Z"
   },
   {
    "duration": 4,
    "start_time": "2023-04-11T17:15:38.378Z"
   },
   {
    "duration": 10,
    "start_time": "2023-04-11T17:15:42.098Z"
   },
   {
    "duration": 9,
    "start_time": "2023-04-11T17:16:21.829Z"
   },
   {
    "duration": 1455,
    "start_time": "2023-04-11T17:16:35.308Z"
   },
   {
    "duration": 100,
    "start_time": "2023-04-11T17:16:36.767Z"
   },
   {
    "duration": 20,
    "start_time": "2023-04-11T17:16:36.870Z"
   },
   {
    "duration": 41,
    "start_time": "2023-04-11T17:16:36.892Z"
   },
   {
    "duration": 57,
    "start_time": "2023-04-11T17:16:36.943Z"
   },
   {
    "duration": 18,
    "start_time": "2023-04-11T17:16:37.002Z"
   },
   {
    "duration": 23,
    "start_time": "2023-04-11T17:16:37.022Z"
   },
   {
    "duration": 88,
    "start_time": "2023-04-11T17:16:37.047Z"
   },
   {
    "duration": 10,
    "start_time": "2023-04-11T17:16:37.137Z"
   },
   {
    "duration": 45,
    "start_time": "2023-04-11T17:16:37.149Z"
   },
   {
    "duration": 39,
    "start_time": "2023-04-11T17:16:37.197Z"
   },
   {
    "duration": 4,
    "start_time": "2023-04-11T17:17:03.607Z"
   },
   {
    "duration": 9,
    "start_time": "2023-04-11T17:17:05.599Z"
   },
   {
    "duration": 11,
    "start_time": "2023-04-11T17:17:20.508Z"
   },
   {
    "duration": 3,
    "start_time": "2023-04-11T17:17:43.370Z"
   },
   {
    "duration": 8,
    "start_time": "2023-04-11T17:18:18.608Z"
   },
   {
    "duration": 7,
    "start_time": "2023-04-11T17:18:58.140Z"
   },
   {
    "duration": 11,
    "start_time": "2023-04-11T17:19:05.560Z"
   },
   {
    "duration": 7,
    "start_time": "2023-04-11T17:19:29.440Z"
   },
   {
    "duration": 10,
    "start_time": "2023-04-11T17:19:57.710Z"
   },
   {
    "duration": 5,
    "start_time": "2023-04-11T17:20:17.127Z"
   },
   {
    "duration": 11,
    "start_time": "2023-04-11T17:20:21.680Z"
   },
   {
    "duration": 6,
    "start_time": "2023-04-11T17:21:53.100Z"
   },
   {
    "duration": 5,
    "start_time": "2023-04-11T17:21:59.130Z"
   },
   {
    "duration": 6,
    "start_time": "2023-04-11T17:22:32.240Z"
   },
   {
    "duration": 6,
    "start_time": "2023-04-11T17:22:37.528Z"
   },
   {
    "duration": 79,
    "start_time": "2023-04-11T17:23:24.351Z"
   },
   {
    "duration": 8,
    "start_time": "2023-04-11T17:23:32.871Z"
   },
   {
    "duration": 8,
    "start_time": "2023-04-11T17:23:34.557Z"
   },
   {
    "duration": 6,
    "start_time": "2023-04-11T17:24:07.527Z"
   },
   {
    "duration": 5,
    "start_time": "2023-04-11T17:24:12.257Z"
   },
   {
    "duration": 1584,
    "start_time": "2023-04-11T17:24:35.298Z"
   },
   {
    "duration": 2026,
    "start_time": "2023-04-11T17:24:43.337Z"
   },
   {
    "duration": 5,
    "start_time": "2023-04-11T17:24:53.137Z"
   },
   {
    "duration": 12,
    "start_time": "2023-04-11T17:25:03.340Z"
   },
   {
    "duration": 11,
    "start_time": "2023-04-11T17:25:10.819Z"
   },
   {
    "duration": 8,
    "start_time": "2023-04-11T17:26:53.354Z"
   },
   {
    "duration": 7,
    "start_time": "2023-04-11T17:27:05.242Z"
   },
   {
    "duration": 9,
    "start_time": "2023-04-11T17:27:07.605Z"
   },
   {
    "duration": 8,
    "start_time": "2023-04-11T17:27:14.297Z"
   },
   {
    "duration": 8,
    "start_time": "2023-04-11T17:27:23.710Z"
   },
   {
    "duration": 8,
    "start_time": "2023-04-11T17:27:25.710Z"
   },
   {
    "duration": 7,
    "start_time": "2023-04-11T17:27:45.071Z"
   },
   {
    "duration": 8,
    "start_time": "2023-04-11T17:27:46.479Z"
   },
   {
    "duration": 4,
    "start_time": "2023-04-11T17:28:14.360Z"
   },
   {
    "duration": 8,
    "start_time": "2023-04-11T17:28:21.190Z"
   },
   {
    "duration": 20,
    "start_time": "2023-04-11T17:29:10.118Z"
   },
   {
    "duration": 8,
    "start_time": "2023-04-11T17:29:19.358Z"
   },
   {
    "duration": 3,
    "start_time": "2023-04-11T17:29:21.054Z"
   },
   {
    "duration": 8,
    "start_time": "2023-04-11T17:30:04.868Z"
   },
   {
    "duration": 11,
    "start_time": "2023-04-11T17:30:07.176Z"
   },
   {
    "duration": 9,
    "start_time": "2023-04-11T17:30:45.590Z"
   },
   {
    "duration": 9,
    "start_time": "2023-04-11T17:30:47.656Z"
   },
   {
    "duration": 8,
    "start_time": "2023-04-11T17:31:21.290Z"
   },
   {
    "duration": 9,
    "start_time": "2023-04-11T17:31:25.388Z"
   },
   {
    "duration": 7,
    "start_time": "2023-04-11T17:31:33.259Z"
   },
   {
    "duration": 9,
    "start_time": "2023-04-11T17:31:34.970Z"
   },
   {
    "duration": 294,
    "start_time": "2023-04-11T17:32:16.618Z"
   },
   {
    "duration": 170,
    "start_time": "2023-04-11T17:32:22.448Z"
   },
   {
    "duration": 149,
    "start_time": "2023-04-11T17:32:36.286Z"
   },
   {
    "duration": 154,
    "start_time": "2023-04-11T17:33:13.386Z"
   },
   {
    "duration": 171,
    "start_time": "2023-04-11T17:34:02.005Z"
   },
   {
    "duration": 145,
    "start_time": "2023-04-11T17:34:17.430Z"
   },
   {
    "duration": 178,
    "start_time": "2023-04-11T17:34:27.388Z"
   },
   {
    "duration": 267,
    "start_time": "2023-04-11T17:34:32.399Z"
   },
   {
    "duration": 252,
    "start_time": "2023-04-11T17:34:56.699Z"
   },
   {
    "duration": 185,
    "start_time": "2023-04-11T17:36:29.409Z"
   },
   {
    "duration": 199,
    "start_time": "2023-04-11T17:36:54.495Z"
   },
   {
    "duration": 178,
    "start_time": "2023-04-11T17:36:58.997Z"
   },
   {
    "duration": 177,
    "start_time": "2023-04-11T17:37:08.478Z"
   },
   {
    "duration": 347,
    "start_time": "2023-04-11T17:37:47.658Z"
   },
   {
    "duration": 288,
    "start_time": "2023-04-11T17:37:57.381Z"
   },
   {
    "duration": 197,
    "start_time": "2023-04-11T17:38:08.307Z"
   },
   {
    "duration": 207,
    "start_time": "2023-04-11T17:38:15.199Z"
   },
   {
    "duration": 225,
    "start_time": "2023-04-11T17:38:21.948Z"
   },
   {
    "duration": 278,
    "start_time": "2023-04-11T17:38:26.417Z"
   },
   {
    "duration": 250,
    "start_time": "2023-04-11T17:40:17.679Z"
   },
   {
    "duration": 61,
    "start_time": "2023-04-12T05:28:26.734Z"
   },
   {
    "duration": 1347,
    "start_time": "2023-04-12T05:28:31.505Z"
   },
   {
    "duration": 242,
    "start_time": "2023-04-12T05:28:32.854Z"
   },
   {
    "duration": 13,
    "start_time": "2023-04-12T05:28:33.098Z"
   },
   {
    "duration": 18,
    "start_time": "2023-04-12T05:28:33.113Z"
   },
   {
    "duration": 31,
    "start_time": "2023-04-12T05:28:33.133Z"
   },
   {
    "duration": 9,
    "start_time": "2023-04-12T05:28:33.166Z"
   },
   {
    "duration": 25,
    "start_time": "2023-04-12T05:28:33.177Z"
   },
   {
    "duration": 70,
    "start_time": "2023-04-12T05:28:33.205Z"
   },
   {
    "duration": 11,
    "start_time": "2023-04-12T05:28:33.277Z"
   },
   {
    "duration": 30,
    "start_time": "2023-04-12T05:28:33.292Z"
   },
   {
    "duration": 53,
    "start_time": "2023-04-12T05:28:33.324Z"
   },
   {
    "duration": 21,
    "start_time": "2023-04-12T05:28:33.378Z"
   },
   {
    "duration": 36,
    "start_time": "2023-04-12T05:28:33.401Z"
   },
   {
    "duration": 25,
    "start_time": "2023-04-12T05:28:33.438Z"
   },
   {
    "duration": 20,
    "start_time": "2023-04-12T05:28:33.465Z"
   },
   {
    "duration": 15,
    "start_time": "2023-04-12T05:28:33.487Z"
   },
   {
    "duration": 18,
    "start_time": "2023-04-12T05:28:33.504Z"
   },
   {
    "duration": 18,
    "start_time": "2023-04-12T05:28:33.524Z"
   },
   {
    "duration": 33,
    "start_time": "2023-04-12T05:28:33.544Z"
   },
   {
    "duration": 302,
    "start_time": "2023-04-12T05:28:33.579Z"
   },
   {
    "duration": 7,
    "start_time": "2023-04-12T05:28:33.883Z"
   },
   {
    "duration": 8,
    "start_time": "2023-04-12T05:29:04.644Z"
   },
   {
    "duration": 6,
    "start_time": "2023-04-12T05:29:43.544Z"
   },
   {
    "duration": 10,
    "start_time": "2023-04-12T05:31:17.756Z"
   },
   {
    "duration": 3,
    "start_time": "2023-04-12T05:33:19.836Z"
   },
   {
    "duration": 166,
    "start_time": "2023-04-12T05:33:39.863Z"
   },
   {
    "duration": 11,
    "start_time": "2023-04-12T05:33:52.878Z"
   },
   {
    "duration": 154,
    "start_time": "2023-04-12T05:38:11.048Z"
   },
   {
    "duration": 21,
    "start_time": "2023-04-12T05:38:16.182Z"
   },
   {
    "duration": 8,
    "start_time": "2023-04-12T05:38:41.828Z"
   },
   {
    "duration": 10,
    "start_time": "2023-04-12T05:38:48.425Z"
   },
   {
    "duration": 12,
    "start_time": "2023-04-12T05:39:27.476Z"
   },
   {
    "duration": 10,
    "start_time": "2023-04-12T05:39:30.715Z"
   },
   {
    "duration": 11,
    "start_time": "2023-04-12T05:39:32.885Z"
   },
   {
    "duration": 77,
    "start_time": "2023-04-12T05:40:59.668Z"
   },
   {
    "duration": 10,
    "start_time": "2023-04-12T05:41:01.077Z"
   },
   {
    "duration": 6,
    "start_time": "2023-04-12T05:42:34.525Z"
   },
   {
    "duration": 7,
    "start_time": "2023-04-12T05:42:39.515Z"
   },
   {
    "duration": 8,
    "start_time": "2023-04-12T05:43:10.925Z"
   },
   {
    "duration": 5,
    "start_time": "2023-04-12T05:43:17.908Z"
   },
   {
    "duration": 82,
    "start_time": "2023-04-12T05:46:02.878Z"
   },
   {
    "duration": 6,
    "start_time": "2023-04-12T05:46:08.937Z"
   },
   {
    "duration": 50,
    "start_time": "2023-04-12T05:47:28.915Z"
   },
   {
    "duration": 75,
    "start_time": "2023-04-12T05:48:16.786Z"
   },
   {
    "duration": 70,
    "start_time": "2023-04-12T05:48:29.326Z"
   },
   {
    "duration": 6,
    "start_time": "2023-04-12T05:48:36.738Z"
   },
   {
    "duration": 8,
    "start_time": "2023-04-12T05:49:58.065Z"
   },
   {
    "duration": 80,
    "start_time": "2023-04-12T05:50:29.726Z"
   },
   {
    "duration": 7,
    "start_time": "2023-04-12T05:50:43.047Z"
   },
   {
    "duration": 15,
    "start_time": "2023-04-12T05:59:23.518Z"
   },
   {
    "duration": 7,
    "start_time": "2023-04-12T06:01:21.295Z"
   },
   {
    "duration": 10,
    "start_time": "2023-04-12T06:01:48.219Z"
   },
   {
    "duration": 6,
    "start_time": "2023-04-12T06:02:17.526Z"
   },
   {
    "duration": 10,
    "start_time": "2023-04-12T06:02:23.678Z"
   },
   {
    "duration": 19,
    "start_time": "2023-04-12T06:02:42.974Z"
   },
   {
    "duration": 9,
    "start_time": "2023-04-12T06:02:50.155Z"
   },
   {
    "duration": 11,
    "start_time": "2023-04-12T06:02:52.045Z"
   },
   {
    "duration": 6,
    "start_time": "2023-04-12T06:03:21.667Z"
   },
   {
    "duration": 10,
    "start_time": "2023-04-12T06:03:27.094Z"
   },
   {
    "duration": 10,
    "start_time": "2023-04-12T06:04:59.986Z"
   },
   {
    "duration": 13,
    "start_time": "2023-04-12T06:05:05.215Z"
   },
   {
    "duration": 223,
    "start_time": "2023-04-12T06:06:24.999Z"
   },
   {
    "duration": 11,
    "start_time": "2023-04-12T06:06:35.446Z"
   },
   {
    "duration": 13,
    "start_time": "2023-04-12T06:06:38.387Z"
   },
   {
    "duration": 208,
    "start_time": "2023-04-12T06:06:40.406Z"
   },
   {
    "duration": 12,
    "start_time": "2023-04-12T06:06:56.319Z"
   },
   {
    "duration": 12,
    "start_time": "2023-04-12T06:07:11.206Z"
   },
   {
    "duration": 10,
    "start_time": "2023-04-12T06:07:34.587Z"
   },
   {
    "duration": 11,
    "start_time": "2023-04-12T06:07:35.850Z"
   },
   {
    "duration": 234,
    "start_time": "2023-04-12T06:07:37.837Z"
   },
   {
    "duration": 220,
    "start_time": "2023-04-12T06:10:30.696Z"
   },
   {
    "duration": 11,
    "start_time": "2023-04-12T07:09:47.615Z"
   },
   {
    "duration": 10,
    "start_time": "2023-04-12T07:09:54.727Z"
   },
   {
    "duration": 22,
    "start_time": "2023-04-12T07:12:04.468Z"
   },
   {
    "duration": 13,
    "start_time": "2023-04-12T07:12:06.908Z"
   },
   {
    "duration": 4,
    "start_time": "2023-04-12T07:13:33.676Z"
   },
   {
    "duration": 14,
    "start_time": "2023-04-12T07:13:42.072Z"
   },
   {
    "duration": 5,
    "start_time": "2023-04-12T07:14:00.711Z"
   },
   {
    "duration": 12,
    "start_time": "2023-04-12T07:14:04.125Z"
   },
   {
    "duration": 8,
    "start_time": "2023-04-12T07:14:15.190Z"
   },
   {
    "duration": 13,
    "start_time": "2023-04-12T07:14:17.698Z"
   },
   {
    "duration": 23,
    "start_time": "2023-04-12T07:17:23.158Z"
   },
   {
    "duration": 50,
    "start_time": "2023-04-12T07:17:25.575Z"
   },
   {
    "duration": 12,
    "start_time": "2023-04-12T07:18:20.972Z"
   },
   {
    "duration": 35,
    "start_time": "2023-04-12T07:18:22.441Z"
   },
   {
    "duration": 6,
    "start_time": "2023-04-12T07:18:41.983Z"
   },
   {
    "duration": 27,
    "start_time": "2023-04-12T07:18:43.767Z"
   },
   {
    "duration": 14,
    "start_time": "2023-04-12T07:20:47.514Z"
   },
   {
    "duration": 2868,
    "start_time": "2023-04-12T07:21:04.762Z"
   },
   {
    "duration": 17,
    "start_time": "2023-04-12T07:21:48.101Z"
   },
   {
    "duration": 6,
    "start_time": "2023-04-12T07:21:49.984Z"
   },
   {
    "duration": 8,
    "start_time": "2023-04-12T07:22:02.599Z"
   },
   {
    "duration": 6,
    "start_time": "2023-04-12T07:22:18.875Z"
   },
   {
    "duration": 38,
    "start_time": "2023-04-12T07:22:25.529Z"
   },
   {
    "duration": 2618,
    "start_time": "2023-04-12T07:22:55.464Z"
   },
   {
    "duration": 10,
    "start_time": "2023-04-12T07:23:26.909Z"
   },
   {
    "duration": 11,
    "start_time": "2023-04-12T07:23:27.840Z"
   },
   {
    "duration": 6,
    "start_time": "2023-04-12T07:23:28.282Z"
   },
   {
    "duration": 5,
    "start_time": "2023-04-12T07:23:28.731Z"
   },
   {
    "duration": 20,
    "start_time": "2023-04-12T07:23:29.470Z"
   },
   {
    "duration": 10,
    "start_time": "2023-04-12T07:23:30.219Z"
   },
   {
    "duration": 7,
    "start_time": "2023-04-12T07:23:30.830Z"
   },
   {
    "duration": 9,
    "start_time": "2023-04-12T07:23:31.408Z"
   },
   {
    "duration": 6,
    "start_time": "2023-04-12T07:23:31.830Z"
   },
   {
    "duration": 31,
    "start_time": "2023-04-12T07:23:32.370Z"
   },
   {
    "duration": 247,
    "start_time": "2023-04-12T07:23:33.063Z"
   },
   {
    "duration": 28,
    "start_time": "2023-04-12T07:26:53.632Z"
   },
   {
    "duration": 13,
    "start_time": "2023-04-12T07:26:56.081Z"
   },
   {
    "duration": 15,
    "start_time": "2023-04-12T07:26:57.396Z"
   },
   {
    "duration": 14,
    "start_time": "2023-04-12T07:27:36.831Z"
   },
   {
    "duration": 19,
    "start_time": "2023-04-12T07:27:43.805Z"
   },
   {
    "duration": 17,
    "start_time": "2023-04-12T07:28:20.230Z"
   },
   {
    "duration": 27,
    "start_time": "2023-04-12T07:28:22.032Z"
   },
   {
    "duration": 13,
    "start_time": "2023-04-12T07:29:37.872Z"
   },
   {
    "duration": 15,
    "start_time": "2023-04-12T07:29:39.910Z"
   },
   {
    "duration": 17,
    "start_time": "2023-04-12T07:30:11.662Z"
   },
   {
    "duration": 13,
    "start_time": "2023-04-12T07:30:20.111Z"
   },
   {
    "duration": 391,
    "start_time": "2023-04-12T07:31:00.709Z"
   },
   {
    "duration": 5,
    "start_time": "2023-04-12T07:33:41.170Z"
   },
   {
    "duration": 22,
    "start_time": "2023-04-12T07:33:47.539Z"
   },
   {
    "duration": 5,
    "start_time": "2023-04-12T07:34:01.985Z"
   },
   {
    "duration": 13,
    "start_time": "2023-04-12T07:34:03.685Z"
   },
   {
    "duration": 7,
    "start_time": "2023-04-12T07:35:17.897Z"
   },
   {
    "duration": 287,
    "start_time": "2023-04-12T07:36:01.291Z"
   },
   {
    "duration": 344,
    "start_time": "2023-04-12T07:37:50.727Z"
   },
   {
    "duration": 249,
    "start_time": "2023-04-12T07:38:00.968Z"
   },
   {
    "duration": 352,
    "start_time": "2023-04-12T07:39:20.784Z"
   },
   {
    "duration": 352,
    "start_time": "2023-04-12T07:40:28.819Z"
   },
   {
    "duration": 7,
    "start_time": "2023-04-12T07:40:46.430Z"
   },
   {
    "duration": 324,
    "start_time": "2023-04-12T07:40:49.192Z"
   },
   {
    "duration": 344,
    "start_time": "2023-04-12T07:41:27.545Z"
   },
   {
    "duration": 289,
    "start_time": "2023-04-12T07:41:33.976Z"
   },
   {
    "duration": 302,
    "start_time": "2023-04-12T07:41:43.605Z"
   },
   {
    "duration": 368,
    "start_time": "2023-04-12T07:42:02.200Z"
   },
   {
    "duration": 32,
    "start_time": "2023-04-12T07:43:58.072Z"
   },
   {
    "duration": 19,
    "start_time": "2023-04-12T08:02:46.117Z"
   },
   {
    "duration": 11,
    "start_time": "2023-04-12T08:05:38.507Z"
   },
   {
    "duration": 23,
    "start_time": "2023-04-12T08:05:45.369Z"
   },
   {
    "duration": 98,
    "start_time": "2023-04-12T08:06:29.202Z"
   },
   {
    "duration": 17,
    "start_time": "2023-04-12T08:06:36.109Z"
   },
   {
    "duration": 92,
    "start_time": "2023-04-12T08:07:53.210Z"
   },
   {
    "duration": 16,
    "start_time": "2023-04-12T08:08:10.664Z"
   },
   {
    "duration": 11,
    "start_time": "2023-04-12T08:08:14.063Z"
   },
   {
    "duration": 13,
    "start_time": "2023-04-12T08:08:16.022Z"
   },
   {
    "duration": 18,
    "start_time": "2023-04-12T08:09:03.766Z"
   },
   {
    "duration": 25,
    "start_time": "2023-04-12T08:12:26.038Z"
   },
   {
    "duration": 14,
    "start_time": "2023-04-12T08:12:28.619Z"
   },
   {
    "duration": 12,
    "start_time": "2023-04-12T08:13:13.289Z"
   },
   {
    "duration": 12,
    "start_time": "2023-04-12T08:13:15.084Z"
   },
   {
    "duration": 13,
    "start_time": "2023-04-12T08:13:43.895Z"
   },
   {
    "duration": 10,
    "start_time": "2023-04-12T08:14:33.050Z"
   },
   {
    "duration": 13,
    "start_time": "2023-04-12T08:14:38.205Z"
   },
   {
    "duration": 14,
    "start_time": "2023-04-12T08:14:41.409Z"
   },
   {
    "duration": 10,
    "start_time": "2023-04-12T08:17:01.412Z"
   },
   {
    "duration": 15,
    "start_time": "2023-04-12T08:17:03.793Z"
   },
   {
    "duration": 11,
    "start_time": "2023-04-12T08:17:18.673Z"
   },
   {
    "duration": 16,
    "start_time": "2023-04-12T08:17:34.194Z"
   },
   {
    "duration": 22,
    "start_time": "2023-04-12T08:20:53.822Z"
   },
   {
    "duration": 10,
    "start_time": "2023-04-12T08:21:07.305Z"
   },
   {
    "duration": 16,
    "start_time": "2023-04-12T08:21:12.972Z"
   },
   {
    "duration": 236,
    "start_time": "2023-04-12T08:22:01.881Z"
   },
   {
    "duration": 13,
    "start_time": "2023-04-12T08:22:07.597Z"
   },
   {
    "duration": 26,
    "start_time": "2023-04-12T08:22:10.571Z"
   },
   {
    "duration": 12,
    "start_time": "2023-04-12T08:22:28.669Z"
   },
   {
    "duration": 15,
    "start_time": "2023-04-12T08:22:46.613Z"
   },
   {
    "duration": 12,
    "start_time": "2023-04-12T08:22:48.813Z"
   },
   {
    "duration": 9,
    "start_time": "2023-04-12T08:22:54.972Z"
   },
   {
    "duration": 15,
    "start_time": "2023-04-12T08:22:56.967Z"
   },
   {
    "duration": 15,
    "start_time": "2023-04-12T08:28:17.468Z"
   },
   {
    "duration": 16,
    "start_time": "2023-04-12T08:28:57.266Z"
   },
   {
    "duration": 5,
    "start_time": "2023-04-12T08:29:55.304Z"
   },
   {
    "duration": 199,
    "start_time": "2023-04-12T08:33:46.176Z"
   },
   {
    "duration": 9,
    "start_time": "2023-04-12T08:34:01.037Z"
   },
   {
    "duration": 10,
    "start_time": "2023-04-12T08:34:05.616Z"
   },
   {
    "duration": 10,
    "start_time": "2023-04-12T08:34:29.077Z"
   },
   {
    "duration": 12,
    "start_time": "2023-04-12T08:34:31.419Z"
   },
   {
    "duration": 12,
    "start_time": "2023-04-12T08:34:41.484Z"
   },
   {
    "duration": 14,
    "start_time": "2023-04-12T08:34:50.565Z"
   },
   {
    "duration": 8,
    "start_time": "2023-04-12T08:34:54.819Z"
   },
   {
    "duration": 14,
    "start_time": "2023-04-12T08:34:56.283Z"
   },
   {
    "duration": 15,
    "start_time": "2023-04-12T08:35:09.668Z"
   },
   {
    "duration": 21,
    "start_time": "2023-04-12T08:35:17.838Z"
   },
   {
    "duration": 10,
    "start_time": "2023-04-12T08:35:27.979Z"
   },
   {
    "duration": 13,
    "start_time": "2023-04-12T08:35:30.671Z"
   },
   {
    "duration": 11,
    "start_time": "2023-04-12T08:35:32.716Z"
   },
   {
    "duration": 9,
    "start_time": "2023-04-12T08:35:41.879Z"
   },
   {
    "duration": 11,
    "start_time": "2023-04-12T08:36:00.876Z"
   },
   {
    "duration": 134,
    "start_time": "2023-04-12T08:37:11.995Z"
   },
   {
    "duration": 250,
    "start_time": "2023-04-12T08:37:14.828Z"
   },
   {
    "duration": 176,
    "start_time": "2023-04-12T08:37:28.907Z"
   },
   {
    "duration": 136,
    "start_time": "2023-04-12T08:37:35.587Z"
   },
   {
    "duration": 134,
    "start_time": "2023-04-12T08:37:41.396Z"
   },
   {
    "duration": 12,
    "start_time": "2023-04-12T08:38:07.026Z"
   },
   {
    "duration": 148,
    "start_time": "2023-04-12T08:38:34.217Z"
   },
   {
    "duration": 6,
    "start_time": "2023-04-12T08:40:19.014Z"
   },
   {
    "duration": 7,
    "start_time": "2023-04-12T08:40:29.215Z"
   },
   {
    "duration": 169,
    "start_time": "2023-04-12T08:43:47.268Z"
   },
   {
    "duration": 160,
    "start_time": "2023-04-12T08:43:50.702Z"
   },
   {
    "duration": 303,
    "start_time": "2023-04-12T08:44:07.433Z"
   },
   {
    "duration": 170,
    "start_time": "2023-04-12T08:44:20.624Z"
   },
   {
    "duration": 8,
    "start_time": "2023-04-12T08:45:08.150Z"
   },
   {
    "duration": 7,
    "start_time": "2023-04-12T08:45:43.480Z"
   },
   {
    "duration": 114,
    "start_time": "2023-04-12T09:19:25.196Z"
   },
   {
    "duration": 8,
    "start_time": "2023-04-12T09:19:41.241Z"
   },
   {
    "duration": 84,
    "start_time": "2023-04-12T09:20:01.933Z"
   },
   {
    "duration": 6,
    "start_time": "2023-04-12T09:20:03.492Z"
   },
   {
    "duration": 17,
    "start_time": "2023-04-12T09:20:12.844Z"
   },
   {
    "duration": 79,
    "start_time": "2023-04-12T09:20:52.601Z"
   },
   {
    "duration": 7,
    "start_time": "2023-04-12T09:20:56.431Z"
   },
   {
    "duration": 8,
    "start_time": "2023-04-12T09:21:07.056Z"
   },
   {
    "duration": 7,
    "start_time": "2023-04-12T09:22:20.356Z"
   },
   {
    "duration": 5,
    "start_time": "2023-04-12T09:22:52.084Z"
   },
   {
    "duration": 13,
    "start_time": "2023-04-12T09:23:04.903Z"
   },
   {
    "duration": 8,
    "start_time": "2023-04-12T09:23:07.131Z"
   },
   {
    "duration": 14,
    "start_time": "2023-04-12T09:23:34.172Z"
   },
   {
    "duration": 16,
    "start_time": "2023-04-12T09:23:54.995Z"
   },
   {
    "duration": 13,
    "start_time": "2023-04-12T09:24:51.300Z"
   },
   {
    "duration": 8,
    "start_time": "2023-04-12T09:26:20.256Z"
   },
   {
    "duration": 7,
    "start_time": "2023-04-12T09:26:29.494Z"
   },
   {
    "duration": 14,
    "start_time": "2023-04-12T09:26:54.884Z"
   },
   {
    "duration": 12,
    "start_time": "2023-04-12T09:27:01.891Z"
   },
   {
    "duration": 18,
    "start_time": "2023-04-12T09:27:09.241Z"
   },
   {
    "duration": 13,
    "start_time": "2023-04-12T09:27:22.781Z"
   },
   {
    "duration": 4,
    "start_time": "2023-04-12T09:28:48.529Z"
   },
   {
    "duration": 9,
    "start_time": "2023-04-12T09:29:10.784Z"
   },
   {
    "duration": 28,
    "start_time": "2023-04-12T09:29:25.534Z"
   },
   {
    "duration": 23,
    "start_time": "2023-04-12T09:29:31.100Z"
   },
   {
    "duration": 5,
    "start_time": "2023-04-12T09:32:06.221Z"
   },
   {
    "duration": 13,
    "start_time": "2023-04-12T09:32:08.543Z"
   },
   {
    "duration": 6,
    "start_time": "2023-04-12T09:33:49.175Z"
   },
   {
    "duration": 8,
    "start_time": "2023-04-12T09:34:08.801Z"
   },
   {
    "duration": 12,
    "start_time": "2023-04-12T09:34:32.983Z"
   },
   {
    "duration": 5,
    "start_time": "2023-04-12T09:34:41.742Z"
   },
   {
    "duration": 12,
    "start_time": "2023-04-12T09:34:48.086Z"
   },
   {
    "duration": 15,
    "start_time": "2023-04-12T09:35:03.599Z"
   },
   {
    "duration": 12,
    "start_time": "2023-04-12T09:35:07.884Z"
   },
   {
    "duration": 23,
    "start_time": "2023-04-12T09:35:18.657Z"
   },
   {
    "duration": 10,
    "start_time": "2023-04-12T09:35:22.742Z"
   },
   {
    "duration": 19,
    "start_time": "2023-04-12T09:35:26.198Z"
   },
   {
    "duration": 10,
    "start_time": "2023-04-12T09:35:27.730Z"
   },
   {
    "duration": 3117,
    "start_time": "2023-04-12T09:36:12.292Z"
   },
   {
    "duration": 22,
    "start_time": "2023-04-12T09:36:21.143Z"
   },
   {
    "duration": 24,
    "start_time": "2023-04-12T09:36:27.984Z"
   },
   {
    "duration": 6,
    "start_time": "2023-04-12T09:36:34.205Z"
   },
   {
    "duration": 12,
    "start_time": "2023-04-12T09:36:41.696Z"
   },
   {
    "duration": 9,
    "start_time": "2023-04-12T09:36:45.421Z"
   },
   {
    "duration": 10,
    "start_time": "2023-04-12T09:37:22.028Z"
   },
   {
    "duration": 7,
    "start_time": "2023-04-12T09:37:57.402Z"
   },
   {
    "duration": 9,
    "start_time": "2023-04-12T09:38:23.452Z"
   },
   {
    "duration": 5,
    "start_time": "2023-04-12T09:40:42.126Z"
   },
   {
    "duration": 15,
    "start_time": "2023-04-12T09:40:48.937Z"
   },
   {
    "duration": 5,
    "start_time": "2023-04-12T09:41:02.233Z"
   },
   {
    "duration": 6,
    "start_time": "2023-04-12T09:41:11.558Z"
   },
   {
    "duration": 3,
    "start_time": "2023-04-12T09:41:13.706Z"
   },
   {
    "duration": 9,
    "start_time": "2023-04-12T09:41:27.791Z"
   },
   {
    "duration": 7,
    "start_time": "2023-04-12T09:41:30.106Z"
   },
   {
    "duration": 89,
    "start_time": "2023-04-12T09:41:37.910Z"
   },
   {
    "duration": 6,
    "start_time": "2023-04-12T09:41:40.299Z"
   },
   {
    "duration": 12,
    "start_time": "2023-04-12T09:44:28.043Z"
   },
   {
    "duration": 6,
    "start_time": "2023-04-12T09:44:30.458Z"
   },
   {
    "duration": 16,
    "start_time": "2023-04-12T09:44:35.633Z"
   },
   {
    "duration": 6,
    "start_time": "2023-04-12T10:22:51.633Z"
   },
   {
    "duration": 6,
    "start_time": "2023-04-12T10:22:57.081Z"
   },
   {
    "duration": 7,
    "start_time": "2023-04-12T10:23:48.408Z"
   },
   {
    "duration": 9,
    "start_time": "2023-04-12T10:23:57.592Z"
   },
   {
    "duration": 4,
    "start_time": "2023-04-12T10:24:12.332Z"
   },
   {
    "duration": 7,
    "start_time": "2023-04-12T10:24:23.096Z"
   },
   {
    "duration": 5,
    "start_time": "2023-04-12T10:24:40.873Z"
   },
   {
    "duration": 7,
    "start_time": "2023-04-12T10:24:53.869Z"
   },
   {
    "duration": 4,
    "start_time": "2023-04-12T10:25:12.311Z"
   },
   {
    "duration": 23,
    "start_time": "2023-04-12T10:25:27.949Z"
   },
   {
    "duration": 11,
    "start_time": "2023-04-12T10:27:25.012Z"
   },
   {
    "duration": 14,
    "start_time": "2023-04-12T10:28:51.939Z"
   },
   {
    "duration": 19,
    "start_time": "2023-04-12T10:29:00.759Z"
   },
   {
    "duration": 16,
    "start_time": "2023-04-12T10:29:44.556Z"
   },
   {
    "duration": 1335,
    "start_time": "2023-04-13T10:53:54.917Z"
   },
   {
    "duration": 230,
    "start_time": "2023-04-13T10:53:58.384Z"
   },
   {
    "duration": 104,
    "start_time": "2023-04-13T10:57:01.110Z"
   },
   {
    "duration": 6,
    "start_time": "2023-04-13T10:57:07.311Z"
   },
   {
    "duration": 18,
    "start_time": "2023-04-13T10:57:09.096Z"
   },
   {
    "duration": 4,
    "start_time": "2023-04-13T10:58:04.612Z"
   },
   {
    "duration": 9,
    "start_time": "2023-04-13T10:58:06.608Z"
   },
   {
    "duration": 11,
    "start_time": "2023-04-13T10:59:00.508Z"
   },
   {
    "duration": 5,
    "start_time": "2023-04-13T10:59:03.359Z"
   },
   {
    "duration": 11,
    "start_time": "2023-04-13T10:59:04.923Z"
   },
   {
    "duration": 49,
    "start_time": "2023-04-13T10:59:15.318Z"
   },
   {
    "duration": 4,
    "start_time": "2023-04-13T11:02:21.554Z"
   },
   {
    "duration": 10,
    "start_time": "2023-04-13T11:02:23.054Z"
   },
   {
    "duration": 17,
    "start_time": "2023-04-13T11:04:34.496Z"
   },
   {
    "duration": 18,
    "start_time": "2023-04-13T11:05:00.909Z"
   },
   {
    "duration": 57,
    "start_time": "2023-04-13T11:07:47.512Z"
   },
   {
    "duration": 8,
    "start_time": "2023-04-13T11:09:52.360Z"
   },
   {
    "duration": 5,
    "start_time": "2023-04-13T11:10:19.841Z"
   },
   {
    "duration": 11,
    "start_time": "2023-04-13T11:10:21.250Z"
   },
   {
    "duration": 6,
    "start_time": "2023-04-13T11:10:44.628Z"
   },
   {
    "duration": 10,
    "start_time": "2023-04-13T11:10:46.151Z"
   },
   {
    "duration": 6,
    "start_time": "2023-04-13T11:11:16.521Z"
   },
   {
    "duration": 10,
    "start_time": "2023-04-13T11:11:24.631Z"
   },
   {
    "duration": 8,
    "start_time": "2023-04-13T11:11:31.246Z"
   },
   {
    "duration": 13,
    "start_time": "2023-04-13T11:11:34.140Z"
   },
   {
    "duration": 5,
    "start_time": "2023-04-13T11:11:55.777Z"
   },
   {
    "duration": 13,
    "start_time": "2023-04-13T11:13:43.920Z"
   },
   {
    "duration": 10,
    "start_time": "2023-04-13T11:14:03.008Z"
   },
   {
    "duration": 11,
    "start_time": "2023-04-13T11:14:11.484Z"
   },
   {
    "duration": 8,
    "start_time": "2023-04-13T11:15:17.635Z"
   },
   {
    "duration": 9,
    "start_time": "2023-04-13T11:15:23.794Z"
   },
   {
    "duration": 12,
    "start_time": "2023-04-13T11:15:25.861Z"
   },
   {
    "duration": 243,
    "start_time": "2023-04-13T11:16:39.775Z"
   },
   {
    "duration": 280,
    "start_time": "2023-04-13T11:16:57.948Z"
   },
   {
    "duration": 195,
    "start_time": "2023-04-13T11:17:26.260Z"
   },
   {
    "duration": 11,
    "start_time": "2023-04-13T11:18:26.446Z"
   },
   {
    "duration": 13,
    "start_time": "2023-04-13T11:18:28.115Z"
   },
   {
    "duration": 25,
    "start_time": "2023-04-13T11:18:30.689Z"
   },
   {
    "duration": 9,
    "start_time": "2023-04-13T11:18:32.621Z"
   },
   {
    "duration": 15,
    "start_time": "2023-04-13T11:19:15.585Z"
   },
   {
    "duration": 10,
    "start_time": "2023-04-13T11:19:18.023Z"
   },
   {
    "duration": 196,
    "start_time": "2023-04-13T11:19:20.987Z"
   },
   {
    "duration": 17,
    "start_time": "2023-04-13T11:20:18.596Z"
   },
   {
    "duration": 11,
    "start_time": "2023-04-13T11:20:21.861Z"
   },
   {
    "duration": 10,
    "start_time": "2023-04-13T11:20:38.231Z"
   },
   {
    "duration": 205,
    "start_time": "2023-04-13T11:20:50.725Z"
   },
   {
    "duration": 199,
    "start_time": "2023-04-13T11:21:03.142Z"
   },
   {
    "duration": 210,
    "start_time": "2023-04-13T11:21:23.228Z"
   },
   {
    "duration": 6,
    "start_time": "2023-04-13T11:24:23.125Z"
   },
   {
    "duration": 202,
    "start_time": "2023-04-13T11:24:26.021Z"
   },
   {
    "duration": 12,
    "start_time": "2023-04-13T11:26:02.221Z"
   },
   {
    "duration": 275,
    "start_time": "2023-04-13T11:27:39.149Z"
   },
   {
    "duration": 64,
    "start_time": "2023-04-13T13:37:49.438Z"
   },
   {
    "duration": 1707,
    "start_time": "2023-04-13T13:37:58.570Z"
   },
   {
    "duration": 74,
    "start_time": "2023-04-13T13:38:00.279Z"
   },
   {
    "duration": 52,
    "start_time": "2023-04-13T13:38:00.355Z"
   },
   {
    "duration": 33,
    "start_time": "2023-04-13T13:38:00.408Z"
   },
   {
    "duration": 37,
    "start_time": "2023-04-13T13:38:00.443Z"
   },
   {
    "duration": 82,
    "start_time": "2023-04-13T13:38:00.482Z"
   },
   {
    "duration": 71,
    "start_time": "2023-04-13T13:38:00.566Z"
   },
   {
    "duration": 134,
    "start_time": "2023-04-13T13:38:00.638Z"
   },
   {
    "duration": 193,
    "start_time": "2023-04-13T13:38:00.774Z"
   },
   {
    "duration": 8,
    "start_time": "2023-04-13T13:38:00.969Z"
   },
   {
    "duration": 82,
    "start_time": "2023-04-13T13:38:00.979Z"
   },
   {
    "duration": 51,
    "start_time": "2023-04-13T13:38:01.063Z"
   },
   {
    "duration": 33,
    "start_time": "2023-04-13T13:38:01.116Z"
   },
   {
    "duration": 81,
    "start_time": "2023-04-13T13:38:01.154Z"
   },
   {
    "duration": 68,
    "start_time": "2023-04-13T13:38:01.237Z"
   },
   {
    "duration": 86,
    "start_time": "2023-04-13T13:38:01.307Z"
   },
   {
    "duration": 59,
    "start_time": "2023-04-13T13:38:01.395Z"
   },
   {
    "duration": 114,
    "start_time": "2023-04-13T13:38:01.456Z"
   },
   {
    "duration": 27,
    "start_time": "2023-04-13T13:38:01.572Z"
   },
   {
    "duration": 368,
    "start_time": "2023-04-13T13:38:01.601Z"
   },
   {
    "duration": 6,
    "start_time": "2023-04-13T13:38:01.972Z"
   },
   {
    "duration": 337,
    "start_time": "2023-04-13T13:38:01.980Z"
   },
   {
    "duration": 122,
    "start_time": "2023-04-13T13:38:02.324Z"
   },
   {
    "duration": 0,
    "start_time": "2023-04-13T13:38:02.449Z"
   },
   {
    "duration": 0,
    "start_time": "2023-04-13T13:38:02.450Z"
   },
   {
    "duration": 0,
    "start_time": "2023-04-13T13:38:02.451Z"
   },
   {
    "duration": 0,
    "start_time": "2023-04-13T13:38:02.452Z"
   },
   {
    "duration": 0,
    "start_time": "2023-04-13T13:38:02.453Z"
   },
   {
    "duration": 0,
    "start_time": "2023-04-13T13:38:02.454Z"
   },
   {
    "duration": 0,
    "start_time": "2023-04-13T13:38:02.455Z"
   },
   {
    "duration": 0,
    "start_time": "2023-04-13T13:38:02.456Z"
   },
   {
    "duration": 0,
    "start_time": "2023-04-13T13:38:02.457Z"
   },
   {
    "duration": 0,
    "start_time": "2023-04-13T13:38:02.458Z"
   },
   {
    "duration": 0,
    "start_time": "2023-04-13T13:38:02.459Z"
   },
   {
    "duration": 0,
    "start_time": "2023-04-13T13:38:02.460Z"
   },
   {
    "duration": 0,
    "start_time": "2023-04-13T13:38:02.462Z"
   },
   {
    "duration": 0,
    "start_time": "2023-04-13T13:38:02.463Z"
   },
   {
    "duration": 0,
    "start_time": "2023-04-13T13:38:02.464Z"
   },
   {
    "duration": 0,
    "start_time": "2023-04-13T13:38:02.466Z"
   },
   {
    "duration": 0,
    "start_time": "2023-04-13T13:38:02.467Z"
   },
   {
    "duration": 0,
    "start_time": "2023-04-13T13:38:02.469Z"
   },
   {
    "duration": 0,
    "start_time": "2023-04-13T13:38:02.470Z"
   },
   {
    "duration": 0,
    "start_time": "2023-04-13T13:38:02.471Z"
   },
   {
    "duration": 0,
    "start_time": "2023-04-13T13:38:02.473Z"
   },
   {
    "duration": 0,
    "start_time": "2023-04-13T13:38:02.474Z"
   },
   {
    "duration": 0,
    "start_time": "2023-04-13T13:38:02.514Z"
   },
   {
    "duration": 0,
    "start_time": "2023-04-13T13:38:02.515Z"
   },
   {
    "duration": 0,
    "start_time": "2023-04-13T13:38:02.516Z"
   },
   {
    "duration": 0,
    "start_time": "2023-04-13T13:38:02.517Z"
   },
   {
    "duration": 0,
    "start_time": "2023-04-13T13:38:02.518Z"
   },
   {
    "duration": 0,
    "start_time": "2023-04-13T13:38:02.519Z"
   },
   {
    "duration": 0,
    "start_time": "2023-04-13T13:38:02.520Z"
   },
   {
    "duration": 0,
    "start_time": "2023-04-13T13:38:02.521Z"
   },
   {
    "duration": 0,
    "start_time": "2023-04-13T13:38:02.522Z"
   },
   {
    "duration": 0,
    "start_time": "2023-04-13T13:38:02.524Z"
   },
   {
    "duration": 333,
    "start_time": "2023-04-13T13:38:27.043Z"
   },
   {
    "duration": 13,
    "start_time": "2023-04-13T13:38:32.155Z"
   },
   {
    "duration": 9,
    "start_time": "2023-04-13T13:38:40.853Z"
   },
   {
    "duration": 18,
    "start_time": "2023-04-13T13:38:45.632Z"
   },
   {
    "duration": 91,
    "start_time": "2023-04-13T13:39:40.270Z"
   },
   {
    "duration": 9,
    "start_time": "2023-04-13T13:39:48.781Z"
   },
   {
    "duration": 16,
    "start_time": "2023-04-13T13:39:51.442Z"
   },
   {
    "duration": 3489,
    "start_time": "2023-04-13T13:40:08.155Z"
   },
   {
    "duration": 29,
    "start_time": "2023-04-13T13:40:19.359Z"
   },
   {
    "duration": 16,
    "start_time": "2023-04-13T13:40:52.429Z"
   },
   {
    "duration": 26,
    "start_time": "2023-04-13T13:40:54.792Z"
   },
   {
    "duration": 14,
    "start_time": "2023-04-13T13:41:04.089Z"
   },
   {
    "duration": 5,
    "start_time": "2023-04-13T13:41:09.282Z"
   },
   {
    "duration": 8,
    "start_time": "2023-04-13T13:41:12.572Z"
   },
   {
    "duration": 16,
    "start_time": "2023-04-13T13:41:14.855Z"
   },
   {
    "duration": 4,
    "start_time": "2023-04-13T13:41:56.191Z"
   },
   {
    "duration": 16,
    "start_time": "2023-04-13T13:42:02.081Z"
   },
   {
    "duration": 13,
    "start_time": "2023-04-13T13:42:38.988Z"
   },
   {
    "duration": 19,
    "start_time": "2023-04-13T13:42:51.498Z"
   },
   {
    "duration": 17,
    "start_time": "2023-04-13T13:43:17.732Z"
   },
   {
    "duration": 6,
    "start_time": "2023-04-13T13:44:20.543Z"
   },
   {
    "duration": 31,
    "start_time": "2023-04-13T13:44:27.914Z"
   },
   {
    "duration": 15,
    "start_time": "2023-04-13T13:44:35.340Z"
   },
   {
    "duration": 15,
    "start_time": "2023-04-13T13:44:59.459Z"
   },
   {
    "duration": 16,
    "start_time": "2023-04-13T13:45:23.905Z"
   },
   {
    "duration": 12,
    "start_time": "2023-04-13T13:45:27.076Z"
   },
   {
    "duration": 6,
    "start_time": "2023-04-13T13:45:29.594Z"
   },
   {
    "duration": 18,
    "start_time": "2023-04-13T13:45:33.204Z"
   },
   {
    "duration": 23,
    "start_time": "2023-04-13T13:45:35.399Z"
   },
   {
    "duration": 7,
    "start_time": "2023-04-13T13:45:38.264Z"
   },
   {
    "duration": 31,
    "start_time": "2023-04-13T13:45:40.613Z"
   },
   {
    "duration": 230,
    "start_time": "2023-04-13T13:46:24.069Z"
   },
   {
    "duration": 229,
    "start_time": "2023-04-13T13:46:43.469Z"
   },
   {
    "duration": 236,
    "start_time": "2023-04-13T13:46:59.705Z"
   },
   {
    "duration": 367,
    "start_time": "2023-04-13T13:48:45.080Z"
   },
   {
    "duration": 7,
    "start_time": "2023-04-13T13:49:46.636Z"
   },
   {
    "duration": 176,
    "start_time": "2023-04-13T13:49:48.883Z"
   },
   {
    "duration": 5,
    "start_time": "2023-04-13T13:51:20.393Z"
   },
   {
    "duration": 163,
    "start_time": "2023-04-13T13:52:04.236Z"
   },
   {
    "duration": 5,
    "start_time": "2023-04-13T13:52:12.595Z"
   },
   {
    "duration": 74,
    "start_time": "2023-04-13T13:52:30.436Z"
   },
   {
    "duration": 11,
    "start_time": "2023-04-13T13:52:33.148Z"
   },
   {
    "duration": 115,
    "start_time": "2023-04-13T13:52:39.136Z"
   },
   {
    "duration": 10,
    "start_time": "2023-04-13T13:52:41.538Z"
   },
   {
    "duration": 9,
    "start_time": "2023-04-13T13:52:46.082Z"
   },
   {
    "duration": 26,
    "start_time": "2023-04-13T13:52:51.663Z"
   },
   {
    "duration": 12,
    "start_time": "2023-04-13T13:53:14.279Z"
   },
   {
    "duration": 17,
    "start_time": "2023-04-13T13:53:45.437Z"
   },
   {
    "duration": 4,
    "start_time": "2023-04-13T13:53:47.973Z"
   },
   {
    "duration": 5,
    "start_time": "2023-04-13T13:53:49.167Z"
   },
   {
    "duration": 37,
    "start_time": "2023-04-13T13:53:50.736Z"
   },
   {
    "duration": 25,
    "start_time": "2023-04-13T13:54:12.063Z"
   },
   {
    "duration": 10,
    "start_time": "2023-04-13T13:54:33.571Z"
   },
   {
    "duration": 5,
    "start_time": "2023-04-13T14:02:32.356Z"
   },
   {
    "duration": 295,
    "start_time": "2023-04-13T14:02:34.439Z"
   },
   {
    "duration": 307,
    "start_time": "2023-04-13T14:02:48.658Z"
   },
   {
    "duration": 7,
    "start_time": "2023-04-13T14:03:16.340Z"
   },
   {
    "duration": 262,
    "start_time": "2023-04-13T14:03:18.399Z"
   },
   {
    "duration": 337,
    "start_time": "2023-04-13T14:03:32.548Z"
   },
   {
    "duration": 308,
    "start_time": "2023-04-13T15:48:52.434Z"
   },
   {
    "duration": 5,
    "start_time": "2023-04-13T15:50:44.870Z"
   },
   {
    "duration": 279,
    "start_time": "2023-04-13T15:50:48.148Z"
   },
   {
    "duration": 323,
    "start_time": "2023-04-13T15:52:37.763Z"
   },
   {
    "duration": 1821,
    "start_time": "2023-04-13T15:53:05.565Z"
   },
   {
    "duration": 1843,
    "start_time": "2023-04-13T15:54:13.865Z"
   },
   {
    "duration": 5,
    "start_time": "2023-04-13T15:54:20.874Z"
   },
   {
    "duration": 338,
    "start_time": "2023-04-13T15:54:23.808Z"
   },
   {
    "duration": 536,
    "start_time": "2023-04-13T15:54:50.507Z"
   },
   {
    "duration": 1411,
    "start_time": "2023-04-13T15:55:19.488Z"
   },
   {
    "duration": 58,
    "start_time": "2023-04-13T15:55:20.902Z"
   },
   {
    "duration": 12,
    "start_time": "2023-04-13T15:55:20.961Z"
   },
   {
    "duration": 10,
    "start_time": "2023-04-13T15:55:20.975Z"
   },
   {
    "duration": 32,
    "start_time": "2023-04-13T15:55:20.987Z"
   },
   {
    "duration": 25,
    "start_time": "2023-04-13T15:55:21.021Z"
   },
   {
    "duration": 11,
    "start_time": "2023-04-13T15:55:21.049Z"
   },
   {
    "duration": 63,
    "start_time": "2023-04-13T15:55:21.062Z"
   },
   {
    "duration": 63,
    "start_time": "2023-04-13T15:55:21.127Z"
   },
   {
    "duration": 8,
    "start_time": "2023-04-13T15:55:21.192Z"
   },
   {
    "duration": 12,
    "start_time": "2023-04-13T15:55:21.202Z"
   },
   {
    "duration": 27,
    "start_time": "2023-04-13T15:55:21.215Z"
   },
   {
    "duration": 9,
    "start_time": "2023-04-13T15:55:21.244Z"
   },
   {
    "duration": 12,
    "start_time": "2023-04-13T15:55:21.255Z"
   },
   {
    "duration": 16,
    "start_time": "2023-04-13T15:55:21.269Z"
   },
   {
    "duration": 7,
    "start_time": "2023-04-13T15:55:21.287Z"
   },
   {
    "duration": 12,
    "start_time": "2023-04-13T15:55:21.295Z"
   },
   {
    "duration": 23,
    "start_time": "2023-04-13T15:55:21.314Z"
   },
   {
    "duration": 18,
    "start_time": "2023-04-13T15:55:21.338Z"
   },
   {
    "duration": 379,
    "start_time": "2023-04-13T15:55:21.360Z"
   },
   {
    "duration": 12,
    "start_time": "2023-04-13T15:55:21.743Z"
   },
   {
    "duration": 273,
    "start_time": "2023-04-13T15:55:21.757Z"
   },
   {
    "duration": 337,
    "start_time": "2023-04-13T15:55:22.035Z"
   },
   {
    "duration": 16,
    "start_time": "2023-04-13T15:55:22.374Z"
   },
   {
    "duration": 6,
    "start_time": "2023-04-13T15:55:22.391Z"
   },
   {
    "duration": 278,
    "start_time": "2023-04-13T15:55:22.398Z"
   },
   {
    "duration": 339,
    "start_time": "2023-04-13T15:55:22.678Z"
   },
   {
    "duration": 10,
    "start_time": "2023-04-13T15:55:23.019Z"
   },
   {
    "duration": 176,
    "start_time": "2023-04-13T15:55:23.031Z"
   },
   {
    "duration": 6,
    "start_time": "2023-04-13T15:55:23.209Z"
   },
   {
    "duration": 170,
    "start_time": "2023-04-13T15:55:23.217Z"
   },
   {
    "duration": 4,
    "start_time": "2023-04-13T15:55:23.389Z"
   },
   {
    "duration": 109,
    "start_time": "2023-04-13T15:55:23.395Z"
   },
   {
    "duration": 22,
    "start_time": "2023-04-13T15:55:23.505Z"
   },
   {
    "duration": 171,
    "start_time": "2023-04-13T15:55:23.531Z"
   },
   {
    "duration": 8,
    "start_time": "2023-04-13T15:55:23.704Z"
   },
   {
    "duration": 20,
    "start_time": "2023-04-13T15:55:23.713Z"
   },
   {
    "duration": 33,
    "start_time": "2023-04-13T15:55:23.735Z"
   },
   {
    "duration": 9,
    "start_time": "2023-04-13T15:55:23.770Z"
   },
   {
    "duration": 50,
    "start_time": "2023-04-13T15:55:23.781Z"
   },
   {
    "duration": 17,
    "start_time": "2023-04-13T15:55:23.834Z"
   },
   {
    "duration": 256,
    "start_time": "2023-04-13T16:14:27.936Z"
   },
   {
    "duration": 320,
    "start_time": "2023-04-13T16:15:27.869Z"
   },
   {
    "duration": 1875,
    "start_time": "2023-04-13T16:15:37.839Z"
   },
   {
    "duration": 130,
    "start_time": "2023-04-13T16:16:31.106Z"
   },
   {
    "duration": 24,
    "start_time": "2023-04-13T16:16:40.632Z"
   },
   {
    "duration": 15,
    "start_time": "2023-04-13T16:17:18.744Z"
   },
   {
    "duration": 135,
    "start_time": "2023-04-13T16:17:51.234Z"
   },
   {
    "duration": 133,
    "start_time": "2023-04-13T16:17:58.889Z"
   },
   {
    "duration": 242,
    "start_time": "2023-04-13T16:19:02.550Z"
   },
   {
    "duration": 20,
    "start_time": "2023-04-13T16:19:14.654Z"
   },
   {
    "duration": 1253,
    "start_time": "2023-04-13T16:20:07.228Z"
   },
   {
    "duration": 24,
    "start_time": "2023-04-13T16:20:08.483Z"
   },
   {
    "duration": 18,
    "start_time": "2023-04-13T16:20:08.508Z"
   },
   {
    "duration": 6,
    "start_time": "2023-04-13T16:20:08.529Z"
   },
   {
    "duration": 11,
    "start_time": "2023-04-13T16:20:08.538Z"
   },
   {
    "duration": 6,
    "start_time": "2023-04-13T16:20:08.551Z"
   },
   {
    "duration": 24,
    "start_time": "2023-04-13T16:20:08.558Z"
   },
   {
    "duration": 85,
    "start_time": "2023-04-13T16:20:08.584Z"
   },
   {
    "duration": 57,
    "start_time": "2023-04-13T16:20:08.671Z"
   },
   {
    "duration": 9,
    "start_time": "2023-04-13T16:20:08.729Z"
   },
   {
    "duration": 7,
    "start_time": "2023-04-13T16:20:08.739Z"
   },
   {
    "duration": 12,
    "start_time": "2023-04-13T16:20:08.748Z"
   },
   {
    "duration": 6,
    "start_time": "2023-04-13T16:20:08.762Z"
   },
   {
    "duration": 11,
    "start_time": "2023-04-13T16:20:08.771Z"
   },
   {
    "duration": 10,
    "start_time": "2023-04-13T16:20:08.784Z"
   },
   {
    "duration": 21,
    "start_time": "2023-04-13T16:20:08.796Z"
   },
   {
    "duration": 21,
    "start_time": "2023-04-13T16:20:08.819Z"
   },
   {
    "duration": 15,
    "start_time": "2023-04-13T16:20:08.843Z"
   },
   {
    "duration": 14,
    "start_time": "2023-04-13T16:20:08.860Z"
   },
   {
    "duration": 470,
    "start_time": "2023-04-13T16:20:08.876Z"
   },
   {
    "duration": 240,
    "start_time": "2023-04-13T16:20:09.347Z"
   },
   {
    "duration": 359,
    "start_time": "2023-04-13T16:20:09.589Z"
   },
   {
    "duration": 17,
    "start_time": "2023-04-13T16:20:09.950Z"
   },
   {
    "duration": 29,
    "start_time": "2023-04-13T16:20:09.968Z"
   },
   {
    "duration": 263,
    "start_time": "2023-04-13T16:20:09.999Z"
   },
   {
    "duration": 301,
    "start_time": "2023-04-13T16:20:10.263Z"
   },
   {
    "duration": 9,
    "start_time": "2023-04-13T16:20:10.565Z"
   },
   {
    "duration": 178,
    "start_time": "2023-04-13T16:20:10.576Z"
   },
   {
    "duration": 6,
    "start_time": "2023-04-13T16:20:10.756Z"
   },
   {
    "duration": 193,
    "start_time": "2023-04-13T16:20:10.764Z"
   },
   {
    "duration": 6,
    "start_time": "2023-04-13T16:20:10.959Z"
   },
   {
    "duration": 107,
    "start_time": "2023-04-13T16:20:10.967Z"
   },
   {
    "duration": 9,
    "start_time": "2023-04-13T16:20:11.077Z"
   },
   {
    "duration": 199,
    "start_time": "2023-04-13T16:20:11.088Z"
   },
   {
    "duration": 6,
    "start_time": "2023-04-13T16:20:11.288Z"
   },
   {
    "duration": 27,
    "start_time": "2023-04-13T16:20:11.296Z"
   },
   {
    "duration": 29,
    "start_time": "2023-04-13T16:20:11.326Z"
   },
   {
    "duration": 9,
    "start_time": "2023-04-13T16:20:11.357Z"
   },
   {
    "duration": 4,
    "start_time": "2023-04-13T16:20:11.368Z"
   },
   {
    "duration": 70,
    "start_time": "2023-04-13T16:20:11.374Z"
   },
   {
    "duration": 12,
    "start_time": "2023-04-13T16:20:11.447Z"
   },
   {
    "duration": 16,
    "start_time": "2023-04-13T16:21:46.775Z"
   },
   {
    "duration": 26,
    "start_time": "2023-04-13T16:21:52.701Z"
   },
   {
    "duration": 18,
    "start_time": "2023-04-13T16:22:07.031Z"
   },
   {
    "duration": 18,
    "start_time": "2023-04-13T16:22:08.672Z"
   },
   {
    "duration": 21,
    "start_time": "2023-04-13T16:22:41.357Z"
   },
   {
    "duration": 303,
    "start_time": "2023-04-13T16:23:12.449Z"
   },
   {
    "duration": 350,
    "start_time": "2023-04-13T16:24:09.351Z"
   },
   {
    "duration": 387,
    "start_time": "2023-04-13T16:25:44.875Z"
   },
   {
    "duration": 25,
    "start_time": "2023-04-13T16:26:46.134Z"
   },
   {
    "duration": 270,
    "start_time": "2023-04-13T16:27:35.336Z"
   },
   {
    "duration": 22,
    "start_time": "2023-04-13T16:32:21.980Z"
   },
   {
    "duration": 406,
    "start_time": "2023-04-13T16:37:06.239Z"
   },
   {
    "duration": 241,
    "start_time": "2023-04-13T16:37:15.587Z"
   },
   {
    "duration": 421,
    "start_time": "2023-04-13T16:37:51.890Z"
   },
   {
    "duration": 520,
    "start_time": "2023-04-13T16:38:54.631Z"
   },
   {
    "duration": 500,
    "start_time": "2023-04-13T16:39:20.452Z"
   },
   {
    "duration": 621,
    "start_time": "2023-04-13T16:39:27.329Z"
   },
   {
    "duration": 527,
    "start_time": "2023-04-13T16:39:34.069Z"
   },
   {
    "duration": 508,
    "start_time": "2023-04-13T16:39:39.966Z"
   },
   {
    "duration": 605,
    "start_time": "2023-04-13T16:39:44.202Z"
   },
   {
    "duration": 554,
    "start_time": "2023-04-13T16:39:54.833Z"
   },
   {
    "duration": 23,
    "start_time": "2023-04-13T16:46:05.042Z"
   },
   {
    "duration": 13,
    "start_time": "2023-04-13T16:46:45.161Z"
   },
   {
    "duration": 17,
    "start_time": "2023-04-13T16:47:03.470Z"
   },
   {
    "duration": 197,
    "start_time": "2023-04-13T16:48:02.142Z"
   },
   {
    "duration": 316,
    "start_time": "2023-04-13T16:48:09.460Z"
   },
   {
    "duration": 318,
    "start_time": "2023-04-13T16:48:32.162Z"
   },
   {
    "duration": 146,
    "start_time": "2023-04-13T16:48:58.147Z"
   },
   {
    "duration": 229,
    "start_time": "2023-04-13T16:49:15.977Z"
   },
   {
    "duration": 269,
    "start_time": "2023-04-13T16:49:45.368Z"
   },
   {
    "duration": 257,
    "start_time": "2023-04-13T16:50:23.951Z"
   },
   {
    "duration": 223,
    "start_time": "2023-04-13T16:50:35.052Z"
   },
   {
    "duration": 254,
    "start_time": "2023-04-13T16:50:51.252Z"
   },
   {
    "duration": 257,
    "start_time": "2023-04-13T16:51:27.736Z"
   },
   {
    "duration": 503,
    "start_time": "2023-04-13T16:52:21.338Z"
   },
   {
    "duration": 529,
    "start_time": "2023-04-13T17:43:04.806Z"
   },
   {
    "duration": 840,
    "start_time": "2023-04-13T17:45:53.571Z"
   },
   {
    "duration": 415,
    "start_time": "2023-04-13T17:46:03.525Z"
   },
   {
    "duration": 379,
    "start_time": "2023-04-13T17:46:17.458Z"
   },
   {
    "duration": 362,
    "start_time": "2023-04-13T17:46:19.724Z"
   },
   {
    "duration": 491,
    "start_time": "2023-04-13T17:47:56.977Z"
   },
   {
    "duration": 452,
    "start_time": "2023-04-13T17:52:08.098Z"
   },
   {
    "duration": 613,
    "start_time": "2023-04-13T17:52:12.011Z"
   },
   {
    "duration": 14,
    "start_time": "2023-04-13T18:05:12.051Z"
   },
   {
    "duration": 141,
    "start_time": "2023-04-13T18:05:13.656Z"
   },
   {
    "duration": 5,
    "start_time": "2023-04-13T18:06:22.069Z"
   },
   {
    "duration": 194,
    "start_time": "2023-04-13T18:08:30.403Z"
   },
   {
    "duration": 184,
    "start_time": "2023-04-13T18:09:37.470Z"
   },
   {
    "duration": 11,
    "start_time": "2023-04-13T18:10:50.732Z"
   },
   {
    "duration": 26,
    "start_time": "2023-04-13T18:12:50.176Z"
   },
   {
    "duration": 19,
    "start_time": "2023-04-13T18:13:04.138Z"
   },
   {
    "duration": 24,
    "start_time": "2023-04-13T18:13:08.438Z"
   },
   {
    "duration": 8,
    "start_time": "2023-04-13T18:13:15.701Z"
   },
   {
    "duration": 17,
    "start_time": "2023-04-13T18:13:59.367Z"
   },
   {
    "duration": 12,
    "start_time": "2023-04-13T18:14:03.377Z"
   },
   {
    "duration": 10,
    "start_time": "2023-04-13T18:14:07.678Z"
   },
   {
    "duration": 8,
    "start_time": "2023-04-13T18:14:16.243Z"
   },
   {
    "duration": 106,
    "start_time": "2023-04-13T18:15:21.635Z"
   },
   {
    "duration": 14,
    "start_time": "2023-04-13T18:15:24.238Z"
   },
   {
    "duration": 96,
    "start_time": "2023-04-13T18:15:39.881Z"
   },
   {
    "duration": 13,
    "start_time": "2023-04-13T18:15:42.729Z"
   },
   {
    "duration": 9,
    "start_time": "2023-04-13T18:18:44.067Z"
   },
   {
    "duration": 15,
    "start_time": "2023-04-13T18:18:57.045Z"
   },
   {
    "duration": 10,
    "start_time": "2023-04-13T18:19:01.150Z"
   },
   {
    "duration": 17,
    "start_time": "2023-04-13T18:19:18.133Z"
   },
   {
    "duration": 13,
    "start_time": "2023-04-13T18:19:25.569Z"
   },
   {
    "duration": 12,
    "start_time": "2023-04-13T18:19:45.153Z"
   },
   {
    "duration": 8,
    "start_time": "2023-04-13T18:19:58.789Z"
   },
   {
    "duration": 76,
    "start_time": "2023-04-13T18:22:45.882Z"
   },
   {
    "duration": 84,
    "start_time": "2023-04-13T18:22:49.956Z"
   },
   {
    "duration": 25,
    "start_time": "2023-04-13T18:22:56.465Z"
   },
   {
    "duration": 10,
    "start_time": "2023-04-13T18:27:29.390Z"
   },
   {
    "duration": 68,
    "start_time": "2023-04-13T18:31:22.444Z"
   },
   {
    "duration": 14,
    "start_time": "2023-04-13T18:31:28.144Z"
   },
   {
    "duration": 15,
    "start_time": "2023-04-13T18:31:43.536Z"
   },
   {
    "duration": 10,
    "start_time": "2023-04-13T18:32:05.253Z"
   },
   {
    "duration": 11,
    "start_time": "2023-04-13T18:32:15.938Z"
   },
   {
    "duration": 9,
    "start_time": "2023-04-13T18:32:58.300Z"
   },
   {
    "duration": 18,
    "start_time": "2023-04-13T18:33:07.212Z"
   },
   {
    "duration": 6,
    "start_time": "2023-04-13T18:33:19.102Z"
   },
   {
    "duration": 4,
    "start_time": "2023-04-13T18:33:24.891Z"
   },
   {
    "duration": 105,
    "start_time": "2023-04-13T18:33:57.238Z"
   },
   {
    "duration": 135,
    "start_time": "2023-04-13T18:34:03.781Z"
   },
   {
    "duration": 15,
    "start_time": "2023-04-13T18:34:05.838Z"
   },
   {
    "duration": 8,
    "start_time": "2023-04-13T18:34:10.040Z"
   },
   {
    "duration": 10,
    "start_time": "2023-04-13T18:34:17.714Z"
   },
   {
    "duration": 8,
    "start_time": "2023-04-13T18:37:26.070Z"
   },
   {
    "duration": 1384,
    "start_time": "2023-04-14T07:44:26.919Z"
   },
   {
    "duration": 81,
    "start_time": "2023-04-14T07:44:28.305Z"
   },
   {
    "duration": 11,
    "start_time": "2023-04-14T07:44:28.388Z"
   },
   {
    "duration": 16,
    "start_time": "2023-04-14T07:44:28.401Z"
   },
   {
    "duration": 15,
    "start_time": "2023-04-14T07:44:28.418Z"
   },
   {
    "duration": 9,
    "start_time": "2023-04-14T07:44:28.435Z"
   },
   {
    "duration": 21,
    "start_time": "2023-04-14T07:44:28.446Z"
   },
   {
    "duration": 55,
    "start_time": "2023-04-14T07:44:28.468Z"
   },
   {
    "duration": 152,
    "start_time": "2023-04-14T07:44:28.525Z"
   },
   {
    "duration": 9,
    "start_time": "2023-04-14T07:44:28.680Z"
   },
   {
    "duration": 15,
    "start_time": "2023-04-14T07:44:28.691Z"
   },
   {
    "duration": 23,
    "start_time": "2023-04-14T07:44:28.708Z"
   },
   {
    "duration": 5,
    "start_time": "2023-04-14T07:44:28.733Z"
   },
   {
    "duration": 15,
    "start_time": "2023-04-14T07:44:28.739Z"
   },
   {
    "duration": 20,
    "start_time": "2023-04-14T07:44:28.756Z"
   },
   {
    "duration": 15,
    "start_time": "2023-04-14T07:44:28.778Z"
   },
   {
    "duration": 12,
    "start_time": "2023-04-14T07:44:28.794Z"
   },
   {
    "duration": 23,
    "start_time": "2023-04-14T07:44:28.808Z"
   },
   {
    "duration": 22,
    "start_time": "2023-04-14T07:44:28.832Z"
   },
   {
    "duration": 12,
    "start_time": "2023-04-14T07:44:28.856Z"
   },
   {
    "duration": 35,
    "start_time": "2023-04-14T07:44:28.870Z"
   },
   {
    "duration": 288,
    "start_time": "2023-04-14T07:44:28.907Z"
   },
   {
    "duration": 350,
    "start_time": "2023-04-14T07:44:29.197Z"
   },
   {
    "duration": 187,
    "start_time": "2023-04-14T07:44:29.548Z"
   },
   {
    "duration": 369,
    "start_time": "2023-04-14T07:44:29.737Z"
   },
   {
    "duration": 14,
    "start_time": "2023-04-14T07:44:30.108Z"
   },
   {
    "duration": 221,
    "start_time": "2023-04-14T07:44:30.123Z"
   },
   {
    "duration": 306,
    "start_time": "2023-04-14T07:44:30.348Z"
   },
   {
    "duration": 6,
    "start_time": "2023-04-14T07:44:30.656Z"
   },
   {
    "duration": 189,
    "start_time": "2023-04-14T07:44:30.663Z"
   },
   {
    "duration": 5,
    "start_time": "2023-04-14T07:44:30.853Z"
   },
   {
    "duration": 180,
    "start_time": "2023-04-14T07:44:30.859Z"
   },
   {
    "duration": 6,
    "start_time": "2023-04-14T07:44:31.041Z"
   },
   {
    "duration": 87,
    "start_time": "2023-04-14T07:44:31.048Z"
   },
   {
    "duration": 93,
    "start_time": "2023-04-14T07:44:31.136Z"
   },
   {
    "duration": 5,
    "start_time": "2023-04-14T07:44:31.231Z"
   },
   {
    "duration": 111,
    "start_time": "2023-04-14T07:44:31.237Z"
   },
   {
    "duration": 5,
    "start_time": "2023-04-14T07:44:31.350Z"
   },
   {
    "duration": 63,
    "start_time": "2023-04-14T07:44:31.356Z"
   },
   {
    "duration": 18,
    "start_time": "2023-04-14T07:44:31.421Z"
   },
   {
    "duration": 377,
    "start_time": "2023-04-14T07:44:31.441Z"
   },
   {
    "duration": 0,
    "start_time": "2023-04-14T07:44:31.820Z"
   },
   {
    "duration": 0,
    "start_time": "2023-04-14T07:44:31.821Z"
   },
   {
    "duration": 0,
    "start_time": "2023-04-14T07:44:31.822Z"
   },
   {
    "duration": 0,
    "start_time": "2023-04-14T07:44:31.823Z"
   },
   {
    "duration": 0,
    "start_time": "2023-04-14T07:44:31.824Z"
   },
   {
    "duration": 0,
    "start_time": "2023-04-14T07:44:31.825Z"
   },
   {
    "duration": 0,
    "start_time": "2023-04-14T07:44:31.826Z"
   },
   {
    "duration": 147,
    "start_time": "2023-04-14T07:45:02.589Z"
   },
   {
    "duration": 3,
    "start_time": "2023-04-14T07:45:04.806Z"
   },
   {
    "duration": 6,
    "start_time": "2023-04-14T07:45:23.321Z"
   },
   {
    "duration": 3,
    "start_time": "2023-04-14T07:48:37.229Z"
   },
   {
    "duration": 7,
    "start_time": "2023-04-14T07:48:47.180Z"
   },
   {
    "duration": 4,
    "start_time": "2023-04-14T07:48:57.297Z"
   },
   {
    "duration": 3,
    "start_time": "2023-04-14T07:49:20.797Z"
   },
   {
    "duration": 4,
    "start_time": "2023-04-14T07:49:23.629Z"
   },
   {
    "duration": 4,
    "start_time": "2023-04-14T07:49:29.292Z"
   },
   {
    "duration": 3,
    "start_time": "2023-04-14T07:49:51.689Z"
   },
   {
    "duration": 3,
    "start_time": "2023-04-14T07:49:58.409Z"
   },
   {
    "duration": 6,
    "start_time": "2023-04-14T07:51:58.993Z"
   },
   {
    "duration": 4,
    "start_time": "2023-04-14T07:52:00.559Z"
   },
   {
    "duration": 6,
    "start_time": "2023-04-14T07:57:18.392Z"
   },
   {
    "duration": 115,
    "start_time": "2023-04-14T07:58:37.040Z"
   },
   {
    "duration": 65,
    "start_time": "2023-04-14T07:59:13.984Z"
   },
   {
    "duration": 4,
    "start_time": "2023-04-14T07:59:20.819Z"
   },
   {
    "duration": 7,
    "start_time": "2023-04-14T07:59:37.110Z"
   },
   {
    "duration": 5,
    "start_time": "2023-04-14T08:02:49.631Z"
   },
   {
    "duration": 65,
    "start_time": "2023-04-14T08:02:59.923Z"
   },
   {
    "duration": 7,
    "start_time": "2023-04-14T08:03:02.233Z"
   },
   {
    "duration": 3,
    "start_time": "2023-04-14T08:03:08.193Z"
   },
   {
    "duration": 3,
    "start_time": "2023-04-14T08:03:22.033Z"
   },
   {
    "duration": 72,
    "start_time": "2023-04-14T08:03:24.144Z"
   },
   {
    "duration": 5,
    "start_time": "2023-04-14T08:03:25.633Z"
   },
   {
    "duration": 5,
    "start_time": "2023-04-14T08:03:49.656Z"
   },
   {
    "duration": 15,
    "start_time": "2023-04-14T08:08:10.406Z"
   },
   {
    "duration": 13,
    "start_time": "2023-04-14T08:08:19.315Z"
   },
   {
    "duration": 4,
    "start_time": "2023-04-14T08:13:14.129Z"
   },
   {
    "duration": 8,
    "start_time": "2023-04-14T08:13:20.825Z"
   },
   {
    "duration": 4,
    "start_time": "2023-04-14T08:13:29.920Z"
   },
   {
    "duration": 76,
    "start_time": "2023-04-14T08:13:32.729Z"
   },
   {
    "duration": 5,
    "start_time": "2023-04-14T08:13:35.931Z"
   },
   {
    "duration": 70,
    "start_time": "2023-04-14T08:14:00.939Z"
   },
   {
    "duration": 6,
    "start_time": "2023-04-14T08:14:02.740Z"
   },
   {
    "duration": 4,
    "start_time": "2023-04-14T08:14:49.856Z"
   },
   {
    "duration": 18,
    "start_time": "2023-04-14T08:14:52.960Z"
   },
   {
    "duration": 11,
    "start_time": "2023-04-14T08:15:11.146Z"
   },
   {
    "duration": 4,
    "start_time": "2023-04-14T08:15:50.403Z"
   },
   {
    "duration": 7,
    "start_time": "2023-04-14T08:15:54.504Z"
   },
   {
    "duration": 6,
    "start_time": "2023-04-14T08:16:03.687Z"
   },
   {
    "duration": 76,
    "start_time": "2023-04-14T08:16:06.840Z"
   },
   {
    "duration": 5,
    "start_time": "2023-04-14T08:16:09.930Z"
   },
   {
    "duration": 12,
    "start_time": "2023-04-14T08:16:32.132Z"
   },
   {
    "duration": 13,
    "start_time": "2023-04-14T08:17:01.429Z"
   },
   {
    "duration": 9,
    "start_time": "2023-04-14T08:19:53.286Z"
   },
   {
    "duration": 8,
    "start_time": "2023-04-14T08:19:59.441Z"
   },
   {
    "duration": 5,
    "start_time": "2023-04-14T08:20:06.099Z"
   },
   {
    "duration": 4,
    "start_time": "2023-04-14T08:20:14.912Z"
   },
   {
    "duration": 13,
    "start_time": "2023-04-14T08:21:33.670Z"
   },
   {
    "duration": 12,
    "start_time": "2023-04-14T08:21:40.547Z"
   },
   {
    "duration": 2,
    "start_time": "2023-04-14T08:22:04.719Z"
   },
   {
    "duration": 7,
    "start_time": "2023-04-14T08:22:09.393Z"
   },
   {
    "duration": 13,
    "start_time": "2023-04-14T08:22:22.490Z"
   },
   {
    "duration": 12,
    "start_time": "2023-04-14T08:22:51.350Z"
   },
   {
    "duration": 9,
    "start_time": "2023-04-14T08:23:19.080Z"
   },
   {
    "duration": 12,
    "start_time": "2023-04-14T08:23:32.183Z"
   },
   {
    "duration": 6,
    "start_time": "2023-04-14T08:26:06.534Z"
   },
   {
    "duration": 66,
    "start_time": "2023-04-14T08:26:15.327Z"
   },
   {
    "duration": 6,
    "start_time": "2023-04-14T08:26:25.664Z"
   },
   {
    "duration": 75,
    "start_time": "2023-04-14T08:26:28.614Z"
   },
   {
    "duration": 57,
    "start_time": "2023-04-14T08:27:01.534Z"
   },
   {
    "duration": 5,
    "start_time": "2023-04-14T08:27:03.889Z"
   },
   {
    "duration": 4,
    "start_time": "2023-04-14T08:28:09.132Z"
   },
   {
    "duration": 66,
    "start_time": "2023-04-14T08:28:12.943Z"
   },
   {
    "duration": 5,
    "start_time": "2023-04-14T08:28:14.605Z"
   },
   {
    "duration": 5,
    "start_time": "2023-04-14T08:28:52.521Z"
   },
   {
    "duration": 61,
    "start_time": "2023-04-14T08:29:08.200Z"
   },
   {
    "duration": 5,
    "start_time": "2023-04-14T08:29:09.933Z"
   },
   {
    "duration": 94,
    "start_time": "2023-04-14T08:29:37.719Z"
   },
   {
    "duration": 5,
    "start_time": "2023-04-14T08:29:45.194Z"
   },
   {
    "duration": 20,
    "start_time": "2023-04-14T08:30:06.602Z"
   },
   {
    "duration": 70,
    "start_time": "2023-04-14T08:30:23.401Z"
   },
   {
    "duration": 74,
    "start_time": "2023-04-14T08:30:40.040Z"
   },
   {
    "duration": 20,
    "start_time": "2023-04-14T08:31:49.620Z"
   },
   {
    "duration": 75,
    "start_time": "2023-04-14T08:32:48.995Z"
   },
   {
    "duration": 132,
    "start_time": "2023-04-14T08:33:13.535Z"
   },
   {
    "duration": 20,
    "start_time": "2023-04-14T08:33:16.020Z"
   },
   {
    "duration": 20,
    "start_time": "2023-04-14T08:33:19.926Z"
   },
   {
    "duration": 55,
    "start_time": "2023-04-14T08:34:43.437Z"
   },
   {
    "duration": 9,
    "start_time": "2023-04-14T08:36:45.917Z"
   },
   {
    "duration": 10,
    "start_time": "2023-04-14T08:37:01.328Z"
   },
   {
    "duration": 17,
    "start_time": "2023-04-14T08:41:03.785Z"
   },
   {
    "duration": 166,
    "start_time": "2023-04-14T08:41:32.280Z"
   },
   {
    "duration": 367,
    "start_time": "2023-04-14T08:41:42.819Z"
   },
   {
    "duration": 4911,
    "start_time": "2023-04-14T08:42:44.318Z"
   },
   {
    "duration": 31,
    "start_time": "2023-04-14T08:45:11.113Z"
   },
   {
    "duration": 378,
    "start_time": "2023-04-14T08:45:13.896Z"
   },
   {
    "duration": 487,
    "start_time": "2023-04-14T08:45:36.418Z"
   },
   {
    "duration": 209,
    "start_time": "2023-04-14T08:45:43.995Z"
   },
   {
    "duration": 350,
    "start_time": "2023-04-14T08:45:53.178Z"
   },
   {
    "duration": 14,
    "start_time": "2023-04-14T08:46:20.615Z"
   },
   {
    "duration": 10,
    "start_time": "2023-04-14T09:27:55.730Z"
   },
   {
    "duration": 9,
    "start_time": "2023-04-14T09:28:02.040Z"
   },
   {
    "duration": 8,
    "start_time": "2023-04-14T09:28:25.376Z"
   },
   {
    "duration": 11,
    "start_time": "2023-04-14T09:28:27.827Z"
   },
   {
    "duration": 10,
    "start_time": "2023-04-14T09:29:12.591Z"
   },
   {
    "duration": 16,
    "start_time": "2023-04-14T09:29:15.453Z"
   },
   {
    "duration": 11,
    "start_time": "2023-04-14T09:29:52.520Z"
   },
   {
    "duration": 2067,
    "start_time": "2023-04-14T09:30:13.279Z"
   },
   {
    "duration": 9,
    "start_time": "2023-04-14T09:30:25.881Z"
   },
   {
    "duration": 17,
    "start_time": "2023-04-14T09:30:30.761Z"
   },
   {
    "duration": 5,
    "start_time": "2023-04-14T09:31:40.790Z"
   },
   {
    "duration": 67,
    "start_time": "2023-04-14T09:31:42.452Z"
   },
   {
    "duration": 71,
    "start_time": "2023-04-14T09:31:45.101Z"
   },
   {
    "duration": 30,
    "start_time": "2023-04-14T09:31:48.073Z"
   },
   {
    "duration": 108,
    "start_time": "2023-04-14T09:32:01.592Z"
   },
   {
    "duration": 5,
    "start_time": "2023-04-14T09:32:03.075Z"
   },
   {
    "duration": 138,
    "start_time": "2023-04-14T09:32:04.765Z"
   },
   {
    "duration": 32,
    "start_time": "2023-04-14T09:32:06.365Z"
   },
   {
    "duration": 11,
    "start_time": "2023-04-14T09:32:11.122Z"
   },
   {
    "duration": 345,
    "start_time": "2023-04-14T09:32:48.265Z"
   },
   {
    "duration": 355,
    "start_time": "2023-04-14T09:33:19.566Z"
   },
   {
    "duration": 6,
    "start_time": "2023-04-14T09:36:41.458Z"
   },
   {
    "duration": 9,
    "start_time": "2023-04-14T09:37:02.768Z"
   },
   {
    "duration": 6,
    "start_time": "2023-04-14T09:37:14.065Z"
   },
   {
    "duration": 10,
    "start_time": "2023-04-14T09:37:15.828Z"
   },
   {
    "duration": 6,
    "start_time": "2023-04-14T09:37:46.339Z"
   },
   {
    "duration": 11,
    "start_time": "2023-04-14T09:37:49.069Z"
   },
   {
    "duration": 5,
    "start_time": "2023-04-14T09:38:01.158Z"
   },
   {
    "duration": 27,
    "start_time": "2023-04-14T09:38:02.772Z"
   },
   {
    "duration": 5,
    "start_time": "2023-04-14T09:38:22.115Z"
   },
   {
    "duration": 25,
    "start_time": "2023-04-14T09:38:24.025Z"
   },
   {
    "duration": 1701,
    "start_time": "2023-04-14T09:38:52.888Z"
   },
   {
    "duration": 27,
    "start_time": "2023-04-14T09:38:54.591Z"
   },
   {
    "duration": 11,
    "start_time": "2023-04-14T09:38:54.620Z"
   },
   {
    "duration": 6,
    "start_time": "2023-04-14T09:38:54.632Z"
   },
   {
    "duration": 16,
    "start_time": "2023-04-14T09:38:54.640Z"
   },
   {
    "duration": 8,
    "start_time": "2023-04-14T09:38:54.658Z"
   },
   {
    "duration": 15,
    "start_time": "2023-04-14T09:38:54.668Z"
   },
   {
    "duration": 57,
    "start_time": "2023-04-14T09:38:54.684Z"
   },
   {
    "duration": 50,
    "start_time": "2023-04-14T09:38:54.743Z"
   },
   {
    "duration": 7,
    "start_time": "2023-04-14T09:38:54.794Z"
   },
   {
    "duration": 25,
    "start_time": "2023-04-14T09:38:54.803Z"
   },
   {
    "duration": 29,
    "start_time": "2023-04-14T09:38:54.829Z"
   },
   {
    "duration": 14,
    "start_time": "2023-04-14T09:38:54.859Z"
   },
   {
    "duration": 24,
    "start_time": "2023-04-14T09:38:54.876Z"
   },
   {
    "duration": 31,
    "start_time": "2023-04-14T09:38:54.902Z"
   },
   {
    "duration": 20,
    "start_time": "2023-04-14T09:38:54.934Z"
   },
   {
    "duration": 19,
    "start_time": "2023-04-14T09:38:54.955Z"
   },
   {
    "duration": 20,
    "start_time": "2023-04-14T09:38:54.976Z"
   },
   {
    "duration": 77,
    "start_time": "2023-04-14T09:38:54.998Z"
   },
   {
    "duration": 0,
    "start_time": "2023-04-14T09:38:55.077Z"
   },
   {
    "duration": 0,
    "start_time": "2023-04-14T09:38:55.079Z"
   },
   {
    "duration": 0,
    "start_time": "2023-04-14T09:38:55.080Z"
   },
   {
    "duration": 0,
    "start_time": "2023-04-14T09:38:55.081Z"
   },
   {
    "duration": 0,
    "start_time": "2023-04-14T09:38:55.083Z"
   },
   {
    "duration": 0,
    "start_time": "2023-04-14T09:38:55.084Z"
   },
   {
    "duration": 0,
    "start_time": "2023-04-14T09:38:55.085Z"
   },
   {
    "duration": 0,
    "start_time": "2023-04-14T09:38:55.086Z"
   },
   {
    "duration": 0,
    "start_time": "2023-04-14T09:38:55.087Z"
   },
   {
    "duration": 0,
    "start_time": "2023-04-14T09:38:55.088Z"
   },
   {
    "duration": 0,
    "start_time": "2023-04-14T09:38:55.089Z"
   },
   {
    "duration": 0,
    "start_time": "2023-04-14T09:38:55.091Z"
   },
   {
    "duration": 0,
    "start_time": "2023-04-14T09:38:55.092Z"
   },
   {
    "duration": 0,
    "start_time": "2023-04-14T09:38:55.093Z"
   },
   {
    "duration": 0,
    "start_time": "2023-04-14T09:38:55.094Z"
   },
   {
    "duration": 0,
    "start_time": "2023-04-14T09:38:55.095Z"
   },
   {
    "duration": 0,
    "start_time": "2023-04-14T09:38:55.096Z"
   },
   {
    "duration": 0,
    "start_time": "2023-04-14T09:38:55.097Z"
   },
   {
    "duration": 0,
    "start_time": "2023-04-14T09:38:55.098Z"
   },
   {
    "duration": 0,
    "start_time": "2023-04-14T09:38:55.100Z"
   },
   {
    "duration": 0,
    "start_time": "2023-04-14T09:38:55.100Z"
   },
   {
    "duration": 0,
    "start_time": "2023-04-14T09:38:55.101Z"
   },
   {
    "duration": 0,
    "start_time": "2023-04-14T09:38:55.102Z"
   },
   {
    "duration": 0,
    "start_time": "2023-04-14T09:38:55.103Z"
   },
   {
    "duration": 1,
    "start_time": "2023-04-14T09:38:55.104Z"
   },
   {
    "duration": 0,
    "start_time": "2023-04-14T09:38:55.105Z"
   },
   {
    "duration": 0,
    "start_time": "2023-04-14T09:38:55.106Z"
   },
   {
    "duration": 0,
    "start_time": "2023-04-14T09:38:55.107Z"
   },
   {
    "duration": 0,
    "start_time": "2023-04-14T09:38:55.108Z"
   },
   {
    "duration": 0,
    "start_time": "2023-04-14T09:38:55.109Z"
   },
   {
    "duration": 0,
    "start_time": "2023-04-14T09:38:55.110Z"
   },
   {
    "duration": 0,
    "start_time": "2023-04-14T09:38:55.111Z"
   },
   {
    "duration": 0,
    "start_time": "2023-04-14T09:38:55.112Z"
   },
   {
    "duration": 0,
    "start_time": "2023-04-14T09:38:55.113Z"
   },
   {
    "duration": 5,
    "start_time": "2023-04-14T09:39:04.624Z"
   },
   {
    "duration": 117,
    "start_time": "2023-04-14T09:39:10.775Z"
   },
   {
    "duration": 4,
    "start_time": "2023-04-14T09:39:36.467Z"
   },
   {
    "duration": 20,
    "start_time": "2023-04-14T09:39:38.244Z"
   },
   {
    "duration": 14,
    "start_time": "2023-04-14T09:40:46.819Z"
   },
   {
    "duration": 6,
    "start_time": "2023-04-14T09:42:02.580Z"
   },
   {
    "duration": 16,
    "start_time": "2023-04-14T09:42:04.782Z"
   },
   {
    "duration": 17,
    "start_time": "2023-04-14T09:42:06.907Z"
   },
   {
    "duration": 5,
    "start_time": "2023-04-14T09:42:49.506Z"
   },
   {
    "duration": 14,
    "start_time": "2023-04-14T09:42:50.848Z"
   },
   {
    "duration": 19,
    "start_time": "2023-04-14T09:42:52.515Z"
   },
   {
    "duration": 5,
    "start_time": "2023-04-14T09:43:28.004Z"
   },
   {
    "duration": 5,
    "start_time": "2023-04-14T09:44:57.240Z"
   },
   {
    "duration": 15,
    "start_time": "2023-04-14T09:44:58.942Z"
   },
   {
    "duration": 14,
    "start_time": "2023-04-14T09:45:01.922Z"
   },
   {
    "duration": 12,
    "start_time": "2023-04-14T09:45:13.715Z"
   },
   {
    "duration": 14,
    "start_time": "2023-04-14T09:45:15.707Z"
   },
   {
    "duration": 12,
    "start_time": "2023-04-14T09:45:25.088Z"
   },
   {
    "duration": 286,
    "start_time": "2023-04-14T09:45:35.106Z"
   },
   {
    "duration": 14,
    "start_time": "2023-04-14T09:46:15.601Z"
   },
   {
    "duration": 181,
    "start_time": "2023-04-14T09:46:24.297Z"
   },
   {
    "duration": 354,
    "start_time": "2023-04-14T09:46:33.021Z"
   },
   {
    "duration": 313,
    "start_time": "2023-04-14T09:46:48.382Z"
   },
   {
    "duration": 397,
    "start_time": "2023-04-14T09:46:59.711Z"
   },
   {
    "duration": 218,
    "start_time": "2023-04-14T09:47:09.884Z"
   },
   {
    "duration": 290,
    "start_time": "2023-04-14T09:47:17.554Z"
   },
   {
    "duration": 1225,
    "start_time": "2023-04-14T09:47:27.360Z"
   },
   {
    "duration": 11,
    "start_time": "2023-04-14T09:49:39.096Z"
   },
   {
    "duration": 11,
    "start_time": "2023-04-14T09:49:55.178Z"
   },
   {
    "duration": 5,
    "start_time": "2023-04-14T09:49:59.042Z"
   },
   {
    "duration": 14,
    "start_time": "2023-04-14T09:50:00.868Z"
   },
   {
    "duration": 14,
    "start_time": "2023-04-14T09:50:03.010Z"
   },
   {
    "duration": 22,
    "start_time": "2023-04-14T09:50:07.559Z"
   },
   {
    "duration": 196,
    "start_time": "2023-04-14T09:50:09.349Z"
   },
   {
    "duration": 200,
    "start_time": "2023-04-14T09:50:17.158Z"
   },
   {
    "duration": 330,
    "start_time": "2023-04-14T09:50:26.147Z"
   },
   {
    "duration": 6,
    "start_time": "2023-04-14T09:50:31.160Z"
   },
   {
    "duration": 109,
    "start_time": "2023-04-14T09:50:34.636Z"
   },
   {
    "duration": 5,
    "start_time": "2023-04-14T09:50:38.068Z"
   },
   {
    "duration": 129,
    "start_time": "2023-04-14T09:50:39.708Z"
   },
   {
    "duration": 4,
    "start_time": "2023-04-14T09:50:43.048Z"
   },
   {
    "duration": 5,
    "start_time": "2023-04-14T09:50:44.539Z"
   },
   {
    "duration": 5,
    "start_time": "2023-04-14T09:50:48.236Z"
   },
   {
    "duration": 68,
    "start_time": "2023-04-14T09:50:55.836Z"
   },
   {
    "duration": 99,
    "start_time": "2023-04-14T09:50:57.709Z"
   },
   {
    "duration": 84,
    "start_time": "2023-04-14T09:51:03.588Z"
   },
   {
    "duration": 22,
    "start_time": "2023-04-14T09:51:05.838Z"
   },
   {
    "duration": 8,
    "start_time": "2023-04-14T09:51:09.249Z"
   },
   {
    "duration": 117,
    "start_time": "2023-04-14T09:51:13.509Z"
   },
   {
    "duration": 162,
    "start_time": "2023-04-14T09:51:27.529Z"
   },
   {
    "duration": 5,
    "start_time": "2023-04-14T09:51:30.440Z"
   },
   {
    "duration": 118,
    "start_time": "2023-04-14T09:51:32.248Z"
   },
   {
    "duration": 8,
    "start_time": "2023-04-14T09:51:34.198Z"
   },
   {
    "duration": 20,
    "start_time": "2023-04-14T09:52:18.308Z"
   },
   {
    "duration": 10,
    "start_time": "2023-04-14T09:52:41.851Z"
   },
   {
    "duration": 5,
    "start_time": "2023-04-14T09:53:02.960Z"
   },
   {
    "duration": 3,
    "start_time": "2023-04-14T09:53:10.841Z"
   },
   {
    "duration": 150,
    "start_time": "2023-04-14T09:53:23.732Z"
   },
   {
    "duration": 5,
    "start_time": "2023-04-14T09:53:31.240Z"
   },
   {
    "duration": 3,
    "start_time": "2023-04-14T09:53:32.570Z"
   },
   {
    "duration": 9,
    "start_time": "2023-04-14T09:53:52.570Z"
   },
   {
    "duration": 7,
    "start_time": "2023-04-14T09:53:58.791Z"
   },
   {
    "duration": 9,
    "start_time": "2023-04-14T09:54:04.991Z"
   },
   {
    "duration": 130,
    "start_time": "2023-04-14T09:54:23.462Z"
   },
   {
    "duration": 4,
    "start_time": "2023-04-14T09:54:32.451Z"
   },
   {
    "duration": 119,
    "start_time": "2023-04-14T09:54:49.481Z"
   },
   {
    "duration": 4,
    "start_time": "2023-04-14T09:54:52.382Z"
   },
   {
    "duration": 5,
    "start_time": "2023-04-14T09:55:23.680Z"
   },
   {
    "duration": 4,
    "start_time": "2023-04-14T09:55:29.048Z"
   },
   {
    "duration": 4,
    "start_time": "2023-04-14T09:55:40.797Z"
   },
   {
    "duration": 5,
    "start_time": "2023-04-14T09:55:52.069Z"
   },
   {
    "duration": 127,
    "start_time": "2023-04-14T09:56:13.201Z"
   },
   {
    "duration": 4,
    "start_time": "2023-04-14T09:56:14.851Z"
   },
   {
    "duration": 4,
    "start_time": "2023-04-14T09:56:24.140Z"
   },
   {
    "duration": 3,
    "start_time": "2023-04-14T09:56:36.391Z"
   },
   {
    "duration": 1134,
    "start_time": "2023-04-14T09:56:45.760Z"
   },
   {
    "duration": 29,
    "start_time": "2023-04-14T09:56:46.896Z"
   },
   {
    "duration": 11,
    "start_time": "2023-04-14T09:56:46.927Z"
   },
   {
    "duration": 5,
    "start_time": "2023-04-14T09:56:46.939Z"
   },
   {
    "duration": 21,
    "start_time": "2023-04-14T09:56:46.946Z"
   },
   {
    "duration": 10,
    "start_time": "2023-04-14T09:56:46.968Z"
   },
   {
    "duration": 20,
    "start_time": "2023-04-14T09:56:46.979Z"
   },
   {
    "duration": 61,
    "start_time": "2023-04-14T09:56:47.001Z"
   },
   {
    "duration": 51,
    "start_time": "2023-04-14T09:56:47.064Z"
   },
   {
    "duration": 7,
    "start_time": "2023-04-14T09:56:47.117Z"
   },
   {
    "duration": 15,
    "start_time": "2023-04-14T09:56:47.126Z"
   },
   {
    "duration": 14,
    "start_time": "2023-04-14T09:56:47.143Z"
   },
   {
    "duration": 11,
    "start_time": "2023-04-14T09:56:47.158Z"
   },
   {
    "duration": 9,
    "start_time": "2023-04-14T09:56:47.172Z"
   },
   {
    "duration": 20,
    "start_time": "2023-04-14T09:56:47.182Z"
   },
   {
    "duration": 20,
    "start_time": "2023-04-14T09:56:47.203Z"
   },
   {
    "duration": 14,
    "start_time": "2023-04-14T09:56:47.224Z"
   },
   {
    "duration": 10,
    "start_time": "2023-04-14T09:56:47.239Z"
   },
   {
    "duration": 5,
    "start_time": "2023-04-14T09:56:47.250Z"
   },
   {
    "duration": 17,
    "start_time": "2023-04-14T09:56:47.256Z"
   },
   {
    "duration": 12,
    "start_time": "2023-04-14T09:56:47.275Z"
   },
   {
    "duration": 15,
    "start_time": "2023-04-14T09:56:47.288Z"
   },
   {
    "duration": 272,
    "start_time": "2023-04-14T09:56:47.305Z"
   },
   {
    "duration": 356,
    "start_time": "2023-04-14T09:56:47.579Z"
   },
   {
    "duration": 180,
    "start_time": "2023-04-14T09:56:47.936Z"
   },
   {
    "duration": 254,
    "start_time": "2023-04-14T09:56:48.118Z"
   },
   {
    "duration": 206,
    "start_time": "2023-04-14T09:56:48.373Z"
   },
   {
    "duration": 266,
    "start_time": "2023-04-14T09:56:48.580Z"
   },
   {
    "duration": 7,
    "start_time": "2023-04-14T09:56:48.848Z"
   },
   {
    "duration": 197,
    "start_time": "2023-04-14T09:56:48.857Z"
   },
   {
    "duration": 4,
    "start_time": "2023-04-14T09:56:49.056Z"
   },
   {
    "duration": 155,
    "start_time": "2023-04-14T09:56:49.062Z"
   },
   {
    "duration": 5,
    "start_time": "2023-04-14T09:56:49.219Z"
   },
   {
    "duration": 10,
    "start_time": "2023-04-14T09:56:49.226Z"
   },
   {
    "duration": 5,
    "start_time": "2023-04-14T09:56:49.238Z"
   },
   {
    "duration": 85,
    "start_time": "2023-04-14T09:56:49.245Z"
   },
   {
    "duration": 81,
    "start_time": "2023-04-14T09:56:49.331Z"
   },
   {
    "duration": 21,
    "start_time": "2023-04-14T09:56:49.413Z"
   },
   {
    "duration": 7,
    "start_time": "2023-04-14T09:56:49.435Z"
   },
   {
    "duration": 129,
    "start_time": "2023-04-14T09:56:49.444Z"
   },
   {
    "duration": 3,
    "start_time": "2023-04-14T09:56:49.577Z"
   },
   {
    "duration": 25,
    "start_time": "2023-04-14T09:56:49.581Z"
   },
   {
    "duration": 132,
    "start_time": "2023-04-14T09:56:49.608Z"
   },
   {
    "duration": 0,
    "start_time": "2023-04-14T09:56:49.741Z"
   },
   {
    "duration": 0,
    "start_time": "2023-04-14T09:56:49.743Z"
   },
   {
    "duration": 0,
    "start_time": "2023-04-14T09:56:49.744Z"
   },
   {
    "duration": 0,
    "start_time": "2023-04-14T09:56:49.745Z"
   },
   {
    "duration": 0,
    "start_time": "2023-04-14T09:56:49.746Z"
   },
   {
    "duration": 0,
    "start_time": "2023-04-14T09:56:49.747Z"
   },
   {
    "duration": 1,
    "start_time": "2023-04-14T09:56:49.748Z"
   },
   {
    "duration": 0,
    "start_time": "2023-04-14T09:56:49.750Z"
   },
   {
    "duration": 0,
    "start_time": "2023-04-14T09:56:49.751Z"
   },
   {
    "duration": 6,
    "start_time": "2023-04-14T09:57:36.040Z"
   },
   {
    "duration": 118,
    "start_time": "2023-04-14T09:57:52.370Z"
   },
   {
    "duration": 20,
    "start_time": "2023-04-14T09:57:56.981Z"
   },
   {
    "duration": 10,
    "start_time": "2023-04-14T09:58:11.749Z"
   },
   {
    "duration": 17,
    "start_time": "2023-04-14T09:59:37.855Z"
   },
   {
    "duration": 13,
    "start_time": "2023-04-14T09:59:56.576Z"
   },
   {
    "duration": 374,
    "start_time": "2023-04-14T09:59:59.777Z"
   },
   {
    "duration": 1152,
    "start_time": "2023-04-14T10:01:26.498Z"
   },
   {
    "duration": 28,
    "start_time": "2023-04-14T10:01:27.653Z"
   },
   {
    "duration": 12,
    "start_time": "2023-04-14T10:01:27.683Z"
   },
   {
    "duration": 5,
    "start_time": "2023-04-14T10:01:27.698Z"
   },
   {
    "duration": 19,
    "start_time": "2023-04-14T10:01:27.705Z"
   },
   {
    "duration": 20,
    "start_time": "2023-04-14T10:01:27.726Z"
   },
   {
    "duration": 23,
    "start_time": "2023-04-14T10:01:27.748Z"
   },
   {
    "duration": 62,
    "start_time": "2023-04-14T10:01:27.773Z"
   },
   {
    "duration": 51,
    "start_time": "2023-04-14T10:01:27.837Z"
   },
   {
    "duration": 16,
    "start_time": "2023-04-14T10:01:27.892Z"
   },
   {
    "duration": 11,
    "start_time": "2023-04-14T10:01:27.910Z"
   },
   {
    "duration": 20,
    "start_time": "2023-04-14T10:01:27.923Z"
   },
   {
    "duration": 30,
    "start_time": "2023-04-14T10:01:27.945Z"
   },
   {
    "duration": 10,
    "start_time": "2023-04-14T10:01:27.977Z"
   },
   {
    "duration": 18,
    "start_time": "2023-04-14T10:01:27.989Z"
   },
   {
    "duration": 11,
    "start_time": "2023-04-14T10:01:28.008Z"
   },
   {
    "duration": 10,
    "start_time": "2023-04-14T10:01:28.020Z"
   },
   {
    "duration": 12,
    "start_time": "2023-04-14T10:01:28.031Z"
   },
   {
    "duration": 6,
    "start_time": "2023-04-14T10:01:28.044Z"
   },
   {
    "duration": 32,
    "start_time": "2023-04-14T10:01:28.052Z"
   },
   {
    "duration": 12,
    "start_time": "2023-04-14T10:01:28.086Z"
   },
   {
    "duration": 15,
    "start_time": "2023-04-14T10:01:28.100Z"
   },
   {
    "duration": 271,
    "start_time": "2023-04-14T10:01:28.116Z"
   },
   {
    "duration": 366,
    "start_time": "2023-04-14T10:01:28.389Z"
   },
   {
    "duration": 191,
    "start_time": "2023-04-14T10:01:28.756Z"
   },
   {
    "duration": 316,
    "start_time": "2023-04-14T10:01:28.949Z"
   },
   {
    "duration": 216,
    "start_time": "2023-04-14T10:01:29.271Z"
   },
   {
    "duration": 266,
    "start_time": "2023-04-14T10:01:29.490Z"
   },
   {
    "duration": 14,
    "start_time": "2023-04-14T10:01:29.758Z"
   },
   {
    "duration": 181,
    "start_time": "2023-04-14T10:01:29.774Z"
   },
   {
    "duration": 6,
    "start_time": "2023-04-14T10:01:29.957Z"
   },
   {
    "duration": 155,
    "start_time": "2023-04-14T10:01:29.972Z"
   },
   {
    "duration": 6,
    "start_time": "2023-04-14T10:01:30.129Z"
   },
   {
    "duration": 10,
    "start_time": "2023-04-14T10:01:30.136Z"
   },
   {
    "duration": 15,
    "start_time": "2023-04-14T10:01:30.147Z"
   },
   {
    "duration": 131,
    "start_time": "2023-04-14T10:01:30.163Z"
   },
   {
    "duration": 98,
    "start_time": "2023-04-14T10:01:30.296Z"
   },
   {
    "duration": 24,
    "start_time": "2023-04-14T10:01:30.396Z"
   },
   {
    "duration": 34,
    "start_time": "2023-04-14T10:01:30.421Z"
   },
   {
    "duration": 150,
    "start_time": "2023-04-14T10:01:30.456Z"
   },
   {
    "duration": 5,
    "start_time": "2023-04-14T10:01:30.608Z"
   },
   {
    "duration": 205,
    "start_time": "2023-04-14T10:01:30.615Z"
   },
   {
    "duration": 53,
    "start_time": "2023-04-14T10:01:30.822Z"
   },
   {
    "duration": 27,
    "start_time": "2023-04-14T10:01:30.877Z"
   },
   {
    "duration": 43,
    "start_time": "2023-04-14T10:01:30.905Z"
   },
   {
    "duration": 415,
    "start_time": "2023-04-14T10:01:30.950Z"
   },
   {
    "duration": 110,
    "start_time": "2023-04-14T10:04:34.909Z"
   },
   {
    "duration": 9,
    "start_time": "2023-04-14T10:05:05.298Z"
   },
   {
    "duration": 9,
    "start_time": "2023-04-14T10:05:12.704Z"
   },
   {
    "duration": 5,
    "start_time": "2023-04-14T10:05:44.276Z"
   },
   {
    "duration": 1097,
    "start_time": "2023-04-14T10:31:28.620Z"
   },
   {
    "duration": 27,
    "start_time": "2023-04-14T10:31:29.719Z"
   },
   {
    "duration": 10,
    "start_time": "2023-04-14T10:31:29.747Z"
   },
   {
    "duration": 24,
    "start_time": "2023-04-14T10:31:29.758Z"
   },
   {
    "duration": 13,
    "start_time": "2023-04-14T10:31:29.784Z"
   },
   {
    "duration": 9,
    "start_time": "2023-04-14T10:31:29.798Z"
   },
   {
    "duration": 21,
    "start_time": "2023-04-14T10:31:29.808Z"
   },
   {
    "duration": 59,
    "start_time": "2023-04-14T10:31:29.831Z"
   },
   {
    "duration": 51,
    "start_time": "2023-04-14T10:31:29.892Z"
   },
   {
    "duration": 7,
    "start_time": "2023-04-14T10:31:29.944Z"
   },
   {
    "duration": 10,
    "start_time": "2023-04-14T10:31:29.952Z"
   },
   {
    "duration": 21,
    "start_time": "2023-04-14T10:31:29.963Z"
   },
   {
    "duration": 19,
    "start_time": "2023-04-14T10:31:29.986Z"
   },
   {
    "duration": 21,
    "start_time": "2023-04-14T10:31:30.008Z"
   },
   {
    "duration": 30,
    "start_time": "2023-04-14T10:31:30.031Z"
   },
   {
    "duration": 23,
    "start_time": "2023-04-14T10:31:30.063Z"
   },
   {
    "duration": 19,
    "start_time": "2023-04-14T10:31:30.088Z"
   },
   {
    "duration": 18,
    "start_time": "2023-04-14T10:31:30.109Z"
   },
   {
    "duration": 5,
    "start_time": "2023-04-14T10:31:30.128Z"
   },
   {
    "duration": 51,
    "start_time": "2023-04-14T10:31:30.134Z"
   },
   {
    "duration": 35,
    "start_time": "2023-04-14T10:31:30.187Z"
   },
   {
    "duration": 45,
    "start_time": "2023-04-14T10:31:30.225Z"
   },
   {
    "duration": 315,
    "start_time": "2023-04-14T10:31:30.281Z"
   },
   {
    "duration": 397,
    "start_time": "2023-04-14T10:31:30.598Z"
   },
   {
    "duration": 197,
    "start_time": "2023-04-14T10:31:30.997Z"
   },
   {
    "duration": 269,
    "start_time": "2023-04-14T10:31:31.195Z"
   },
   {
    "duration": 239,
    "start_time": "2023-04-14T10:31:31.465Z"
   },
   {
    "duration": 277,
    "start_time": "2023-04-14T10:31:31.705Z"
   },
   {
    "duration": 6,
    "start_time": "2023-04-14T10:31:31.984Z"
   },
   {
    "duration": 205,
    "start_time": "2023-04-14T10:31:31.992Z"
   },
   {
    "duration": 14,
    "start_time": "2023-04-14T10:31:32.198Z"
   },
   {
    "duration": 179,
    "start_time": "2023-04-14T10:31:32.213Z"
   },
   {
    "duration": 5,
    "start_time": "2023-04-14T10:31:32.393Z"
   },
   {
    "duration": 32,
    "start_time": "2023-04-14T10:31:32.399Z"
   },
   {
    "duration": 17,
    "start_time": "2023-04-14T10:31:32.432Z"
   },
   {
    "duration": 82,
    "start_time": "2023-04-14T10:31:32.450Z"
   },
   {
    "duration": 81,
    "start_time": "2023-04-14T10:31:32.534Z"
   },
   {
    "duration": 19,
    "start_time": "2023-04-14T10:31:32.617Z"
   },
   {
    "duration": 7,
    "start_time": "2023-04-14T10:31:32.638Z"
   },
   {
    "duration": 140,
    "start_time": "2023-04-14T10:31:32.646Z"
   },
   {
    "duration": 5,
    "start_time": "2023-04-14T10:31:32.789Z"
   },
   {
    "duration": 142,
    "start_time": "2023-04-14T10:31:32.795Z"
   },
   {
    "duration": 21,
    "start_time": "2023-04-14T10:31:32.939Z"
   },
   {
    "duration": 26,
    "start_time": "2023-04-14T10:31:32.962Z"
   },
   {
    "duration": 26,
    "start_time": "2023-04-14T10:31:32.990Z"
   },
   {
    "duration": 393,
    "start_time": "2023-04-14T10:31:33.018Z"
   }
  ],
  "kernelspec": {
   "display_name": "Python 3 (ipykernel)",
   "language": "python",
   "name": "python3"
  },
  "language_info": {
   "codemirror_mode": {
    "name": "ipython",
    "version": 3
   },
   "file_extension": ".py",
   "mimetype": "text/x-python",
   "name": "python",
   "nbconvert_exporter": "python",
   "pygments_lexer": "ipython3",
   "version": "3.9.5"
  },
  "toc": {
   "base_numbering": "",
   "nav_menu": {},
   "number_sections": false,
   "sideBar": true,
   "skip_h1_title": true,
   "title_cell": "Table of Contents",
   "title_sidebar": "Contents",
   "toc_cell": false,
   "toc_position": {},
   "toc_section_display": true,
   "toc_window_display": false
  }
 },
 "nbformat": 4,
 "nbformat_minor": 2
}
