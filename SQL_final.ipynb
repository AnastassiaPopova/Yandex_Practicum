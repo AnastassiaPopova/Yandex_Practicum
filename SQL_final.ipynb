{
 "cells": [
  {
   "cell_type": "markdown",
   "id": "9e238822",
   "metadata": {},
   "source": [
    "# SQL"
   ]
  },
  {
   "cell_type": "markdown",
   "id": "25d4126d",
   "metadata": {},
   "source": [
    "Привет! Меня зовут Анастасия!"
   ]
  },
  {
   "cell_type": "markdown",
   "id": "5f91ef37",
   "metadata": {
    "toc": true
   },
   "source": [
    "<h1>Содержание<span class=\"tocSkip\"></span></h1>\n",
    "<div class=\"toc\"><ul class=\"toc-item\"><li><span><a href=\"#Описание-проекта\" data-toc-modified-id=\"Описание-проекта-1\">Описание проекта</a></span></li><li><span><a href=\"#Задания\" data-toc-modified-id=\"Задания-2\">Задания</a></span></li><li><span><a href=\"#Как-выполнить-задание?\" data-toc-modified-id=\"Как-выполнить-задание?-3\">Как выполнить задание?</a></span></li><li><span><a href=\"#Исследование-таблиц\" data-toc-modified-id=\"Исследование-таблиц-4\">Исследование таблиц</a></span></li><li><span><a href=\"#1.-Cколько-книг-вышло-после-1-января-2000-года;\" data-toc-modified-id=\"1.-Cколько-книг-вышло-после-1-января-2000-года;-5\">1. Cколько книг вышло после 1 января 2000 года;</a></span></li><li><span><a href=\"#2.-Для-каждой-книги-посчитайте-количество-обзоров-и-среднюю-оценку;\" data-toc-modified-id=\"2.-Для-каждой-книги-посчитайте-количество-обзоров-и-среднюю-оценку;-6\">2. Для каждой книги посчитайте количество обзоров и среднюю оценку;</a></span></li><li><span><a href=\"#3.-Определите-издательство,-которое-выпустило-наибольшее-число-книг-толще-50-страниц;\" data-toc-modified-id=\"3.-Определите-издательство,-которое-выпустило-наибольшее-число-книг-толще-50-страниц;-7\">3. Определите издательство, которое выпустило наибольшее число книг толще 50 страниц;</a></span></li><li><span><a href=\"#4.-Определите-автора-с-самой-высокой-средней-оценкой-книг-—-учитывайте-только-книги-с-50-и-более-оценками;\" data-toc-modified-id=\"4.-Определите-автора-с-самой-высокой-средней-оценкой-книг-—-учитывайте-только-книги-с-50-и-более-оценками;-8\">4. Определите автора с самой высокой средней оценкой книг — учитывайте только книги с 50 и более оценками;</a></span></li><li><span><a href=\"#5.-Посчитайте-среднее-количество-обзоров-от-пользователей,-которые-поставили-больше-48-оценок.\" data-toc-modified-id=\"5.-Посчитайте-среднее-количество-обзоров-от-пользователей,-которые-поставили-больше-48-оценок.-9\">5. Посчитайте среднее количество обзоров от пользователей, которые поставили больше 48 оценок.</a></span></li></ul></div>"
   ]
  },
  {
   "cell_type": "markdown",
   "id": "90ec3f77",
   "metadata": {},
   "source": [
    "### Описание проекта\n",
    "\n",
    "**Цель:** проанализировать базу данных сервиса для чтения книг для формулирования ценностного предложения для нового продукта.\n",
    "\n",
    "**Задания:**\n",
    "\n",
    "**1)** Посчитайте, сколько книг вышло после 1 января 2000 года;\n",
    "\n",
    "**2)** Для каждой книги посчитайте количество обзоров и среднюю оценку;\n",
    "\n",
    "**3)** Определите издательство, которое выпустило наибольшее число книг толще 50 страниц — так вы исключите из анализа брошюры;\n",
    "\n",
    "**4)** Определите автора с самой высокой средней оценкой книг — учитывайте только книги с 50 и более оценками;\n",
    "\n",
    "**5)** Посчитайте среднее количество обзоров от пользователей, которые поставили больше 48 оценок.\n",
    "\n",
    "\n",
    "**Описание данных:**\n",
    "\n",
    "**Таблица `books`**\n",
    "\n",
    "Содержит данные о книгах:\n",
    "\n",
    "- `book_id` — идентификатор книги;\n",
    "- `author_id` — идентификатор автора;\n",
    "- `title` — название книги;\n",
    "- `num_pages` — количество страниц;\n",
    "- `publication_date` — дата публикации книги;\n",
    "- `publisher_id` — идентификатор издателя.\n",
    "\n",
    "**Таблица `authors`**\n",
    "\n",
    "Содержит данные об авторах:\n",
    "\n",
    "- `author_id` — идентификатор автора;\n",
    "- `author` — имя автора.\n",
    "\n",
    "**Таблица `publishers`**\n",
    "\n",
    "Содержит данные об издательствах:\n",
    "\n",
    "- `publisher_id` — идентификатор издательства;\n",
    "- `publisher` — название издательства;\n",
    "\n",
    "**Таблица `ratings`**\n",
    "\n",
    "Содержит данные о пользовательских оценках книг:\n",
    "\n",
    "- `rating_id` — идентификатор оценки;\n",
    "- `book_id` — идентификатор книги;\n",
    "- `username` — имя пользователя, оставившего оценку;\n",
    "- `rating` — оценка книги.\n",
    "\n",
    "**Таблица `reviews`**\n",
    "\n",
    "Содержит данные о пользовательских обзорах на книги:\n",
    "\n",
    "- `review_id` — идентификатор обзора;\n",
    "- `book_id` — идентификатор книги;\n",
    "- `username` — имя пользователя, написавшего обзор;\n",
    "- `text` — текст обзора."
   ]
  },
  {
   "cell_type": "code",
   "execution_count": 7,
   "id": "7b634b28",
   "metadata": {},
   "outputs": [],
   "source": [
    "# импортируем библиотеки\n",
    "import pandas as pd\n",
    "from sqlalchemy import text, create_engine\n",
    "\n",
    "# устанавливаем параметры\n",
    "db_config = {'user': 'praktikum_student', # имя пользователя\n",
    "'pwd': 'Sdf4$2;d-d30pp', # пароль\n",
    "'host': 'rc1b-wcoijxj3yxfsf3fs.mdb.yandexcloud.net',\n",
    "'port': 6432, # порт подключения\n",
    "'db': 'data-analyst-final-project-db'} # название базы данных\n",
    "connection_string = 'postgresql://{user}:{pwd}@{host}:{port}/{db}'.format(**db_config)\n",
    "\n",
    "# сохраняем коннектор\n",
    "engine = create_engine(connection_string, connect_args={'sslmode':'require'})"
   ]
  },
  {
   "cell_type": "code",
   "execution_count": 16,
   "id": "71b46809",
   "metadata": {},
   "outputs": [],
   "source": [
    "# запишем функцию для запросов: \n",
    "\n",
    "def select(query):\n",
    "    con=engine.connect()\n",
    "    return pd.io.sql.read_sql(sql=text(query), con = con)"
   ]
  },
  {
   "cell_type": "markdown",
   "id": "9043310f",
   "metadata": {},
   "source": [
    "### Исследование таблиц"
   ]
  },
  {
   "cell_type": "code",
   "execution_count": 21,
   "id": "026bbfc6",
   "metadata": {},
   "outputs": [
    {
     "data": {
      "text/html": [
       "<div>\n",
       "<style scoped>\n",
       "    .dataframe tbody tr th:only-of-type {\n",
       "        vertical-align: middle;\n",
       "    }\n",
       "\n",
       "    .dataframe tbody tr th {\n",
       "        vertical-align: top;\n",
       "    }\n",
       "\n",
       "    .dataframe thead th {\n",
       "        text-align: right;\n",
       "    }\n",
       "</style>\n",
       "<table border=\"1\" class=\"dataframe\">\n",
       "  <thead>\n",
       "    <tr style=\"text-align: right;\">\n",
       "      <th></th>\n",
       "      <th>book_id</th>\n",
       "      <th>author_id</th>\n",
       "      <th>title</th>\n",
       "      <th>num_pages</th>\n",
       "      <th>publication_date</th>\n",
       "      <th>publisher_id</th>\n",
       "    </tr>\n",
       "  </thead>\n",
       "  <tbody>\n",
       "    <tr>\n",
       "      <th>0</th>\n",
       "      <td>1</td>\n",
       "      <td>546</td>\n",
       "      <td>'Salem's Lot</td>\n",
       "      <td>594</td>\n",
       "      <td>2005-11-01</td>\n",
       "      <td>93</td>\n",
       "    </tr>\n",
       "    <tr>\n",
       "      <th>1</th>\n",
       "      <td>2</td>\n",
       "      <td>465</td>\n",
       "      <td>1 000 Places to See Before You Die</td>\n",
       "      <td>992</td>\n",
       "      <td>2003-05-22</td>\n",
       "      <td>336</td>\n",
       "    </tr>\n",
       "    <tr>\n",
       "      <th>2</th>\n",
       "      <td>3</td>\n",
       "      <td>407</td>\n",
       "      <td>13 Little Blue Envelopes (Little Blue Envelope...</td>\n",
       "      <td>322</td>\n",
       "      <td>2010-12-21</td>\n",
       "      <td>135</td>\n",
       "    </tr>\n",
       "    <tr>\n",
       "      <th>3</th>\n",
       "      <td>4</td>\n",
       "      <td>82</td>\n",
       "      <td>1491: New Revelations of the Americas Before C...</td>\n",
       "      <td>541</td>\n",
       "      <td>2006-10-10</td>\n",
       "      <td>309</td>\n",
       "    </tr>\n",
       "    <tr>\n",
       "      <th>4</th>\n",
       "      <td>5</td>\n",
       "      <td>125</td>\n",
       "      <td>1776</td>\n",
       "      <td>386</td>\n",
       "      <td>2006-07-04</td>\n",
       "      <td>268</td>\n",
       "    </tr>\n",
       "  </tbody>\n",
       "</table>\n",
       "</div>"
      ],
      "text/plain": [
       "   book_id  author_id                                              title  \\\n",
       "0        1        546                                       'Salem's Lot   \n",
       "1        2        465                 1 000 Places to See Before You Die   \n",
       "2        3        407  13 Little Blue Envelopes (Little Blue Envelope...   \n",
       "3        4         82  1491: New Revelations of the Americas Before C...   \n",
       "4        5        125                                               1776   \n",
       "\n",
       "   num_pages publication_date  publisher_id  \n",
       "0        594       2005-11-01            93  \n",
       "1        992       2003-05-22           336  \n",
       "2        322       2010-12-21           135  \n",
       "3        541       2006-10-10           309  \n",
       "4        386       2006-07-04           268  "
      ]
     },
     "execution_count": 21,
     "metadata": {},
     "output_type": "execute_result"
    }
   ],
   "source": [
    "query = '''SELECT * FROM books LIMIT 5'''\n",
    "select(query)"
   ]
  },
  {
   "cell_type": "code",
   "execution_count": 26,
   "id": "152ccb19",
   "metadata": {},
   "outputs": [
    {
     "data": {
      "text/html": [
       "<div>\n",
       "<style scoped>\n",
       "    .dataframe tbody tr th:only-of-type {\n",
       "        vertical-align: middle;\n",
       "    }\n",
       "\n",
       "    .dataframe tbody tr th {\n",
       "        vertical-align: top;\n",
       "    }\n",
       "\n",
       "    .dataframe thead th {\n",
       "        text-align: right;\n",
       "    }\n",
       "</style>\n",
       "<table border=\"1\" class=\"dataframe\">\n",
       "  <thead>\n",
       "    <tr style=\"text-align: right;\">\n",
       "      <th></th>\n",
       "      <th>count</th>\n",
       "    </tr>\n",
       "  </thead>\n",
       "  <tbody>\n",
       "    <tr>\n",
       "      <th>0</th>\n",
       "      <td>1000</td>\n",
       "    </tr>\n",
       "  </tbody>\n",
       "</table>\n",
       "</div>"
      ],
      "text/plain": [
       "   count\n",
       "0   1000"
      ]
     },
     "execution_count": 26,
     "metadata": {},
     "output_type": "execute_result"
    }
   ],
   "source": [
    "query = '''SELECT COUNT (*) FROM books'''\n",
    "select(query)"
   ]
  },
  {
   "cell_type": "markdown",
   "id": "93f31371",
   "metadata": {},
   "source": [
    "**В таблице с книгами представлена информация о 1 000 книг.**"
   ]
  },
  {
   "cell_type": "code",
   "execution_count": 22,
   "id": "b1f4c343",
   "metadata": {},
   "outputs": [
    {
     "data": {
      "text/html": [
       "<div>\n",
       "<style scoped>\n",
       "    .dataframe tbody tr th:only-of-type {\n",
       "        vertical-align: middle;\n",
       "    }\n",
       "\n",
       "    .dataframe tbody tr th {\n",
       "        vertical-align: top;\n",
       "    }\n",
       "\n",
       "    .dataframe thead th {\n",
       "        text-align: right;\n",
       "    }\n",
       "</style>\n",
       "<table border=\"1\" class=\"dataframe\">\n",
       "  <thead>\n",
       "    <tr style=\"text-align: right;\">\n",
       "      <th></th>\n",
       "      <th>author_id</th>\n",
       "      <th>author</th>\n",
       "    </tr>\n",
       "  </thead>\n",
       "  <tbody>\n",
       "    <tr>\n",
       "      <th>0</th>\n",
       "      <td>1</td>\n",
       "      <td>A.S. Byatt</td>\n",
       "    </tr>\n",
       "    <tr>\n",
       "      <th>1</th>\n",
       "      <td>2</td>\n",
       "      <td>Aesop/Laura Harris/Laura Gibbs</td>\n",
       "    </tr>\n",
       "    <tr>\n",
       "      <th>2</th>\n",
       "      <td>3</td>\n",
       "      <td>Agatha Christie</td>\n",
       "    </tr>\n",
       "    <tr>\n",
       "      <th>3</th>\n",
       "      <td>4</td>\n",
       "      <td>Alan Brennert</td>\n",
       "    </tr>\n",
       "    <tr>\n",
       "      <th>4</th>\n",
       "      <td>5</td>\n",
       "      <td>Alan Moore/David   Lloyd</td>\n",
       "    </tr>\n",
       "  </tbody>\n",
       "</table>\n",
       "</div>"
      ],
      "text/plain": [
       "   author_id                          author\n",
       "0          1                      A.S. Byatt\n",
       "1          2  Aesop/Laura Harris/Laura Gibbs\n",
       "2          3                 Agatha Christie\n",
       "3          4                   Alan Brennert\n",
       "4          5        Alan Moore/David   Lloyd"
      ]
     },
     "execution_count": 22,
     "metadata": {},
     "output_type": "execute_result"
    }
   ],
   "source": [
    "query = '''SELECT * FROM authors LIMIT 5'''\n",
    "select(query)"
   ]
  },
  {
   "cell_type": "code",
   "execution_count": 24,
   "id": "68b6b877",
   "metadata": {},
   "outputs": [
    {
     "data": {
      "text/html": [
       "<div>\n",
       "<style scoped>\n",
       "    .dataframe tbody tr th:only-of-type {\n",
       "        vertical-align: middle;\n",
       "    }\n",
       "\n",
       "    .dataframe tbody tr th {\n",
       "        vertical-align: top;\n",
       "    }\n",
       "\n",
       "    .dataframe thead th {\n",
       "        text-align: right;\n",
       "    }\n",
       "</style>\n",
       "<table border=\"1\" class=\"dataframe\">\n",
       "  <thead>\n",
       "    <tr style=\"text-align: right;\">\n",
       "      <th></th>\n",
       "      <th>publisher_id</th>\n",
       "      <th>publisher</th>\n",
       "    </tr>\n",
       "  </thead>\n",
       "  <tbody>\n",
       "    <tr>\n",
       "      <th>0</th>\n",
       "      <td>1</td>\n",
       "      <td>Ace</td>\n",
       "    </tr>\n",
       "    <tr>\n",
       "      <th>1</th>\n",
       "      <td>2</td>\n",
       "      <td>Ace Book</td>\n",
       "    </tr>\n",
       "    <tr>\n",
       "      <th>2</th>\n",
       "      <td>3</td>\n",
       "      <td>Ace Books</td>\n",
       "    </tr>\n",
       "    <tr>\n",
       "      <th>3</th>\n",
       "      <td>4</td>\n",
       "      <td>Ace Hardcover</td>\n",
       "    </tr>\n",
       "    <tr>\n",
       "      <th>4</th>\n",
       "      <td>5</td>\n",
       "      <td>Addison Wesley Publishing Company</td>\n",
       "    </tr>\n",
       "  </tbody>\n",
       "</table>\n",
       "</div>"
      ],
      "text/plain": [
       "   publisher_id                          publisher\n",
       "0             1                                Ace\n",
       "1             2                           Ace Book\n",
       "2             3                          Ace Books\n",
       "3             4                      Ace Hardcover\n",
       "4             5  Addison Wesley Publishing Company"
      ]
     },
     "execution_count": 24,
     "metadata": {},
     "output_type": "execute_result"
    }
   ],
   "source": [
    "query = '''SELECT * FROM publishers LIMIT 5'''\n",
    "select(query)"
   ]
  },
  {
   "cell_type": "code",
   "execution_count": 23,
   "id": "04c86d2d",
   "metadata": {},
   "outputs": [
    {
     "data": {
      "text/html": [
       "<div>\n",
       "<style scoped>\n",
       "    .dataframe tbody tr th:only-of-type {\n",
       "        vertical-align: middle;\n",
       "    }\n",
       "\n",
       "    .dataframe tbody tr th {\n",
       "        vertical-align: top;\n",
       "    }\n",
       "\n",
       "    .dataframe thead th {\n",
       "        text-align: right;\n",
       "    }\n",
       "</style>\n",
       "<table border=\"1\" class=\"dataframe\">\n",
       "  <thead>\n",
       "    <tr style=\"text-align: right;\">\n",
       "      <th></th>\n",
       "      <th>rating_id</th>\n",
       "      <th>book_id</th>\n",
       "      <th>username</th>\n",
       "      <th>rating</th>\n",
       "    </tr>\n",
       "  </thead>\n",
       "  <tbody>\n",
       "    <tr>\n",
       "      <th>0</th>\n",
       "      <td>1</td>\n",
       "      <td>1</td>\n",
       "      <td>ryanfranco</td>\n",
       "      <td>4</td>\n",
       "    </tr>\n",
       "    <tr>\n",
       "      <th>1</th>\n",
       "      <td>2</td>\n",
       "      <td>1</td>\n",
       "      <td>grantpatricia</td>\n",
       "      <td>2</td>\n",
       "    </tr>\n",
       "    <tr>\n",
       "      <th>2</th>\n",
       "      <td>3</td>\n",
       "      <td>1</td>\n",
       "      <td>brandtandrea</td>\n",
       "      <td>5</td>\n",
       "    </tr>\n",
       "    <tr>\n",
       "      <th>3</th>\n",
       "      <td>4</td>\n",
       "      <td>2</td>\n",
       "      <td>lorichen</td>\n",
       "      <td>3</td>\n",
       "    </tr>\n",
       "    <tr>\n",
       "      <th>4</th>\n",
       "      <td>5</td>\n",
       "      <td>2</td>\n",
       "      <td>mariokeller</td>\n",
       "      <td>2</td>\n",
       "    </tr>\n",
       "  </tbody>\n",
       "</table>\n",
       "</div>"
      ],
      "text/plain": [
       "   rating_id  book_id       username  rating\n",
       "0          1        1     ryanfranco       4\n",
       "1          2        1  grantpatricia       2\n",
       "2          3        1   brandtandrea       5\n",
       "3          4        2       lorichen       3\n",
       "4          5        2    mariokeller       2"
      ]
     },
     "execution_count": 23,
     "metadata": {},
     "output_type": "execute_result"
    }
   ],
   "source": [
    "query = '''SELECT * FROM ratings LIMIT 5'''\n",
    "select(query)"
   ]
  },
  {
   "cell_type": "code",
   "execution_count": 25,
   "id": "8f4b6bf4",
   "metadata": {},
   "outputs": [
    {
     "data": {
      "text/html": [
       "<div>\n",
       "<style scoped>\n",
       "    .dataframe tbody tr th:only-of-type {\n",
       "        vertical-align: middle;\n",
       "    }\n",
       "\n",
       "    .dataframe tbody tr th {\n",
       "        vertical-align: top;\n",
       "    }\n",
       "\n",
       "    .dataframe thead th {\n",
       "        text-align: right;\n",
       "    }\n",
       "</style>\n",
       "<table border=\"1\" class=\"dataframe\">\n",
       "  <thead>\n",
       "    <tr style=\"text-align: right;\">\n",
       "      <th></th>\n",
       "      <th>review_id</th>\n",
       "      <th>book_id</th>\n",
       "      <th>username</th>\n",
       "      <th>text</th>\n",
       "    </tr>\n",
       "  </thead>\n",
       "  <tbody>\n",
       "    <tr>\n",
       "      <th>0</th>\n",
       "      <td>1</td>\n",
       "      <td>1</td>\n",
       "      <td>brandtandrea</td>\n",
       "      <td>Mention society tell send professor analysis. ...</td>\n",
       "    </tr>\n",
       "    <tr>\n",
       "      <th>1</th>\n",
       "      <td>2</td>\n",
       "      <td>1</td>\n",
       "      <td>ryanfranco</td>\n",
       "      <td>Foot glass pretty audience hit themselves. Amo...</td>\n",
       "    </tr>\n",
       "    <tr>\n",
       "      <th>2</th>\n",
       "      <td>3</td>\n",
       "      <td>2</td>\n",
       "      <td>lorichen</td>\n",
       "      <td>Listen treat keep worry. Miss husband tax but ...</td>\n",
       "    </tr>\n",
       "    <tr>\n",
       "      <th>3</th>\n",
       "      <td>4</td>\n",
       "      <td>3</td>\n",
       "      <td>johnsonamanda</td>\n",
       "      <td>Finally month interesting blue could nature cu...</td>\n",
       "    </tr>\n",
       "    <tr>\n",
       "      <th>4</th>\n",
       "      <td>5</td>\n",
       "      <td>3</td>\n",
       "      <td>scotttamara</td>\n",
       "      <td>Nation purpose heavy give wait song will. List...</td>\n",
       "    </tr>\n",
       "  </tbody>\n",
       "</table>\n",
       "</div>"
      ],
      "text/plain": [
       "   review_id  book_id       username  \\\n",
       "0          1        1   brandtandrea   \n",
       "1          2        1     ryanfranco   \n",
       "2          3        2       lorichen   \n",
       "3          4        3  johnsonamanda   \n",
       "4          5        3    scotttamara   \n",
       "\n",
       "                                                text  \n",
       "0  Mention society tell send professor analysis. ...  \n",
       "1  Foot glass pretty audience hit themselves. Amo...  \n",
       "2  Listen treat keep worry. Miss husband tax but ...  \n",
       "3  Finally month interesting blue could nature cu...  \n",
       "4  Nation purpose heavy give wait song will. List...  "
      ]
     },
     "execution_count": 25,
     "metadata": {},
     "output_type": "execute_result"
    }
   ],
   "source": [
    "query = '''SELECT * FROM reviews LIMIT 5'''\n",
    "select(query)"
   ]
  },
  {
   "cell_type": "markdown",
   "id": "a623fcde",
   "metadata": {},
   "source": [
    "### 1. Cколько книг вышло после 1 января 2000 года;"
   ]
  },
  {
   "cell_type": "code",
   "execution_count": 20,
   "id": "520a3de9",
   "metadata": {},
   "outputs": [
    {
     "data": {
      "text/html": [
       "<div>\n",
       "<style scoped>\n",
       "    .dataframe tbody tr th:only-of-type {\n",
       "        vertical-align: middle;\n",
       "    }\n",
       "\n",
       "    .dataframe tbody tr th {\n",
       "        vertical-align: top;\n",
       "    }\n",
       "\n",
       "    .dataframe thead th {\n",
       "        text-align: right;\n",
       "    }\n",
       "</style>\n",
       "<table border=\"1\" class=\"dataframe\">\n",
       "  <thead>\n",
       "    <tr style=\"text-align: right;\">\n",
       "      <th></th>\n",
       "      <th>Количество_книг</th>\n",
       "    </tr>\n",
       "  </thead>\n",
       "  <tbody>\n",
       "    <tr>\n",
       "      <th>0</th>\n",
       "      <td>819</td>\n",
       "    </tr>\n",
       "  </tbody>\n",
       "</table>\n",
       "</div>"
      ],
      "text/plain": [
       "   Количество_книг\n",
       "0              819"
      ]
     },
     "execution_count": 20,
     "metadata": {},
     "output_type": "execute_result"
    }
   ],
   "source": [
    "query = '''SELECT COUNT (*) AS Количество_книг FROM books \n",
    "        WHERE publication_date > date('2000-01-01')'''\n",
    "\n",
    "select(query)"
   ]
  },
  {
   "cell_type": "markdown",
   "id": "af3e9042",
   "metadata": {},
   "source": [
    "**Из 1 000 книг 80% (819 штук) вышли после 1 января 2000 года.**"
   ]
  },
  {
   "cell_type": "markdown",
   "id": "0ac35c9c",
   "metadata": {},
   "source": [
    "### 2. Для каждой книги посчитайте количество обзоров и среднюю оценку;"
   ]
  },
  {
   "cell_type": "code",
   "execution_count": 29,
   "id": "d6ad294f",
   "metadata": {},
   "outputs": [
    {
     "data": {
      "text/html": [
       "<div>\n",
       "<style scoped>\n",
       "    .dataframe tbody tr th:only-of-type {\n",
       "        vertical-align: middle;\n",
       "    }\n",
       "\n",
       "    .dataframe tbody tr th {\n",
       "        vertical-align: top;\n",
       "    }\n",
       "\n",
       "    .dataframe thead th {\n",
       "        text-align: right;\n",
       "    }\n",
       "</style>\n",
       "<table border=\"1\" class=\"dataframe\">\n",
       "  <thead>\n",
       "    <tr style=\"text-align: right;\">\n",
       "      <th></th>\n",
       "      <th>author</th>\n",
       "      <th>title</th>\n",
       "      <th>Средняя_оценка</th>\n",
       "      <th>Количество_обзоров</th>\n",
       "    </tr>\n",
       "  </thead>\n",
       "  <tbody>\n",
       "    <tr>\n",
       "      <th>0</th>\n",
       "      <td>James Patterson</td>\n",
       "      <td>Pop Goes the Weasel (Alex Cross  #5)</td>\n",
       "      <td>5.00</td>\n",
       "      <td>2</td>\n",
       "    </tr>\n",
       "    <tr>\n",
       "      <th>1</th>\n",
       "      <td>Steven Johnson</td>\n",
       "      <td>The Ghost Map: The Story of London's Most Terr...</td>\n",
       "      <td>5.00</td>\n",
       "      <td>2</td>\n",
       "    </tr>\n",
       "    <tr>\n",
       "      <th>2</th>\n",
       "      <td>Tamora Pierce</td>\n",
       "      <td>In the Hand of the Goddess (Song of the Liones...</td>\n",
       "      <td>5.00</td>\n",
       "      <td>3</td>\n",
       "    </tr>\n",
       "    <tr>\n",
       "      <th>3</th>\n",
       "      <td>James Clavell</td>\n",
       "      <td>Tai-Pan (Asian Saga  #2)</td>\n",
       "      <td>5.00</td>\n",
       "      <td>2</td>\n",
       "    </tr>\n",
       "    <tr>\n",
       "      <th>4</th>\n",
       "      <td>Nigella Lawson</td>\n",
       "      <td>How to Be a Domestic Goddess: Baking and the A...</td>\n",
       "      <td>5.00</td>\n",
       "      <td>2</td>\n",
       "    </tr>\n",
       "    <tr>\n",
       "      <th>...</th>\n",
       "      <td>...</td>\n",
       "      <td>...</td>\n",
       "      <td>...</td>\n",
       "      <td>...</td>\n",
       "    </tr>\n",
       "    <tr>\n",
       "      <th>995</th>\n",
       "      <td>Thomas L. Friedman</td>\n",
       "      <td>The World Is Flat: A Brief History of the Twen...</td>\n",
       "      <td>2.25</td>\n",
       "      <td>4</td>\n",
       "    </tr>\n",
       "    <tr>\n",
       "      <th>996</th>\n",
       "      <td>William S. Burroughs/Oliver  Harris/Allen Gins...</td>\n",
       "      <td>Junky</td>\n",
       "      <td>2.00</td>\n",
       "      <td>2</td>\n",
       "    </tr>\n",
       "    <tr>\n",
       "      <th>997</th>\n",
       "      <td>Joseph J. Ellis</td>\n",
       "      <td>His Excellency: George Washington</td>\n",
       "      <td>2.00</td>\n",
       "      <td>2</td>\n",
       "    </tr>\n",
       "    <tr>\n",
       "      <th>998</th>\n",
       "      <td>Christina Schwarz</td>\n",
       "      <td>Drowning Ruth</td>\n",
       "      <td>2.00</td>\n",
       "      <td>3</td>\n",
       "    </tr>\n",
       "    <tr>\n",
       "      <th>999</th>\n",
       "      <td>Jodi Picoult</td>\n",
       "      <td>Harvesting the Heart</td>\n",
       "      <td>1.50</td>\n",
       "      <td>2</td>\n",
       "    </tr>\n",
       "  </tbody>\n",
       "</table>\n",
       "<p>1000 rows × 4 columns</p>\n",
       "</div>"
      ],
      "text/plain": [
       "                                                author  \\\n",
       "0                                      James Patterson   \n",
       "1                                       Steven Johnson   \n",
       "2                                        Tamora Pierce   \n",
       "3                                        James Clavell   \n",
       "4                                       Nigella Lawson   \n",
       "..                                                 ...   \n",
       "995                                 Thomas L. Friedman   \n",
       "996  William S. Burroughs/Oliver  Harris/Allen Gins...   \n",
       "997                                    Joseph J. Ellis   \n",
       "998                                  Christina Schwarz   \n",
       "999                                       Jodi Picoult   \n",
       "\n",
       "                                                 title  Средняя_оценка  \\\n",
       "0                 Pop Goes the Weasel (Alex Cross  #5)            5.00   \n",
       "1    The Ghost Map: The Story of London's Most Terr...            5.00   \n",
       "2    In the Hand of the Goddess (Song of the Liones...            5.00   \n",
       "3                             Tai-Pan (Asian Saga  #2)            5.00   \n",
       "4    How to Be a Domestic Goddess: Baking and the A...            5.00   \n",
       "..                                                 ...             ...   \n",
       "995  The World Is Flat: A Brief History of the Twen...            2.25   \n",
       "996                                              Junky            2.00   \n",
       "997                  His Excellency: George Washington            2.00   \n",
       "998                                      Drowning Ruth            2.00   \n",
       "999                               Harvesting the Heart            1.50   \n",
       "\n",
       "     Количество_обзоров  \n",
       "0                     2  \n",
       "1                     2  \n",
       "2                     3  \n",
       "3                     2  \n",
       "4                     2  \n",
       "..                  ...  \n",
       "995                   4  \n",
       "996                   2  \n",
       "997                   2  \n",
       "998                   3  \n",
       "999                   2  \n",
       "\n",
       "[1000 rows x 4 columns]"
      ]
     },
     "execution_count": 29,
     "metadata": {},
     "output_type": "execute_result"
    }
   ],
   "source": [
    "query = ''' WITH table_1 AS (\n",
    "            SELECT * FROM \n",
    "            (SELECT book_id, round(AVG(rating), 2) AS Средняя_оценка FROM ratings\n",
    "             GROUP BY book_id) AS t_1 FULL JOIN (SELECT book_id, COUNT(*) AS Количество_обзоров FROM ratings\n",
    "                                                  GROUP BY book_id) AS t_2 USING (book_id))\n",
    "            SELECT author, title, Средняя_оценка, Количество_обзоров\n",
    "            FROM books LEFT JOIN table_1 USING (book_id)\n",
    "                       LEFT JOIN authors USING (author_id)\n",
    "            ORDER BY Средняя_оценка DESC'''\n",
    "\n",
    "select(query)"
   ]
  },
  {
   "cell_type": "markdown",
   "id": "8f540022",
   "metadata": {},
   "source": [
    "**Средняя оценка книг в диапазоне от 1.5 до 5 баллов.** Самый низкий рейтинг у книги Harvesting the Heart by Jodi Picoult. "
   ]
  },
  {
   "cell_type": "markdown",
   "id": "32f00733",
   "metadata": {},
   "source": [
    "### 3. Определите издательство, которое выпустило наибольшее число книг толще 50 страниц;"
   ]
  },
  {
   "cell_type": "code",
   "execution_count": 32,
   "id": "2577d390",
   "metadata": {},
   "outputs": [
    {
     "data": {
      "text/html": [
       "<div>\n",
       "<style scoped>\n",
       "    .dataframe tbody tr th:only-of-type {\n",
       "        vertical-align: middle;\n",
       "    }\n",
       "\n",
       "    .dataframe tbody tr th {\n",
       "        vertical-align: top;\n",
       "    }\n",
       "\n",
       "    .dataframe thead th {\n",
       "        text-align: right;\n",
       "    }\n",
       "</style>\n",
       "<table border=\"1\" class=\"dataframe\">\n",
       "  <thead>\n",
       "    <tr style=\"text-align: right;\">\n",
       "      <th></th>\n",
       "      <th>publisher</th>\n",
       "      <th>Количество_книг</th>\n",
       "    </tr>\n",
       "  </thead>\n",
       "  <tbody>\n",
       "    <tr>\n",
       "      <th>0</th>\n",
       "      <td>Penguin Books</td>\n",
       "      <td>42</td>\n",
       "    </tr>\n",
       "  </tbody>\n",
       "</table>\n",
       "</div>"
      ],
      "text/plain": [
       "       publisher  Количество_книг\n",
       "0  Penguin Books               42"
      ]
     },
     "execution_count": 32,
     "metadata": {},
     "output_type": "execute_result"
    }
   ],
   "source": [
    "query = ''' SELECT publisher, Количество_книг\n",
    "            FROM (\n",
    "                  SELECT publisher_id, COUNT (*) AS Количество_книг \n",
    "                  FROM  books\n",
    "                  WHERE num_pages > 50\n",
    "                  GROUP BY publisher_id\n",
    "                  ORDER BY Количество_книг DESC\n",
    "                  LIMIT 1) AS t_1 \n",
    "                              INNER JOIN publishers USING (publisher_id)'''\n",
    "\n",
    "select(query)"
   ]
  },
  {
   "cell_type": "markdown",
   "id": "50bdc0e3",
   "metadata": {},
   "source": [
    "Больше всего книг выпустило издание - **Penguin Books**."
   ]
  },
  {
   "cell_type": "markdown",
   "id": "23621f4e",
   "metadata": {},
   "source": [
    "### 4. Определите автора с самой высокой средней оценкой книг — учитывайте только книги с 50 и более оценками;"
   ]
  },
  {
   "cell_type": "code",
   "execution_count": 46,
   "id": "5ce0d247",
   "metadata": {},
   "outputs": [
    {
     "data": {
      "text/html": [
       "<div>\n",
       "<style scoped>\n",
       "    .dataframe tbody tr th:only-of-type {\n",
       "        vertical-align: middle;\n",
       "    }\n",
       "\n",
       "    .dataframe tbody tr th {\n",
       "        vertical-align: top;\n",
       "    }\n",
       "\n",
       "    .dataframe thead th {\n",
       "        text-align: right;\n",
       "    }\n",
       "</style>\n",
       "<table border=\"1\" class=\"dataframe\">\n",
       "  <thead>\n",
       "    <tr style=\"text-align: right;\">\n",
       "      <th></th>\n",
       "      <th>author</th>\n",
       "      <th>Средняя_оценка</th>\n",
       "    </tr>\n",
       "  </thead>\n",
       "  <tbody>\n",
       "    <tr>\n",
       "      <th>0</th>\n",
       "      <td>J.K. Rowling/Mary GrandPré</td>\n",
       "      <td>4.285</td>\n",
       "    </tr>\n",
       "  </tbody>\n",
       "</table>\n",
       "</div>"
      ],
      "text/plain": [
       "                       author  Средняя_оценка\n",
       "0  J.K. Rowling/Mary GrandPré           4.285"
      ]
     },
     "execution_count": 46,
     "metadata": {},
     "output_type": "execute_result"
    }
   ],
   "source": [
    "query = '''WITH table_1 AS (\n",
    "                 SELECT book_id, COUNT(rating) AS Количество_оценок, round(AVG(rating), 2) AS Оценки\n",
    "                 FROM ratings\n",
    "                 GROUP BY book_id\n",
    "                 HAVING COUNT(rating) >= 50) \n",
    "           SELECT author, AVG(Оценки) AS Средняя_оценка\n",
    "           FROM table_1 INNER JOIN books USING (book_id)\n",
    "                        INNER JOIN authors USING (author_id)\n",
    "           GROUP BY author\n",
    "           ORDER BY Средняя_оценка DESC\n",
    "           LIMIT 1'''\n",
    "\n",
    "select(query)"
   ]
  },
  {
   "cell_type": "markdown",
   "id": "79cc07c0",
   "metadata": {},
   "source": [
    "**Автор с самой высокой средней оценкой книг - J.K. Rowling.**"
   ]
  },
  {
   "cell_type": "markdown",
   "id": "786c96d8",
   "metadata": {},
   "source": [
    "### 5. Посчитайте среднее количество обзоров от пользователей, которые поставили больше 48 оценок."
   ]
  },
  {
   "cell_type": "code",
   "execution_count": 50,
   "id": "216f1c2f",
   "metadata": {},
   "outputs": [
    {
     "data": {
      "text/html": [
       "<div>\n",
       "<style scoped>\n",
       "    .dataframe tbody tr th:only-of-type {\n",
       "        vertical-align: middle;\n",
       "    }\n",
       "\n",
       "    .dataframe tbody tr th {\n",
       "        vertical-align: top;\n",
       "    }\n",
       "\n",
       "    .dataframe thead th {\n",
       "        text-align: right;\n",
       "    }\n",
       "</style>\n",
       "<table border=\"1\" class=\"dataframe\">\n",
       "  <thead>\n",
       "    <tr style=\"text-align: right;\">\n",
       "      <th></th>\n",
       "      <th>Средн_количество_обзоров</th>\n",
       "    </tr>\n",
       "  </thead>\n",
       "  <tbody>\n",
       "    <tr>\n",
       "      <th>0</th>\n",
       "      <td>24.0</td>\n",
       "    </tr>\n",
       "  </tbody>\n",
       "</table>\n",
       "</div>"
      ],
      "text/plain": [
       "   Средн_количество_обзоров\n",
       "0                      24.0"
      ]
     },
     "execution_count": 50,
     "metadata": {},
     "output_type": "execute_result"
    }
   ],
   "source": [
    "query = '''WITH table_1 AS (\n",
    "           SELECT username, COUNT(review_id) AS Количество_обзоров\n",
    "           FROM (\n",
    "                SELECT username, COUNT(rating) AS Количество_оценок FROM ratings\n",
    "                GROUP BY username\n",
    "                HAVING COUNT(rating) > 48) AS t_1 \n",
    "                                                INNER JOIN reviews USING (username)\n",
    "           GROUP BY username)\n",
    "           SELECT AVG(Количество_обзоров) AS Средн_количество_обзоров\n",
    "           FROM table_1'''\n",
    "\n",
    "\n",
    "select(query)"
   ]
  },
  {
   "cell_type": "markdown",
   "id": "14efc8c0",
   "metadata": {},
   "source": [
    "Пользователи, которые поставили более 48 оценок, имеют в среднем 24 обзора."
   ]
  }
 ],
 "metadata": {
  "ExecuteTimeLog": [
   {
    "duration": 12496,
    "start_time": "2023-06-23T18:08:34.913Z"
   },
   {
    "duration": 18,
    "start_time": "2023-06-23T18:08:59.205Z"
   },
   {
    "duration": 3,
    "start_time": "2023-06-23T18:11:47.262Z"
   },
   {
    "duration": 45,
    "start_time": "2023-06-23T18:11:49.306Z"
   },
   {
    "duration": 149,
    "start_time": "2023-06-23T18:11:50.805Z"
   },
   {
    "duration": 7,
    "start_time": "2023-06-23T18:12:06.440Z"
   },
   {
    "duration": 3,
    "start_time": "2023-06-23T18:12:08.051Z"
   },
   {
    "duration": 27,
    "start_time": "2023-06-23T18:12:09.547Z"
   },
   {
    "duration": 3,
    "start_time": "2023-06-23T18:12:28.903Z"
   },
   {
    "duration": 44,
    "start_time": "2023-06-23T18:12:30.311Z"
   },
   {
    "duration": 51,
    "start_time": "2023-06-23T18:12:31.803Z"
   },
   {
    "duration": 3,
    "start_time": "2023-06-23T18:14:09.072Z"
   },
   {
    "duration": 75,
    "start_time": "2023-06-23T18:14:10.405Z"
   },
   {
    "duration": 47,
    "start_time": "2023-06-23T18:14:11.916Z"
   },
   {
    "duration": 8,
    "start_time": "2023-06-23T18:15:06.530Z"
   },
   {
    "duration": 3,
    "start_time": "2023-06-23T18:15:07.860Z"
   },
   {
    "duration": 22,
    "start_time": "2023-06-23T18:15:10.340Z"
   },
   {
    "duration": 4,
    "start_time": "2023-06-23T18:15:28.927Z"
   },
   {
    "duration": 3,
    "start_time": "2023-06-23T18:15:30.954Z"
   },
   {
    "duration": 24,
    "start_time": "2023-06-23T18:15:32.651Z"
   },
   {
    "duration": 3,
    "start_time": "2023-06-23T18:15:40.907Z"
   },
   {
    "duration": 14,
    "start_time": "2023-06-23T18:15:43.315Z"
   },
   {
    "duration": 26,
    "start_time": "2023-06-23T18:15:44.907Z"
   },
   {
    "duration": 4,
    "start_time": "2023-06-23T18:16:18.358Z"
   },
   {
    "duration": 27,
    "start_time": "2023-06-23T18:16:20.272Z"
   },
   {
    "duration": 52,
    "start_time": "2023-06-23T18:16:23.407Z"
   },
   {
    "duration": 3,
    "start_time": "2023-06-23T18:16:36.843Z"
   },
   {
    "duration": 117,
    "start_time": "2023-06-23T18:16:39.075Z"
   },
   {
    "duration": 59,
    "start_time": "2023-06-23T18:16:40.508Z"
   },
   {
    "duration": 3,
    "start_time": "2023-06-23T18:17:06.042Z"
   },
   {
    "duration": 57,
    "start_time": "2023-06-23T18:17:08.011Z"
   },
   {
    "duration": 31,
    "start_time": "2023-06-23T18:17:11.674Z"
   },
   {
    "duration": 9,
    "start_time": "2023-06-23T18:18:47.112Z"
   },
   {
    "duration": 12,
    "start_time": "2023-06-23T18:18:48.710Z"
   },
   {
    "duration": 20,
    "start_time": "2023-06-23T18:18:52.263Z"
   },
   {
    "duration": 3,
    "start_time": "2023-06-23T18:20:25.597Z"
   },
   {
    "duration": 3,
    "start_time": "2023-06-23T18:20:27.852Z"
   },
   {
    "duration": 21,
    "start_time": "2023-06-23T18:20:30.457Z"
   },
   {
    "duration": 3,
    "start_time": "2023-06-23T18:22:58.359Z"
   },
   {
    "duration": 5,
    "start_time": "2023-06-23T18:22:59.720Z"
   },
   {
    "duration": 31,
    "start_time": "2023-06-23T18:23:01.206Z"
   },
   {
    "duration": 3,
    "start_time": "2023-06-23T18:24:42.607Z"
   },
   {
    "duration": 3,
    "start_time": "2023-06-23T18:24:44.164Z"
   },
   {
    "duration": 61,
    "start_time": "2023-06-23T18:24:45.913Z"
   },
   {
    "duration": 8,
    "start_time": "2023-06-23T18:25:00.914Z"
   },
   {
    "duration": 28,
    "start_time": "2023-06-23T18:25:03.059Z"
   },
   {
    "duration": 57,
    "start_time": "2023-06-23T18:25:04.508Z"
   },
   {
    "duration": 3,
    "start_time": "2023-06-23T18:25:12.258Z"
   },
   {
    "duration": 2,
    "start_time": "2023-06-23T18:25:16.480Z"
   },
   {
    "duration": 3,
    "start_time": "2023-06-23T18:25:18.056Z"
   },
   {
    "duration": 28,
    "start_time": "2023-06-23T18:25:19.864Z"
   },
   {
    "duration": 2,
    "start_time": "2023-06-23T18:25:26.258Z"
   },
   {
    "duration": 7,
    "start_time": "2023-06-23T18:25:28.951Z"
   },
   {
    "duration": 5,
    "start_time": "2023-06-23T18:25:30.400Z"
   },
   {
    "duration": 30,
    "start_time": "2023-06-23T18:25:32.271Z"
   },
   {
    "duration": 3,
    "start_time": "2023-06-23T18:26:38.483Z"
   },
   {
    "duration": 9,
    "start_time": "2023-06-23T18:26:39.963Z"
   },
   {
    "duration": 52,
    "start_time": "2023-06-23T18:26:41.814Z"
   },
   {
    "duration": 12,
    "start_time": "2023-06-23T18:27:57.254Z"
   },
   {
    "duration": 30,
    "start_time": "2023-06-23T18:29:15.857Z"
   },
   {
    "duration": 29,
    "start_time": "2023-06-23T18:30:24.364Z"
   },
   {
    "duration": 22,
    "start_time": "2023-06-23T18:30:55.381Z"
   },
   {
    "duration": 20,
    "start_time": "2023-06-23T18:31:04.281Z"
   },
   {
    "duration": 47,
    "start_time": "2023-06-23T18:31:20.411Z"
   },
   {
    "duration": 16,
    "start_time": "2023-06-23T18:32:34.982Z"
   },
   {
    "duration": 41,
    "start_time": "2023-06-23T18:34:10.533Z"
   },
   {
    "duration": 28,
    "start_time": "2023-06-23T18:34:22.430Z"
   },
   {
    "duration": 21,
    "start_time": "2023-06-23T18:34:46.652Z"
   },
   {
    "duration": 32,
    "start_time": "2023-06-23T18:35:12.650Z"
   },
   {
    "duration": 17,
    "start_time": "2023-06-23T18:36:04.562Z"
   },
   {
    "duration": 23,
    "start_time": "2023-06-23T18:36:20.459Z"
   },
   {
    "duration": 20,
    "start_time": "2023-06-23T18:36:28.061Z"
   },
   {
    "duration": 42,
    "start_time": "2023-06-23T18:38:34.239Z"
   },
   {
    "duration": 34,
    "start_time": "2023-06-23T18:38:40.054Z"
   },
   {
    "duration": 21,
    "start_time": "2023-06-23T18:40:34.946Z"
   },
   {
    "duration": 45,
    "start_time": "2023-06-23T18:40:46.318Z"
   },
   {
    "duration": 76,
    "start_time": "2023-06-23T19:07:31.680Z"
   },
   {
    "duration": 48,
    "start_time": "2023-06-23T19:07:49.008Z"
   },
   {
    "duration": 46,
    "start_time": "2023-06-23T19:08:18.224Z"
   },
   {
    "duration": 26,
    "start_time": "2023-06-23T19:08:59.057Z"
   },
   {
    "duration": 26,
    "start_time": "2023-06-23T19:10:46.159Z"
   },
   {
    "duration": 26,
    "start_time": "2023-06-23T19:11:29.771Z"
   },
   {
    "duration": 48,
    "start_time": "2023-06-23T19:11:50.456Z"
   },
   {
    "duration": 23,
    "start_time": "2023-06-23T19:12:09.502Z"
   },
   {
    "duration": 22,
    "start_time": "2023-06-23T19:12:17.967Z"
   },
   {
    "duration": 22,
    "start_time": "2023-06-23T19:13:09.101Z"
   },
   {
    "duration": 57,
    "start_time": "2023-06-23T19:18:18.504Z"
   },
   {
    "duration": 59,
    "start_time": "2023-06-23T19:18:50.812Z"
   },
   {
    "duration": 24,
    "start_time": "2023-06-23T19:19:00.272Z"
   },
   {
    "duration": 49,
    "start_time": "2023-06-23T19:19:59.573Z"
   },
   {
    "duration": 22,
    "start_time": "2023-06-23T19:20:32.563Z"
   },
   {
    "duration": 30,
    "start_time": "2023-06-23T19:21:13.803Z"
   },
   {
    "duration": 22,
    "start_time": "2023-06-23T19:23:22.059Z"
   },
   {
    "duration": 112,
    "start_time": "2023-06-23T19:23:48.210Z"
   },
   {
    "duration": 31,
    "start_time": "2023-06-23T19:24:04.957Z"
   },
   {
    "duration": 36,
    "start_time": "2023-06-23T19:25:30.098Z"
   },
   {
    "duration": 58,
    "start_time": "2023-06-23T19:26:44.206Z"
   },
   {
    "duration": 53,
    "start_time": "2023-06-23T19:29:38.214Z"
   },
   {
    "duration": 18,
    "start_time": "2023-06-23T19:29:57.145Z"
   },
   {
    "duration": 38,
    "start_time": "2023-06-23T19:30:46.406Z"
   },
   {
    "duration": 16,
    "start_time": "2023-06-23T19:31:56.041Z"
   },
   {
    "duration": 21,
    "start_time": "2023-06-23T19:32:28.348Z"
   },
   {
    "duration": 35,
    "start_time": "2023-06-23T19:32:39.654Z"
   },
   {
    "duration": 30,
    "start_time": "2023-06-23T19:32:50.005Z"
   },
   {
    "duration": 40,
    "start_time": "2023-06-23T19:33:35.698Z"
   },
   {
    "duration": 23,
    "start_time": "2023-06-23T19:33:46.908Z"
   },
   {
    "duration": 24,
    "start_time": "2023-06-23T19:34:03.558Z"
   },
   {
    "duration": 17,
    "start_time": "2023-06-23T19:34:25.574Z"
   },
   {
    "duration": 17,
    "start_time": "2023-06-23T19:34:54.952Z"
   },
   {
    "duration": 40,
    "start_time": "2023-06-23T19:37:13.310Z"
   },
   {
    "duration": 19,
    "start_time": "2023-06-23T19:37:36.843Z"
   },
   {
    "duration": 22,
    "start_time": "2023-06-23T19:40:16.039Z"
   },
   {
    "duration": 25,
    "start_time": "2023-06-23T19:40:30.446Z"
   },
   {
    "duration": 20,
    "start_time": "2023-06-23T19:40:55.161Z"
   },
   {
    "duration": 55,
    "start_time": "2023-06-25T07:53:54.283Z"
   },
   {
    "duration": 109,
    "start_time": "2023-06-25T07:53:58.977Z"
   },
   {
    "duration": 0,
    "start_time": "2023-06-25T07:53:59.088Z"
   },
   {
    "duration": 0,
    "start_time": "2023-06-25T07:53:59.089Z"
   },
   {
    "duration": 0,
    "start_time": "2023-06-25T07:53:59.091Z"
   },
   {
    "duration": 0,
    "start_time": "2023-06-25T07:53:59.092Z"
   },
   {
    "duration": 0,
    "start_time": "2023-06-25T07:53:59.093Z"
   },
   {
    "duration": 0,
    "start_time": "2023-06-25T07:53:59.094Z"
   },
   {
    "duration": 0,
    "start_time": "2023-06-25T07:53:59.095Z"
   },
   {
    "duration": 0,
    "start_time": "2023-06-25T07:53:59.096Z"
   },
   {
    "duration": 0,
    "start_time": "2023-06-25T07:53:59.097Z"
   },
   {
    "duration": 0,
    "start_time": "2023-06-25T07:53:59.098Z"
   },
   {
    "duration": 0,
    "start_time": "2023-06-25T07:53:59.099Z"
   },
   {
    "duration": 0,
    "start_time": "2023-06-25T07:53:59.100Z"
   },
   {
    "duration": 0,
    "start_time": "2023-06-25T07:53:59.101Z"
   },
   {
    "duration": 0,
    "start_time": "2023-06-25T07:53:59.102Z"
   },
   {
    "duration": 0,
    "start_time": "2023-06-25T07:53:59.103Z"
   },
   {
    "duration": 13223,
    "start_time": "2023-06-25T07:54:23.724Z"
   },
   {
    "duration": 55,
    "start_time": "2023-06-25T07:54:43.714Z"
   },
   {
    "duration": 21,
    "start_time": "2023-06-25T07:56:27.982Z"
   },
   {
    "duration": 15,
    "start_time": "2023-06-25T07:57:30.694Z"
   },
   {
    "duration": 27,
    "start_time": "2023-06-25T07:58:07.713Z"
   },
   {
    "duration": 4,
    "start_time": "2023-06-25T08:03:30.102Z"
   },
   {
    "duration": 4,
    "start_time": "2023-06-25T08:07:43.187Z"
   },
   {
    "duration": 3,
    "start_time": "2023-06-25T08:07:56.887Z"
   },
   {
    "duration": 4,
    "start_time": "2023-06-25T08:08:02.373Z"
   },
   {
    "duration": 89,
    "start_time": "2023-06-25T08:09:13.940Z"
   },
   {
    "duration": 23,
    "start_time": "2023-06-25T08:09:40.681Z"
   },
   {
    "duration": 18,
    "start_time": "2023-06-25T08:09:58.199Z"
   },
   {
    "duration": 17,
    "start_time": "2023-06-25T08:10:04.789Z"
   },
   {
    "duration": 10,
    "start_time": "2023-06-25T08:11:09.618Z"
   },
   {
    "duration": 4,
    "start_time": "2023-06-25T08:11:22.110Z"
   },
   {
    "duration": 41,
    "start_time": "2023-06-25T08:12:15.948Z"
   },
   {
    "duration": 28,
    "start_time": "2023-06-25T08:12:43.187Z"
   },
   {
    "duration": 133,
    "start_time": "2023-06-25T08:13:12.409Z"
   },
   {
    "duration": 57,
    "start_time": "2023-06-25T08:13:22.127Z"
   },
   {
    "duration": 14,
    "start_time": "2023-06-25T08:14:38.819Z"
   },
   {
    "duration": 13,
    "start_time": "2023-06-25T08:15:33.087Z"
   },
   {
    "duration": 17,
    "start_time": "2023-06-25T08:16:14.038Z"
   },
   {
    "duration": 13,
    "start_time": "2023-06-25T08:16:52.978Z"
   },
   {
    "duration": 20,
    "start_time": "2023-06-25T08:17:12.580Z"
   },
   {
    "duration": 11,
    "start_time": "2023-06-25T08:18:14.617Z"
   },
   {
    "duration": 38,
    "start_time": "2023-06-25T08:22:28.874Z"
   },
   {
    "duration": 91,
    "start_time": "2023-06-25T08:22:45.657Z"
   },
   {
    "duration": 60,
    "start_time": "2023-06-25T08:23:10.859Z"
   },
   {
    "duration": 31,
    "start_time": "2023-06-25T08:26:41.695Z"
   },
   {
    "duration": 65,
    "start_time": "2023-06-25T08:26:51.435Z"
   },
   {
    "duration": 16,
    "start_time": "2023-06-25T08:27:01.435Z"
   },
   {
    "duration": 42,
    "start_time": "2023-06-25T08:28:48.833Z"
   },
   {
    "duration": 54,
    "start_time": "2023-06-25T08:29:08.494Z"
   },
   {
    "duration": 55,
    "start_time": "2023-06-25T08:29:22.094Z"
   },
   {
    "duration": 101,
    "start_time": "2023-06-25T08:30:19.472Z"
   },
   {
    "duration": 92,
    "start_time": "2023-06-25T08:30:25.986Z"
   },
   {
    "duration": 16,
    "start_time": "2023-06-25T08:30:30.571Z"
   },
   {
    "duration": 20,
    "start_time": "2023-06-25T08:30:45.977Z"
   },
   {
    "duration": 22,
    "start_time": "2023-06-25T08:33:48.414Z"
   },
   {
    "duration": 29,
    "start_time": "2023-06-25T08:34:30.514Z"
   },
   {
    "duration": 79,
    "start_time": "2023-06-25T08:34:37.457Z"
   },
   {
    "duration": 38,
    "start_time": "2023-06-25T08:35:10.693Z"
   },
   {
    "duration": 59,
    "start_time": "2023-06-25T08:35:25.276Z"
   },
   {
    "duration": 28,
    "start_time": "2023-06-25T08:36:17.191Z"
   },
   {
    "duration": 16,
    "start_time": "2023-06-25T08:36:44.197Z"
   },
   {
    "duration": 16,
    "start_time": "2023-06-25T08:38:25.923Z"
   },
   {
    "duration": 16,
    "start_time": "2023-06-25T08:38:32.327Z"
   },
   {
    "duration": 58,
    "start_time": "2023-06-25T08:38:47.080Z"
   },
   {
    "duration": 97,
    "start_time": "2023-06-25T08:38:55.473Z"
   }
  ],
  "kernelspec": {
   "display_name": "Python 3 (ipykernel)",
   "language": "python",
   "name": "python3"
  },
  "language_info": {
   "codemirror_mode": {
    "name": "ipython",
    "version": 3
   },
   "file_extension": ".py",
   "mimetype": "text/x-python",
   "name": "python",
   "nbconvert_exporter": "python",
   "pygments_lexer": "ipython3",
   "version": "3.9.5"
  },
  "toc": {
   "base_numbering": 1,
   "nav_menu": {},
   "number_sections": false,
   "sideBar": true,
   "skip_h1_title": true,
   "title_cell": "Содержание",
   "title_sidebar": "Contents",
   "toc_cell": true,
   "toc_position": {},
   "toc_section_display": true,
   "toc_window_display": false
  }
 },
 "nbformat": 4,
 "nbformat_minor": 5
}
